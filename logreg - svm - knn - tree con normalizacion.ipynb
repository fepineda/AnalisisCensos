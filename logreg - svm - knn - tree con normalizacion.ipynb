{
 "cells": [
  {
   "cell_type": "code",
   "execution_count": 1,
   "metadata": {},
   "outputs": [],
   "source": [
    "import pandas as pd\n",
    "import numpy as np\n",
    "from sklearn import preprocessing\n",
    "import matplotlib.pyplot as plt \n",
    "plt.rc(\"font\", size=14)\n",
    "from sklearn.linear_model import LogisticRegression\n",
    "from sklearn.model_selection import train_test_split\n",
    "from sklearn.model_selection import cross_val_score\n",
    "from sklearn.metrics import confusion_matrix\n",
    "from sklearn.metrics import classification_report\n",
    "from sklearn.metrics import roc_auc_score\n",
    "from sklearn.metrics import roc_curve\n",
    "from sklearn.neighbors import KNeighborsClassifier\n",
    "from sklearn import metrics\n",
    "from sklearn import svm\n",
    "from sklearn import tree\n",
    "from sklearn.preprocessing import scale\n",
    "import seaborn as sns\n",
    "sns.set(style=\"white\")\n",
    "sns.set(style=\"whitegrid\", color_codes=True)\n",
    "%matplotlib inline\n",
    "data = pd.read_csv(\"adult.csv\")"
   ]
  },
  {
   "cell_type": "code",
   "execution_count": 2,
   "metadata": {},
   "outputs": [
    {
     "data": {
      "text/plain": [
       "(32561, 15)"
      ]
     },
     "execution_count": 2,
     "metadata": {},
     "output_type": "execute_result"
    }
   ],
   "source": [
    "#Tamaño del conjunto de datos\n",
    "data.shape  #tenemos 32561 filas y 15 columnas"
   ]
  },
  {
   "cell_type": "code",
   "execution_count": 3,
   "metadata": {},
   "outputs": [
    {
     "data": {
      "text/html": [
       "<div>\n",
       "<style scoped>\n",
       "    .dataframe tbody tr th:only-of-type {\n",
       "        vertical-align: middle;\n",
       "    }\n",
       "\n",
       "    .dataframe tbody tr th {\n",
       "        vertical-align: top;\n",
       "    }\n",
       "\n",
       "    .dataframe thead th {\n",
       "        text-align: right;\n",
       "    }\n",
       "</style>\n",
       "<table border=\"1\" class=\"dataframe\">\n",
       "  <thead>\n",
       "    <tr style=\"text-align: right;\">\n",
       "      <th></th>\n",
       "      <th>age</th>\n",
       "      <th>workclass</th>\n",
       "      <th>fnlwgt</th>\n",
       "      <th>education</th>\n",
       "      <th>education.num</th>\n",
       "      <th>marital.status</th>\n",
       "      <th>occupation</th>\n",
       "      <th>relationship</th>\n",
       "      <th>race</th>\n",
       "      <th>sex</th>\n",
       "      <th>capital.gain</th>\n",
       "      <th>capital.loss</th>\n",
       "      <th>hours.per.week</th>\n",
       "      <th>native.country</th>\n",
       "      <th>income</th>\n",
       "    </tr>\n",
       "  </thead>\n",
       "  <tbody>\n",
       "    <tr>\n",
       "      <th>0</th>\n",
       "      <td>90</td>\n",
       "      <td>?</td>\n",
       "      <td>77053</td>\n",
       "      <td>HS-grad</td>\n",
       "      <td>9</td>\n",
       "      <td>Widowed</td>\n",
       "      <td>?</td>\n",
       "      <td>Not-in-family</td>\n",
       "      <td>White</td>\n",
       "      <td>Female</td>\n",
       "      <td>0</td>\n",
       "      <td>4356</td>\n",
       "      <td>40</td>\n",
       "      <td>United-States</td>\n",
       "      <td>&lt;=50K</td>\n",
       "    </tr>\n",
       "    <tr>\n",
       "      <th>1</th>\n",
       "      <td>82</td>\n",
       "      <td>Private</td>\n",
       "      <td>132870</td>\n",
       "      <td>HS-grad</td>\n",
       "      <td>9</td>\n",
       "      <td>Widowed</td>\n",
       "      <td>Exec-managerial</td>\n",
       "      <td>Not-in-family</td>\n",
       "      <td>White</td>\n",
       "      <td>Female</td>\n",
       "      <td>0</td>\n",
       "      <td>4356</td>\n",
       "      <td>18</td>\n",
       "      <td>United-States</td>\n",
       "      <td>&lt;=50K</td>\n",
       "    </tr>\n",
       "    <tr>\n",
       "      <th>2</th>\n",
       "      <td>66</td>\n",
       "      <td>?</td>\n",
       "      <td>186061</td>\n",
       "      <td>Some-college</td>\n",
       "      <td>10</td>\n",
       "      <td>Widowed</td>\n",
       "      <td>?</td>\n",
       "      <td>Unmarried</td>\n",
       "      <td>Black</td>\n",
       "      <td>Female</td>\n",
       "      <td>0</td>\n",
       "      <td>4356</td>\n",
       "      <td>40</td>\n",
       "      <td>United-States</td>\n",
       "      <td>&lt;=50K</td>\n",
       "    </tr>\n",
       "    <tr>\n",
       "      <th>3</th>\n",
       "      <td>54</td>\n",
       "      <td>Private</td>\n",
       "      <td>140359</td>\n",
       "      <td>7th-8th</td>\n",
       "      <td>4</td>\n",
       "      <td>Divorced</td>\n",
       "      <td>Machine-op-inspct</td>\n",
       "      <td>Unmarried</td>\n",
       "      <td>White</td>\n",
       "      <td>Female</td>\n",
       "      <td>0</td>\n",
       "      <td>3900</td>\n",
       "      <td>40</td>\n",
       "      <td>United-States</td>\n",
       "      <td>&lt;=50K</td>\n",
       "    </tr>\n",
       "    <tr>\n",
       "      <th>4</th>\n",
       "      <td>41</td>\n",
       "      <td>Private</td>\n",
       "      <td>264663</td>\n",
       "      <td>Some-college</td>\n",
       "      <td>10</td>\n",
       "      <td>Separated</td>\n",
       "      <td>Prof-specialty</td>\n",
       "      <td>Own-child</td>\n",
       "      <td>White</td>\n",
       "      <td>Female</td>\n",
       "      <td>0</td>\n",
       "      <td>3900</td>\n",
       "      <td>40</td>\n",
       "      <td>United-States</td>\n",
       "      <td>&lt;=50K</td>\n",
       "    </tr>\n",
       "  </tbody>\n",
       "</table>\n",
       "</div>"
      ],
      "text/plain": [
       "   age workclass  fnlwgt     education  education.num marital.status  \\\n",
       "0   90         ?   77053       HS-grad              9        Widowed   \n",
       "1   82   Private  132870       HS-grad              9        Widowed   \n",
       "2   66         ?  186061  Some-college             10        Widowed   \n",
       "3   54   Private  140359       7th-8th              4       Divorced   \n",
       "4   41   Private  264663  Some-college             10      Separated   \n",
       "\n",
       "          occupation   relationship   race     sex  capital.gain  \\\n",
       "0                  ?  Not-in-family  White  Female             0   \n",
       "1    Exec-managerial  Not-in-family  White  Female             0   \n",
       "2                  ?      Unmarried  Black  Female             0   \n",
       "3  Machine-op-inspct      Unmarried  White  Female             0   \n",
       "4     Prof-specialty      Own-child  White  Female             0   \n",
       "\n",
       "   capital.loss  hours.per.week native.country income  \n",
       "0          4356              40  United-States  <=50K  \n",
       "1          4356              18  United-States  <=50K  \n",
       "2          4356              40  United-States  <=50K  \n",
       "3          3900              40  United-States  <=50K  \n",
       "4          3900              40  United-States  <=50K  "
      ]
     },
     "execution_count": 3,
     "metadata": {},
     "output_type": "execute_result"
    }
   ],
   "source": [
    "data.head()"
   ]
  },
  {
   "cell_type": "markdown",
   "metadata": {},
   "source": [
    "## Para los valores perdidos utilizaremos la moda para reemplazarlos\n",
    "Realizamos un conteo de los atributo"
   ]
  },
  {
   "cell_type": "code",
   "execution_count": 4,
   "metadata": {},
   "outputs": [
    {
     "data": {
      "text/plain": [
       "age               32561\n",
       "workclass         32561\n",
       "fnlwgt            32561\n",
       "education         32561\n",
       "education.num     32561\n",
       "marital.status    32561\n",
       "occupation        32561\n",
       "relationship      32561\n",
       "race              32561\n",
       "sex               32561\n",
       "capital.gain      32561\n",
       "capital.loss      32561\n",
       "hours.per.week    32561\n",
       "native.country    32561\n",
       "income            32561\n",
       "dtype: int64"
      ]
     },
     "execution_count": 4,
     "metadata": {},
     "output_type": "execute_result"
    }
   ],
   "source": [
    "data.count()"
   ]
  },
  {
   "cell_type": "code",
   "execution_count": 78,
   "metadata": {},
   "outputs": [
    {
     "data": {
      "text/plain": [
       "age               1.860557e+02\n",
       "fnlwgt            1.114046e+10\n",
       "education.num     6.618687e+00\n",
       "capital.gain      5.454086e+07\n",
       "capital.loss      1.623720e+05\n",
       "hours.per.week    1.524543e+02\n",
       "dtype: float64"
      ]
     },
     "execution_count": 78,
     "metadata": {},
     "output_type": "execute_result"
    }
   ],
   "source": [
    "np.var(data)"
   ]
  },
  {
   "cell_type": "markdown",
   "metadata": {},
   "source": [
    "# Limpieza de datos inmcopletos\n",
    "- Calculamos la moda\n",
    "- El valor de la moda se reemplaza los valores faltantes"
   ]
  },
  {
   "cell_type": "code",
   "execution_count": 5,
   "metadata": {},
   "outputs": [
    {
     "name": "stdout",
     "output_type": "stream",
     "text": [
      "La moda del atributo workclass es:  Private\n",
      "La moda del atributo occupation es:  Prof-specialty\n",
      "La moda del atributo native.country es:  United-States\n"
     ]
    },
    {
     "data": {
      "text/html": [
       "<div>\n",
       "<style scoped>\n",
       "    .dataframe tbody tr th:only-of-type {\n",
       "        vertical-align: middle;\n",
       "    }\n",
       "\n",
       "    .dataframe tbody tr th {\n",
       "        vertical-align: top;\n",
       "    }\n",
       "\n",
       "    .dataframe thead th {\n",
       "        text-align: right;\n",
       "    }\n",
       "</style>\n",
       "<table border=\"1\" class=\"dataframe\">\n",
       "  <thead>\n",
       "    <tr style=\"text-align: right;\">\n",
       "      <th></th>\n",
       "      <th>age</th>\n",
       "      <th>workclass</th>\n",
       "      <th>fnlwgt</th>\n",
       "      <th>education</th>\n",
       "      <th>education.num</th>\n",
       "      <th>marital.status</th>\n",
       "      <th>occupation</th>\n",
       "      <th>relationship</th>\n",
       "      <th>race</th>\n",
       "      <th>sex</th>\n",
       "      <th>capital.gain</th>\n",
       "      <th>capital.loss</th>\n",
       "      <th>hours.per.week</th>\n",
       "      <th>native.country</th>\n",
       "      <th>income</th>\n",
       "    </tr>\n",
       "  </thead>\n",
       "  <tbody>\n",
       "    <tr>\n",
       "      <th>0</th>\n",
       "      <td>90</td>\n",
       "      <td>Private</td>\n",
       "      <td>77053</td>\n",
       "      <td>HS-grad</td>\n",
       "      <td>9</td>\n",
       "      <td>Widowed</td>\n",
       "      <td>Prof-specialty</td>\n",
       "      <td>Not-in-family</td>\n",
       "      <td>White</td>\n",
       "      <td>Female</td>\n",
       "      <td>0</td>\n",
       "      <td>4356</td>\n",
       "      <td>40</td>\n",
       "      <td>United-States</td>\n",
       "      <td>&lt;=50K</td>\n",
       "    </tr>\n",
       "    <tr>\n",
       "      <th>1</th>\n",
       "      <td>82</td>\n",
       "      <td>Private</td>\n",
       "      <td>132870</td>\n",
       "      <td>HS-grad</td>\n",
       "      <td>9</td>\n",
       "      <td>Widowed</td>\n",
       "      <td>Exec-managerial</td>\n",
       "      <td>Not-in-family</td>\n",
       "      <td>White</td>\n",
       "      <td>Female</td>\n",
       "      <td>0</td>\n",
       "      <td>4356</td>\n",
       "      <td>18</td>\n",
       "      <td>United-States</td>\n",
       "      <td>&lt;=50K</td>\n",
       "    </tr>\n",
       "    <tr>\n",
       "      <th>2</th>\n",
       "      <td>66</td>\n",
       "      <td>Private</td>\n",
       "      <td>186061</td>\n",
       "      <td>Some-college</td>\n",
       "      <td>10</td>\n",
       "      <td>Widowed</td>\n",
       "      <td>Prof-specialty</td>\n",
       "      <td>Unmarried</td>\n",
       "      <td>Black</td>\n",
       "      <td>Female</td>\n",
       "      <td>0</td>\n",
       "      <td>4356</td>\n",
       "      <td>40</td>\n",
       "      <td>United-States</td>\n",
       "      <td>&lt;=50K</td>\n",
       "    </tr>\n",
       "    <tr>\n",
       "      <th>3</th>\n",
       "      <td>54</td>\n",
       "      <td>Private</td>\n",
       "      <td>140359</td>\n",
       "      <td>7th-8th</td>\n",
       "      <td>4</td>\n",
       "      <td>Divorced</td>\n",
       "      <td>Machine-op-inspct</td>\n",
       "      <td>Unmarried</td>\n",
       "      <td>White</td>\n",
       "      <td>Female</td>\n",
       "      <td>0</td>\n",
       "      <td>3900</td>\n",
       "      <td>40</td>\n",
       "      <td>United-States</td>\n",
       "      <td>&lt;=50K</td>\n",
       "    </tr>\n",
       "    <tr>\n",
       "      <th>4</th>\n",
       "      <td>41</td>\n",
       "      <td>Private</td>\n",
       "      <td>264663</td>\n",
       "      <td>Some-college</td>\n",
       "      <td>10</td>\n",
       "      <td>Separated</td>\n",
       "      <td>Prof-specialty</td>\n",
       "      <td>Own-child</td>\n",
       "      <td>White</td>\n",
       "      <td>Female</td>\n",
       "      <td>0</td>\n",
       "      <td>3900</td>\n",
       "      <td>40</td>\n",
       "      <td>United-States</td>\n",
       "      <td>&lt;=50K</td>\n",
       "    </tr>\n",
       "  </tbody>\n",
       "</table>\n",
       "</div>"
      ],
      "text/plain": [
       "   age workclass  fnlwgt     education  education.num marital.status  \\\n",
       "0   90   Private   77053       HS-grad              9        Widowed   \n",
       "1   82   Private  132870       HS-grad              9        Widowed   \n",
       "2   66   Private  186061  Some-college             10        Widowed   \n",
       "3   54   Private  140359       7th-8th              4       Divorced   \n",
       "4   41   Private  264663  Some-college             10      Separated   \n",
       "\n",
       "          occupation   relationship   race     sex  capital.gain  \\\n",
       "0     Prof-specialty  Not-in-family  White  Female             0   \n",
       "1    Exec-managerial  Not-in-family  White  Female             0   \n",
       "2     Prof-specialty      Unmarried  Black  Female             0   \n",
       "3  Machine-op-inspct      Unmarried  White  Female             0   \n",
       "4     Prof-specialty      Own-child  White  Female             0   \n",
       "\n",
       "   capital.loss  hours.per.week native.country income  \n",
       "0          4356              40  United-States  <=50K  \n",
       "1          4356              18  United-States  <=50K  \n",
       "2          4356              40  United-States  <=50K  \n",
       "3          3900              40  United-States  <=50K  \n",
       "4          3900              40  United-States  <=50K  "
      ]
     },
     "execution_count": 5,
     "metadata": {},
     "output_type": "execute_result"
    }
   ],
   "source": [
    "data_temp=data\n",
    "#Reemplazamos en workclass\n",
    "workclass_moda=data_temp[\"workclass\"].mode()[0]\n",
    "print(\"La moda del atributo workclass es: \", workclass_moda)\n",
    "data_temp.loc[data_temp[\"workclass\"]==\"?\",\"workclass\"] = \"Private\"\n",
    "#Reemplazamos en occupation\n",
    "occupation_moda=data_temp[\"occupation\"].mode()[0]\n",
    "print(\"La moda del atributo occupation es: \", occupation_moda)\n",
    "data_temp.loc[data_temp[\"occupation\"]==\"?\",\"occupation\"] = \"Prof-specialty\"\n",
    "#Reemplazamos en native.country\n",
    "native_country_moda=data_temp[\"native.country\"].mode()[0]\n",
    "print(\"La moda del atributo native.country es: \", native_country_moda)\n",
    "data_temp.loc[data_temp[\"native.country\"]==\"?\",\"native.country\"] = \"United-States\"\n",
    "data_temp.head()"
   ]
  },
  {
   "cell_type": "code",
   "execution_count": 6,
   "metadata": {},
   "outputs": [
    {
     "data": {
      "text/plain": [
       "(32561, 15)"
      ]
     },
     "execution_count": 6,
     "metadata": {},
     "output_type": "execute_result"
    }
   ],
   "source": [
    "data_temp.shape"
   ]
  },
  {
   "cell_type": "code",
   "execution_count": null,
   "metadata": {},
   "outputs": [],
   "source": []
  },
  {
   "cell_type": "code",
   "execution_count": null,
   "metadata": {},
   "outputs": [],
   "source": [
    "\n"
   ]
  },
  {
   "cell_type": "code",
   "execution_count": 10,
   "metadata": {},
   "outputs": [],
   "source": [
    "data_limpia=data_temp"
   ]
  },
  {
   "cell_type": "markdown",
   "metadata": {},
   "source": [
    "Se reduce la categoria en el atributo marital.status, para un mejor modelo se va agrupar en solteros y casados, Married y Never-Married"
   ]
  },
  {
   "cell_type": "code",
   "execution_count": 11,
   "metadata": {},
   "outputs": [],
   "source": [
    "#data[\"marital.status\"].unique()"
   ]
  },
  {
   "cell_type": "code",
   "execution_count": 12,
   "metadata": {},
   "outputs": [],
   "source": [
    "#data_limpia.loc[data_limpia[\"marital.status\"]==\"Widowed\", \"marital.status\"]=\"Married\"\n",
    "#data_limpia.loc[data_limpia[\"marital.status\"]==\"Divorced\",\"marital.status\"]=\"Married\"\n",
    "#data_limpia.loc[data_limpia[\"marital.status\"]==\"Separated\",\"marital.status\"]=\"Married\"\n",
    "#data_limpia.loc[data_limpia[\"marital.status\"]==\"Married-civ-spouse\",\"marital.status\"]=\"Married\"\n",
    "#data_limpia.loc[data_limpia[\"marital.status\"]==\"Married-spouse-absent\",\"marital.status\"]=\"Married\"\n",
    "#data_limpia.loc[data_limpia[\"marital.status\"]==\"Married-AF-spouse\",\"marital.status\"]=\"Married\"\n",
    "#data_limpia.head()"
   ]
  },
  {
   "cell_type": "code",
   "execution_count": 13,
   "metadata": {},
   "outputs": [],
   "source": [
    "#data_limpia[\"marital.status\"].unique()"
   ]
  },
  {
   "cell_type": "markdown",
   "metadata": {},
   "source": [
    "# Exploracion de datos\n",
    "### Analizamos la clase income"
   ]
  },
  {
   "cell_type": "code",
   "execution_count": 14,
   "metadata": {},
   "outputs": [
    {
     "data": {
      "text/plain": [
       "<=50K    24720\n",
       ">50K      7841\n",
       "Name: income, dtype: int64"
      ]
     },
     "execution_count": 14,
     "metadata": {},
     "output_type": "execute_result"
    }
   ],
   "source": [
    "#Mostramos la clase income\n",
    "data_limpia[\"income\"].value_counts()"
   ]
  },
  {
   "cell_type": "code",
   "execution_count": 15,
   "metadata": {},
   "outputs": [
    {
     "data": {
      "image/png": "[encoded data removed]",
      "text/plain": [
       "<matplotlib.figure.Figure at 0x28285afbb00>"
      ]
     },
     "metadata": {},
     "output_type": "display_data"
    }
   ],
   "source": [
    "sns.countplot(x=data_limpia[\"income\"] )\n",
    "plt.show()"
   ]
  },
  {
   "cell_type": "code",
   "execution_count": 16,
   "metadata": {},
   "outputs": [
    {
     "data": {
      "text/html": [
       "<div>\n",
       "<style scoped>\n",
       "    .dataframe tbody tr th:only-of-type {\n",
       "        vertical-align: middle;\n",
       "    }\n",
       "\n",
       "    .dataframe tbody tr th {\n",
       "        vertical-align: top;\n",
       "    }\n",
       "\n",
       "    .dataframe thead th {\n",
       "        text-align: right;\n",
       "    }\n",
       "</style>\n",
       "<table border=\"1\" class=\"dataframe\">\n",
       "  <thead>\n",
       "    <tr style=\"text-align: right;\">\n",
       "      <th></th>\n",
       "      <th>age</th>\n",
       "      <th>fnlwgt</th>\n",
       "      <th>education.num</th>\n",
       "      <th>capital.gain</th>\n",
       "      <th>capital.loss</th>\n",
       "      <th>hours.per.week</th>\n",
       "    </tr>\n",
       "    <tr>\n",
       "      <th>income</th>\n",
       "      <th></th>\n",
       "      <th></th>\n",
       "      <th></th>\n",
       "      <th></th>\n",
       "      <th></th>\n",
       "      <th></th>\n",
       "    </tr>\n",
       "  </thead>\n",
       "  <tbody>\n",
       "    <tr>\n",
       "      <th>&lt;=50K</th>\n",
       "      <td>36.783738</td>\n",
       "      <td>190340.86517</td>\n",
       "      <td>9.595065</td>\n",
       "      <td>148.752468</td>\n",
       "      <td>53.142921</td>\n",
       "      <td>38.840210</td>\n",
       "    </tr>\n",
       "    <tr>\n",
       "      <th>&gt;50K</th>\n",
       "      <td>44.249841</td>\n",
       "      <td>188005.00000</td>\n",
       "      <td>11.611657</td>\n",
       "      <td>4006.142456</td>\n",
       "      <td>195.001530</td>\n",
       "      <td>45.473026</td>\n",
       "    </tr>\n",
       "  </tbody>\n",
       "</table>\n",
       "</div>"
      ],
      "text/plain": [
       "              age        fnlwgt  education.num  capital.gain  capital.loss  \\\n",
       "income                                                                       \n",
       "<=50K   36.783738  190340.86517       9.595065    148.752468     53.142921   \n",
       ">50K    44.249841  188005.00000      11.611657   4006.142456    195.001530   \n",
       "\n",
       "        hours.per.week  \n",
       "income                  \n",
       "<=50K        38.840210  \n",
       ">50K         45.473026  "
      ]
     },
     "execution_count": 16,
     "metadata": {},
     "output_type": "execute_result"
    }
   ],
   "source": [
    "#Calculo de la media de income con los atributos numericos\n",
    "data_limpia.groupby(data_limpia[\"income\"]).mean()\n",
    "#se observa que capital.gain y capital.loss tienen mucha diferencia, en menor medida la age(edad) y horas\n",
    "#por semana (hours.per.week)"
   ]
  },
  {
   "cell_type": "markdown",
   "metadata": {},
   "source": [
    "Calculamos los atributos categoricos, respecto a los numericos, se puede realizar uno por uno"
   ]
  },
  {
   "cell_type": "code",
   "execution_count": 17,
   "metadata": {},
   "outputs": [
    {
     "data": {
      "text/html": [
       "<div>\n",
       "<style scoped>\n",
       "    .dataframe tbody tr th:only-of-type {\n",
       "        vertical-align: middle;\n",
       "    }\n",
       "\n",
       "    .dataframe tbody tr th {\n",
       "        vertical-align: top;\n",
       "    }\n",
       "\n",
       "    .dataframe thead th {\n",
       "        text-align: right;\n",
       "    }\n",
       "</style>\n",
       "<table border=\"1\" class=\"dataframe\">\n",
       "  <thead>\n",
       "    <tr style=\"text-align: right;\">\n",
       "      <th></th>\n",
       "      <th>age</th>\n",
       "      <th>fnlwgt</th>\n",
       "      <th>education.num</th>\n",
       "      <th>capital.gain</th>\n",
       "      <th>capital.loss</th>\n",
       "      <th>hours.per.week</th>\n",
       "    </tr>\n",
       "    <tr>\n",
       "      <th>workclass</th>\n",
       "      <th></th>\n",
       "      <th></th>\n",
       "      <th></th>\n",
       "      <th></th>\n",
       "      <th></th>\n",
       "      <th></th>\n",
       "    </tr>\n",
       "  </thead>\n",
       "  <tbody>\n",
       "    <tr>\n",
       "      <th>Federal-gov</th>\n",
       "      <td>42.590625</td>\n",
       "      <td>185221.243750</td>\n",
       "      <td>10.973958</td>\n",
       "      <td>833.232292</td>\n",
       "      <td>112.268750</td>\n",
       "      <td>41.379167</td>\n",
       "    </tr>\n",
       "    <tr>\n",
       "      <th>Local-gov</th>\n",
       "      <td>41.751075</td>\n",
       "      <td>188639.712852</td>\n",
       "      <td>11.042045</td>\n",
       "      <td>880.202580</td>\n",
       "      <td>109.854276</td>\n",
       "      <td>40.982800</td>\n",
       "    </tr>\n",
       "    <tr>\n",
       "      <th>Never-worked</th>\n",
       "      <td>20.571429</td>\n",
       "      <td>225989.571429</td>\n",
       "      <td>7.428571</td>\n",
       "      <td>0.000000</td>\n",
       "      <td>0.000000</td>\n",
       "      <td>28.428571</td>\n",
       "    </tr>\n",
       "    <tr>\n",
       "      <th>Private</th>\n",
       "      <td>37.109123</td>\n",
       "      <td>192446.206791</td>\n",
       "      <td>9.833361</td>\n",
       "      <td>868.081037</td>\n",
       "      <td>78.568156</td>\n",
       "      <td>39.642345</td>\n",
       "    </tr>\n",
       "    <tr>\n",
       "      <th>Self-emp-inc</th>\n",
       "      <td>46.017025</td>\n",
       "      <td>175981.344086</td>\n",
       "      <td>11.137097</td>\n",
       "      <td>4875.693548</td>\n",
       "      <td>155.138889</td>\n",
       "      <td>48.818100</td>\n",
       "    </tr>\n",
       "    <tr>\n",
       "      <th>Self-emp-not-inc</th>\n",
       "      <td>44.969697</td>\n",
       "      <td>175608.641480</td>\n",
       "      <td>10.226289</td>\n",
       "      <td>1886.061787</td>\n",
       "      <td>116.631641</td>\n",
       "      <td>44.421881</td>\n",
       "    </tr>\n",
       "    <tr>\n",
       "      <th>State-gov</th>\n",
       "      <td>39.436055</td>\n",
       "      <td>184136.613251</td>\n",
       "      <td>11.375963</td>\n",
       "      <td>701.699538</td>\n",
       "      <td>83.256549</td>\n",
       "      <td>39.031587</td>\n",
       "    </tr>\n",
       "    <tr>\n",
       "      <th>Without-pay</th>\n",
       "      <td>47.785714</td>\n",
       "      <td>174267.500000</td>\n",
       "      <td>9.071429</td>\n",
       "      <td>487.857143</td>\n",
       "      <td>0.000000</td>\n",
       "      <td>32.714286</td>\n",
       "    </tr>\n",
       "  </tbody>\n",
       "</table>\n",
       "</div>"
      ],
      "text/plain": [
       "                        age         fnlwgt  education.num  capital.gain  \\\n",
       "workclass                                                                 \n",
       "Federal-gov       42.590625  185221.243750      10.973958    833.232292   \n",
       "Local-gov         41.751075  188639.712852      11.042045    880.202580   \n",
       "Never-worked      20.571429  225989.571429       7.428571      0.000000   \n",
       "Private           37.109123  192446.206791       9.833361    868.081037   \n",
       "Self-emp-inc      46.017025  175981.344086      11.137097   4875.693548   \n",
       "Self-emp-not-inc  44.969697  175608.641480      10.226289   1886.061787   \n",
       "State-gov         39.436055  184136.613251      11.375963    701.699538   \n",
       "Without-pay       47.785714  174267.500000       9.071429    487.857143   \n",
       "\n",
       "                  capital.loss  hours.per.week  \n",
       "workclass                                       \n",
       "Federal-gov         112.268750       41.379167  \n",
       "Local-gov           109.854276       40.982800  \n",
       "Never-worked          0.000000       28.428571  \n",
       "Private              78.568156       39.642345  \n",
       "Self-emp-inc        155.138889       48.818100  \n",
       "Self-emp-not-inc    116.631641       44.421881  \n",
       "State-gov            83.256549       39.031587  \n",
       "Without-pay           0.000000       32.714286  "
      ]
     },
     "execution_count": 17,
     "metadata": {},
     "output_type": "execute_result"
    }
   ],
   "source": [
    "data_limpia.groupby(\"workclass\").mean()"
   ]
  },
  {
   "cell_type": "code",
   "execution_count": 18,
   "metadata": {},
   "outputs": [
    {
     "data": {
      "text/html": [
       "<div>\n",
       "<style scoped>\n",
       "    .dataframe tbody tr th:only-of-type {\n",
       "        vertical-align: middle;\n",
       "    }\n",
       "\n",
       "    .dataframe tbody tr th {\n",
       "        vertical-align: top;\n",
       "    }\n",
       "\n",
       "    .dataframe thead th {\n",
       "        text-align: right;\n",
       "    }\n",
       "</style>\n",
       "<table border=\"1\" class=\"dataframe\">\n",
       "  <thead>\n",
       "    <tr style=\"text-align: right;\">\n",
       "      <th></th>\n",
       "      <th>age</th>\n",
       "      <th>fnlwgt</th>\n",
       "      <th>education.num</th>\n",
       "      <th>capital.gain</th>\n",
       "      <th>capital.loss</th>\n",
       "      <th>hours.per.week</th>\n",
       "    </tr>\n",
       "    <tr>\n",
       "      <th>education</th>\n",
       "      <th></th>\n",
       "      <th></th>\n",
       "      <th></th>\n",
       "      <th></th>\n",
       "      <th></th>\n",
       "      <th></th>\n",
       "    </tr>\n",
       "  </thead>\n",
       "  <tbody>\n",
       "    <tr>\n",
       "      <th>10th</th>\n",
       "      <td>37.429796</td>\n",
       "      <td>196832.465166</td>\n",
       "      <td>6.0</td>\n",
       "      <td>404.574491</td>\n",
       "      <td>56.845659</td>\n",
       "      <td>37.052519</td>\n",
       "    </tr>\n",
       "    <tr>\n",
       "      <th>11th</th>\n",
       "      <td>32.355745</td>\n",
       "      <td>194928.077447</td>\n",
       "      <td>7.0</td>\n",
       "      <td>215.097872</td>\n",
       "      <td>50.079149</td>\n",
       "      <td>33.925957</td>\n",
       "    </tr>\n",
       "    <tr>\n",
       "      <th>12th</th>\n",
       "      <td>32.000000</td>\n",
       "      <td>199097.508083</td>\n",
       "      <td>8.0</td>\n",
       "      <td>284.087760</td>\n",
       "      <td>32.337182</td>\n",
       "      <td>35.780600</td>\n",
       "    </tr>\n",
       "    <tr>\n",
       "      <th>1st-4th</th>\n",
       "      <td>46.142857</td>\n",
       "      <td>239303.000000</td>\n",
       "      <td>2.0</td>\n",
       "      <td>125.875000</td>\n",
       "      <td>48.327381</td>\n",
       "      <td>38.255952</td>\n",
       "    </tr>\n",
       "    <tr>\n",
       "      <th>5th-6th</th>\n",
       "      <td>42.885886</td>\n",
       "      <td>232448.333333</td>\n",
       "      <td>3.0</td>\n",
       "      <td>176.021021</td>\n",
       "      <td>68.252252</td>\n",
       "      <td>38.897898</td>\n",
       "    </tr>\n",
       "    <tr>\n",
       "      <th>7th-8th</th>\n",
       "      <td>48.445820</td>\n",
       "      <td>188079.171827</td>\n",
       "      <td>4.0</td>\n",
       "      <td>233.939628</td>\n",
       "      <td>65.668731</td>\n",
       "      <td>39.366873</td>\n",
       "    </tr>\n",
       "    <tr>\n",
       "      <th>9th</th>\n",
       "      <td>41.060311</td>\n",
       "      <td>202485.066148</td>\n",
       "      <td>5.0</td>\n",
       "      <td>342.089494</td>\n",
       "      <td>28.998054</td>\n",
       "      <td>38.044747</td>\n",
       "    </tr>\n",
       "    <tr>\n",
       "      <th>Assoc-acdm</th>\n",
       "      <td>37.381443</td>\n",
       "      <td>193424.093721</td>\n",
       "      <td>12.0</td>\n",
       "      <td>640.399250</td>\n",
       "      <td>93.418932</td>\n",
       "      <td>40.504217</td>\n",
       "    </tr>\n",
       "    <tr>\n",
       "      <th>Assoc-voc</th>\n",
       "      <td>38.553546</td>\n",
       "      <td>181936.016643</td>\n",
       "      <td>11.0</td>\n",
       "      <td>715.051375</td>\n",
       "      <td>72.754703</td>\n",
       "      <td>41.610709</td>\n",
       "    </tr>\n",
       "    <tr>\n",
       "      <th>Bachelors</th>\n",
       "      <td>38.904949</td>\n",
       "      <td>188055.914846</td>\n",
       "      <td>13.0</td>\n",
       "      <td>1756.299533</td>\n",
       "      <td>118.350327</td>\n",
       "      <td>42.614006</td>\n",
       "    </tr>\n",
       "    <tr>\n",
       "      <th>Doctorate</th>\n",
       "      <td>47.702179</td>\n",
       "      <td>186698.760291</td>\n",
       "      <td>16.0</td>\n",
       "      <td>4770.145278</td>\n",
       "      <td>262.845036</td>\n",
       "      <td>46.973366</td>\n",
       "    </tr>\n",
       "    <tr>\n",
       "      <th>HS-grad</th>\n",
       "      <td>38.974479</td>\n",
       "      <td>189538.739739</td>\n",
       "      <td>9.0</td>\n",
       "      <td>576.800114</td>\n",
       "      <td>70.466622</td>\n",
       "      <td>40.575374</td>\n",
       "    </tr>\n",
       "    <tr>\n",
       "      <th>Masters</th>\n",
       "      <td>44.049913</td>\n",
       "      <td>179852.362739</td>\n",
       "      <td>14.0</td>\n",
       "      <td>2562.563552</td>\n",
       "      <td>166.719675</td>\n",
       "      <td>43.836332</td>\n",
       "    </tr>\n",
       "    <tr>\n",
       "      <th>Preschool</th>\n",
       "      <td>42.764706</td>\n",
       "      <td>235889.372549</td>\n",
       "      <td>1.0</td>\n",
       "      <td>898.392157</td>\n",
       "      <td>66.490196</td>\n",
       "      <td>36.647059</td>\n",
       "    </tr>\n",
       "    <tr>\n",
       "      <th>Prof-school</th>\n",
       "      <td>44.746528</td>\n",
       "      <td>185663.706597</td>\n",
       "      <td>15.0</td>\n",
       "      <td>10414.416667</td>\n",
       "      <td>231.203125</td>\n",
       "      <td>47.425347</td>\n",
       "    </tr>\n",
       "    <tr>\n",
       "      <th>Some-college</th>\n",
       "      <td>35.756275</td>\n",
       "      <td>188742.922370</td>\n",
       "      <td>10.0</td>\n",
       "      <td>598.824167</td>\n",
       "      <td>71.637087</td>\n",
       "      <td>38.852284</td>\n",
       "    </tr>\n",
       "  </tbody>\n",
       "</table>\n",
       "</div>"
      ],
      "text/plain": [
       "                    age         fnlwgt  education.num  capital.gain  \\\n",
       "education                                                             \n",
       "10th          37.429796  196832.465166            6.0    404.574491   \n",
       "11th          32.355745  194928.077447            7.0    215.097872   \n",
       "12th          32.000000  199097.508083            8.0    284.087760   \n",
       "1st-4th       46.142857  239303.000000            2.0    125.875000   \n",
       "5th-6th       42.885886  232448.333333            3.0    176.021021   \n",
       "7th-8th       48.445820  188079.171827            4.0    233.939628   \n",
       "9th           41.060311  202485.066148            5.0    342.089494   \n",
       "Assoc-acdm    37.381443  193424.093721           12.0    640.399250   \n",
       "Assoc-voc     38.553546  181936.016643           11.0    715.051375   \n",
       "Bachelors     38.904949  188055.914846           13.0   1756.299533   \n",
       "Doctorate     47.702179  186698.760291           16.0   4770.145278   \n",
       "HS-grad       38.974479  189538.739739            9.0    576.800114   \n",
       "Masters       44.049913  179852.362739           14.0   2562.563552   \n",
       "Preschool     42.764706  235889.372549            1.0    898.392157   \n",
       "Prof-school   44.746528  185663.706597           15.0  10414.416667   \n",
       "Some-college  35.756275  188742.922370           10.0    598.824167   \n",
       "\n",
       "              capital.loss  hours.per.week  \n",
       "education                                   \n",
       "10th             56.845659       37.052519  \n",
       "11th             50.079149       33.925957  \n",
       "12th             32.337182       35.780600  \n",
       "1st-4th          48.327381       38.255952  \n",
       "5th-6th          68.252252       38.897898  \n",
       "7th-8th          65.668731       39.366873  \n",
       "9th              28.998054       38.044747  \n",
       "Assoc-acdm       93.418932       40.504217  \n",
       "Assoc-voc        72.754703       41.610709  \n",
       "Bachelors       118.350327       42.614006  \n",
       "Doctorate       262.845036       46.973366  \n",
       "HS-grad          70.466622       40.575374  \n",
       "Masters         166.719675       43.836332  \n",
       "Preschool        66.490196       36.647059  \n",
       "Prof-school     231.203125       47.425347  \n",
       "Some-college     71.637087       38.852284  "
      ]
     },
     "execution_count": 18,
     "metadata": {},
     "output_type": "execute_result"
    }
   ],
   "source": [
    "data_limpia.groupby(\"education\").mean()"
   ]
  },
  {
   "cell_type": "code",
   "execution_count": 19,
   "metadata": {},
   "outputs": [
    {
     "data": {
      "text/html": [
       "<div>\n",
       "<style scoped>\n",
       "    .dataframe tbody tr th:only-of-type {\n",
       "        vertical-align: middle;\n",
       "    }\n",
       "\n",
       "    .dataframe tbody tr th {\n",
       "        vertical-align: top;\n",
       "    }\n",
       "\n",
       "    .dataframe thead th {\n",
       "        text-align: right;\n",
       "    }\n",
       "</style>\n",
       "<table border=\"1\" class=\"dataframe\">\n",
       "  <thead>\n",
       "    <tr style=\"text-align: right;\">\n",
       "      <th></th>\n",
       "      <th>age</th>\n",
       "      <th>fnlwgt</th>\n",
       "      <th>education.num</th>\n",
       "      <th>capital.gain</th>\n",
       "      <th>capital.loss</th>\n",
       "      <th>hours.per.week</th>\n",
       "    </tr>\n",
       "    <tr>\n",
       "      <th>marital.status</th>\n",
       "      <th></th>\n",
       "      <th></th>\n",
       "      <th></th>\n",
       "      <th></th>\n",
       "      <th></th>\n",
       "      <th></th>\n",
       "    </tr>\n",
       "  </thead>\n",
       "  <tbody>\n",
       "    <tr>\n",
       "      <th>Divorced</th>\n",
       "      <td>43.041639</td>\n",
       "      <td>185802.790457</td>\n",
       "      <td>10.030385</td>\n",
       "      <td>728.414810</td>\n",
       "      <td>64.600720</td>\n",
       "      <td>41.246680</td>\n",
       "    </tr>\n",
       "    <tr>\n",
       "      <th>Married-AF-spouse</th>\n",
       "      <td>32.478261</td>\n",
       "      <td>188165.565217</td>\n",
       "      <td>10.173913</td>\n",
       "      <td>432.652174</td>\n",
       "      <td>0.000000</td>\n",
       "      <td>41.130435</td>\n",
       "    </tr>\n",
       "    <tr>\n",
       "      <th>Married-civ-spouse</th>\n",
       "      <td>43.247596</td>\n",
       "      <td>186763.172877</td>\n",
       "      <td>10.320646</td>\n",
       "      <td>1764.859509</td>\n",
       "      <td>122.439103</td>\n",
       "      <td>43.284856</td>\n",
       "    </tr>\n",
       "    <tr>\n",
       "      <th>Married-spouse-absent</th>\n",
       "      <td>40.578947</td>\n",
       "      <td>193141.760766</td>\n",
       "      <td>9.308612</td>\n",
       "      <td>653.983254</td>\n",
       "      <td>57.779904</td>\n",
       "      <td>39.669856</td>\n",
       "    </tr>\n",
       "    <tr>\n",
       "      <th>Never-married</th>\n",
       "      <td>28.150988</td>\n",
       "      <td>195383.308996</td>\n",
       "      <td>9.962464</td>\n",
       "      <td>376.588318</td>\n",
       "      <td>52.345502</td>\n",
       "      <td>36.939998</td>\n",
       "    </tr>\n",
       "    <tr>\n",
       "      <th>Separated</th>\n",
       "      <td>39.354146</td>\n",
       "      <td>206444.325854</td>\n",
       "      <td>9.293659</td>\n",
       "      <td>535.568780</td>\n",
       "      <td>58.110244</td>\n",
       "      <td>39.301463</td>\n",
       "    </tr>\n",
       "    <tr>\n",
       "      <th>Widowed</th>\n",
       "      <td>58.975831</td>\n",
       "      <td>174159.042296</td>\n",
       "      <td>9.093656</td>\n",
       "      <td>571.071501</td>\n",
       "      <td>79.666667</td>\n",
       "      <td>32.979859</td>\n",
       "    </tr>\n",
       "  </tbody>\n",
       "</table>\n",
       "</div>"
      ],
      "text/plain": [
       "                             age         fnlwgt  education.num  capital.gain  \\\n",
       "marital.status                                                                 \n",
       "Divorced               43.041639  185802.790457      10.030385    728.414810   \n",
       "Married-AF-spouse      32.478261  188165.565217      10.173913    432.652174   \n",
       "Married-civ-spouse     43.247596  186763.172877      10.320646   1764.859509   \n",
       "Married-spouse-absent  40.578947  193141.760766       9.308612    653.983254   \n",
       "Never-married          28.150988  195383.308996       9.962464    376.588318   \n",
       "Separated              39.354146  206444.325854       9.293659    535.568780   \n",
       "Widowed                58.975831  174159.042296       9.093656    571.071501   \n",
       "\n",
       "                       capital.loss  hours.per.week  \n",
       "marital.status                                       \n",
       "Divorced                  64.600720       41.246680  \n",
       "Married-AF-spouse          0.000000       41.130435  \n",
       "Married-civ-spouse       122.439103       43.284856  \n",
       "Married-spouse-absent     57.779904       39.669856  \n",
       "Never-married             52.345502       36.939998  \n",
       "Separated                 58.110244       39.301463  \n",
       "Widowed                   79.666667       32.979859  "
      ]
     },
     "execution_count": 19,
     "metadata": {},
     "output_type": "execute_result"
    }
   ],
   "source": [
    "data_limpia.groupby(\"marital.status\").mean()"
   ]
  },
  {
   "cell_type": "code",
   "execution_count": 20,
   "metadata": {},
   "outputs": [
    {
     "data": {
      "text/html": [
       "<div>\n",
       "<style scoped>\n",
       "    .dataframe tbody tr th:only-of-type {\n",
       "        vertical-align: middle;\n",
       "    }\n",
       "\n",
       "    .dataframe tbody tr th {\n",
       "        vertical-align: top;\n",
       "    }\n",
       "\n",
       "    .dataframe thead th {\n",
       "        text-align: right;\n",
       "    }\n",
       "</style>\n",
       "<table border=\"1\" class=\"dataframe\">\n",
       "  <thead>\n",
       "    <tr style=\"text-align: right;\">\n",
       "      <th></th>\n",
       "      <th>age</th>\n",
       "      <th>fnlwgt</th>\n",
       "      <th>education.num</th>\n",
       "      <th>capital.gain</th>\n",
       "      <th>capital.loss</th>\n",
       "      <th>hours.per.week</th>\n",
       "    </tr>\n",
       "    <tr>\n",
       "      <th>occupation</th>\n",
       "      <th></th>\n",
       "      <th></th>\n",
       "      <th></th>\n",
       "      <th></th>\n",
       "      <th></th>\n",
       "      <th></th>\n",
       "    </tr>\n",
       "  </thead>\n",
       "  <tbody>\n",
       "    <tr>\n",
       "      <th>Adm-clerical</th>\n",
       "      <td>36.964456</td>\n",
       "      <td>192043.396286</td>\n",
       "      <td>10.113528</td>\n",
       "      <td>495.954907</td>\n",
       "      <td>60.794430</td>\n",
       "      <td>37.558355</td>\n",
       "    </tr>\n",
       "    <tr>\n",
       "      <th>Armed-Forces</th>\n",
       "      <td>30.222222</td>\n",
       "      <td>215425.888889</td>\n",
       "      <td>10.111111</td>\n",
       "      <td>0.000000</td>\n",
       "      <td>209.666667</td>\n",
       "      <td>40.666667</td>\n",
       "    </tr>\n",
       "    <tr>\n",
       "      <th>Craft-repair</th>\n",
       "      <td>39.031471</td>\n",
       "      <td>192132.599658</td>\n",
       "      <td>9.110759</td>\n",
       "      <td>649.512808</td>\n",
       "      <td>88.465235</td>\n",
       "      <td>42.304221</td>\n",
       "    </tr>\n",
       "    <tr>\n",
       "      <th>Exec-managerial</th>\n",
       "      <td>42.169208</td>\n",
       "      <td>184414.012543</td>\n",
       "      <td>11.449090</td>\n",
       "      <td>2262.772996</td>\n",
       "      <td>138.838416</td>\n",
       "      <td>44.987703</td>\n",
       "    </tr>\n",
       "    <tr>\n",
       "      <th>Farming-fishing</th>\n",
       "      <td>41.211268</td>\n",
       "      <td>170190.176056</td>\n",
       "      <td>8.608652</td>\n",
       "      <td>589.726358</td>\n",
       "      <td>63.075453</td>\n",
       "      <td>46.989940</td>\n",
       "    </tr>\n",
       "    <tr>\n",
       "      <th>Handlers-cleaners</th>\n",
       "      <td>32.165693</td>\n",
       "      <td>204391.006569</td>\n",
       "      <td>8.510219</td>\n",
       "      <td>257.572993</td>\n",
       "      <td>45.635766</td>\n",
       "      <td>37.947445</td>\n",
       "    </tr>\n",
       "    <tr>\n",
       "      <th>Machine-op-inspct</th>\n",
       "      <td>37.715285</td>\n",
       "      <td>195040.877622</td>\n",
       "      <td>8.487512</td>\n",
       "      <td>328.689311</td>\n",
       "      <td>61.706294</td>\n",
       "      <td>40.755744</td>\n",
       "    </tr>\n",
       "    <tr>\n",
       "      <th>Other-service</th>\n",
       "      <td>34.949621</td>\n",
       "      <td>188608.452200</td>\n",
       "      <td>8.779666</td>\n",
       "      <td>191.301669</td>\n",
       "      <td>38.250683</td>\n",
       "      <td>34.701669</td>\n",
       "    </tr>\n",
       "    <tr>\n",
       "      <th>Priv-house-serv</th>\n",
       "      <td>41.724832</td>\n",
       "      <td>201107.523490</td>\n",
       "      <td>7.362416</td>\n",
       "      <td>279.852349</td>\n",
       "      <td>21.449664</td>\n",
       "      <td>32.885906</td>\n",
       "    </tr>\n",
       "    <tr>\n",
       "      <th>Prof-specialty</th>\n",
       "      <td>40.630119</td>\n",
       "      <td>186332.258566</td>\n",
       "      <td>11.780211</td>\n",
       "      <td>2072.975598</td>\n",
       "      <td>112.848571</td>\n",
       "      <td>39.158282</td>\n",
       "    </tr>\n",
       "    <tr>\n",
       "      <th>Protective-serv</th>\n",
       "      <td>38.953775</td>\n",
       "      <td>202039.953775</td>\n",
       "      <td>10.184900</td>\n",
       "      <td>708.098613</td>\n",
       "      <td>78.334361</td>\n",
       "      <td>42.870570</td>\n",
       "    </tr>\n",
       "    <tr>\n",
       "      <th>Sales</th>\n",
       "      <td>37.353973</td>\n",
       "      <td>190885.892055</td>\n",
       "      <td>10.299726</td>\n",
       "      <td>1319.829315</td>\n",
       "      <td>98.300548</td>\n",
       "      <td>40.781096</td>\n",
       "    </tr>\n",
       "    <tr>\n",
       "      <th>Tech-support</th>\n",
       "      <td>37.022629</td>\n",
       "      <td>192098.301724</td>\n",
       "      <td>10.992457</td>\n",
       "      <td>673.552802</td>\n",
       "      <td>98.665948</td>\n",
       "      <td>39.432112</td>\n",
       "    </tr>\n",
       "    <tr>\n",
       "      <th>Transport-moving</th>\n",
       "      <td>40.197871</td>\n",
       "      <td>190366.355041</td>\n",
       "      <td>8.767063</td>\n",
       "      <td>490.323732</td>\n",
       "      <td>81.480902</td>\n",
       "      <td>44.656230</td>\n",
       "    </tr>\n",
       "  </tbody>\n",
       "</table>\n",
       "</div>"
      ],
      "text/plain": [
       "                         age         fnlwgt  education.num  capital.gain  \\\n",
       "occupation                                                                 \n",
       "Adm-clerical       36.964456  192043.396286      10.113528    495.954907   \n",
       "Armed-Forces       30.222222  215425.888889      10.111111      0.000000   \n",
       "Craft-repair       39.031471  192132.599658       9.110759    649.512808   \n",
       "Exec-managerial    42.169208  184414.012543      11.449090   2262.772996   \n",
       "Farming-fishing    41.211268  170190.176056       8.608652    589.726358   \n",
       "Handlers-cleaners  32.165693  204391.006569       8.510219    257.572993   \n",
       "Machine-op-inspct  37.715285  195040.877622       8.487512    328.689311   \n",
       "Other-service      34.949621  188608.452200       8.779666    191.301669   \n",
       "Priv-house-serv    41.724832  201107.523490       7.362416    279.852349   \n",
       "Prof-specialty     40.630119  186332.258566      11.780211   2072.975598   \n",
       "Protective-serv    38.953775  202039.953775      10.184900    708.098613   \n",
       "Sales              37.353973  190885.892055      10.299726   1319.829315   \n",
       "Tech-support       37.022629  192098.301724      10.992457    673.552802   \n",
       "Transport-moving   40.197871  190366.355041       8.767063    490.323732   \n",
       "\n",
       "                   capital.loss  hours.per.week  \n",
       "occupation                                       \n",
       "Adm-clerical          60.794430       37.558355  \n",
       "Armed-Forces         209.666667       40.666667  \n",
       "Craft-repair          88.465235       42.304221  \n",
       "Exec-managerial      138.838416       44.987703  \n",
       "Farming-fishing       63.075453       46.989940  \n",
       "Handlers-cleaners     45.635766       37.947445  \n",
       "Machine-op-inspct     61.706294       40.755744  \n",
       "Other-service         38.250683       34.701669  \n",
       "Priv-house-serv       21.449664       32.885906  \n",
       "Prof-specialty       112.848571       39.158282  \n",
       "Protective-serv       78.334361       42.870570  \n",
       "Sales                 98.300548       40.781096  \n",
       "Tech-support          98.665948       39.432112  \n",
       "Transport-moving      81.480902       44.656230  "
      ]
     },
     "execution_count": 20,
     "metadata": {},
     "output_type": "execute_result"
    }
   ],
   "source": [
    "data_limpia.groupby(\"occupation\").mean()"
   ]
  },
  {
   "cell_type": "code",
   "execution_count": 21,
   "metadata": {},
   "outputs": [
    {
     "data": {
      "text/html": [
       "<div>\n",
       "<style scoped>\n",
       "    .dataframe tbody tr th:only-of-type {\n",
       "        vertical-align: middle;\n",
       "    }\n",
       "\n",
       "    .dataframe tbody tr th {\n",
       "        vertical-align: top;\n",
       "    }\n",
       "\n",
       "    .dataframe thead th {\n",
       "        text-align: right;\n",
       "    }\n",
       "</style>\n",
       "<table border=\"1\" class=\"dataframe\">\n",
       "  <thead>\n",
       "    <tr style=\"text-align: right;\">\n",
       "      <th></th>\n",
       "      <th>age</th>\n",
       "      <th>fnlwgt</th>\n",
       "      <th>education.num</th>\n",
       "      <th>capital.gain</th>\n",
       "      <th>capital.loss</th>\n",
       "      <th>hours.per.week</th>\n",
       "    </tr>\n",
       "    <tr>\n",
       "      <th>relationship</th>\n",
       "      <th></th>\n",
       "      <th></th>\n",
       "      <th></th>\n",
       "      <th></th>\n",
       "      <th></th>\n",
       "      <th></th>\n",
       "    </tr>\n",
       "  </thead>\n",
       "  <tbody>\n",
       "    <tr>\n",
       "      <th>Husband</th>\n",
       "      <td>43.818616</td>\n",
       "      <td>187074.862503</td>\n",
       "      <td>10.326461</td>\n",
       "      <td>1795.062230</td>\n",
       "      <td>124.160919</td>\n",
       "      <td>44.120139</td>\n",
       "    </tr>\n",
       "    <tr>\n",
       "      <th>Not-in-family</th>\n",
       "      <td>38.346057</td>\n",
       "      <td>191131.795304</td>\n",
       "      <td>10.315593</td>\n",
       "      <td>743.327273</td>\n",
       "      <td>75.390728</td>\n",
       "      <td>40.595665</td>\n",
       "    </tr>\n",
       "    <tr>\n",
       "      <th>Other-relative</th>\n",
       "      <td>33.164118</td>\n",
       "      <td>205059.821611</td>\n",
       "      <td>8.786952</td>\n",
       "      <td>279.595311</td>\n",
       "      <td>51.332314</td>\n",
       "      <td>37.006116</td>\n",
       "    </tr>\n",
       "    <tr>\n",
       "      <th>Own-child</th>\n",
       "      <td>24.827940</td>\n",
       "      <td>193175.408840</td>\n",
       "      <td>9.486188</td>\n",
       "      <td>155.655485</td>\n",
       "      <td>39.511839</td>\n",
       "      <td>33.269337</td>\n",
       "    </tr>\n",
       "    <tr>\n",
       "      <th>Unmarried</th>\n",
       "      <td>40.293964</td>\n",
       "      <td>191128.405688</td>\n",
       "      <td>9.642194</td>\n",
       "      <td>455.031050</td>\n",
       "      <td>41.464887</td>\n",
       "      <td>39.103018</td>\n",
       "    </tr>\n",
       "    <tr>\n",
       "      <th>Wife</th>\n",
       "      <td>39.846301</td>\n",
       "      <td>181849.507653</td>\n",
       "      <td>10.463010</td>\n",
       "      <td>1659.791454</td>\n",
       "      <td>118.006378</td>\n",
       "      <td>36.861607</td>\n",
       "    </tr>\n",
       "  </tbody>\n",
       "</table>\n",
       "</div>"
      ],
      "text/plain": [
       "                      age         fnlwgt  education.num  capital.gain  \\\n",
       "relationship                                                            \n",
       "Husband         43.818616  187074.862503      10.326461   1795.062230   \n",
       "Not-in-family   38.346057  191131.795304      10.315593    743.327273   \n",
       "Other-relative  33.164118  205059.821611       8.786952    279.595311   \n",
       "Own-child       24.827940  193175.408840       9.486188    155.655485   \n",
       "Unmarried       40.293964  191128.405688       9.642194    455.031050   \n",
       "Wife            39.846301  181849.507653      10.463010   1659.791454   \n",
       "\n",
       "                capital.loss  hours.per.week  \n",
       "relationship                                  \n",
       "Husband           124.160919       44.120139  \n",
       "Not-in-family      75.390728       40.595665  \n",
       "Other-relative     51.332314       37.006116  \n",
       "Own-child          39.511839       33.269337  \n",
       "Unmarried          41.464887       39.103018  \n",
       "Wife              118.006378       36.861607  "
      ]
     },
     "execution_count": 21,
     "metadata": {},
     "output_type": "execute_result"
    }
   ],
   "source": [
    "data_limpia.groupby(\"relationship\").mean()"
   ]
  },
  {
   "cell_type": "code",
   "execution_count": 22,
   "metadata": {},
   "outputs": [
    {
     "data": {
      "text/html": [
       "<div>\n",
       "<style scoped>\n",
       "    .dataframe tbody tr th:only-of-type {\n",
       "        vertical-align: middle;\n",
       "    }\n",
       "\n",
       "    .dataframe tbody tr th {\n",
       "        vertical-align: top;\n",
       "    }\n",
       "\n",
       "    .dataframe thead th {\n",
       "        text-align: right;\n",
       "    }\n",
       "</style>\n",
       "<table border=\"1\" class=\"dataframe\">\n",
       "  <thead>\n",
       "    <tr style=\"text-align: right;\">\n",
       "      <th></th>\n",
       "      <th>age</th>\n",
       "      <th>fnlwgt</th>\n",
       "      <th>education.num</th>\n",
       "      <th>capital.gain</th>\n",
       "      <th>capital.loss</th>\n",
       "      <th>hours.per.week</th>\n",
       "    </tr>\n",
       "    <tr>\n",
       "      <th>race</th>\n",
       "      <th></th>\n",
       "      <th></th>\n",
       "      <th></th>\n",
       "      <th></th>\n",
       "      <th></th>\n",
       "      <th></th>\n",
       "    </tr>\n",
       "  </thead>\n",
       "  <tbody>\n",
       "    <tr>\n",
       "      <th>Amer-Indian-Eskimo</th>\n",
       "      <td>37.173633</td>\n",
       "      <td>120831.147910</td>\n",
       "      <td>9.311897</td>\n",
       "      <td>625.266881</td>\n",
       "      <td>34.176849</td>\n",
       "      <td>40.048232</td>\n",
       "    </tr>\n",
       "    <tr>\n",
       "      <th>Asian-Pac-Islander</th>\n",
       "      <td>37.746872</td>\n",
       "      <td>159940.609240</td>\n",
       "      <td>10.960539</td>\n",
       "      <td>1478.358037</td>\n",
       "      <td>97.222329</td>\n",
       "      <td>40.127045</td>\n",
       "    </tr>\n",
       "    <tr>\n",
       "      <th>Black</th>\n",
       "      <td>37.767926</td>\n",
       "      <td>228013.124200</td>\n",
       "      <td>9.486236</td>\n",
       "      <td>609.940461</td>\n",
       "      <td>60.385083</td>\n",
       "      <td>38.422855</td>\n",
       "    </tr>\n",
       "    <tr>\n",
       "      <th>Other</th>\n",
       "      <td>33.457565</td>\n",
       "      <td>197124.191882</td>\n",
       "      <td>8.841328</td>\n",
       "      <td>934.660517</td>\n",
       "      <td>61.070111</td>\n",
       "      <td>39.468635</td>\n",
       "    </tr>\n",
       "    <tr>\n",
       "      <th>White</th>\n",
       "      <td>38.769881</td>\n",
       "      <td>187298.064280</td>\n",
       "      <td>10.135246</td>\n",
       "      <td>1121.660375</td>\n",
       "      <td>90.806155</td>\n",
       "      <td>40.689100</td>\n",
       "    </tr>\n",
       "  </tbody>\n",
       "</table>\n",
       "</div>"
      ],
      "text/plain": [
       "                          age         fnlwgt  education.num  capital.gain  \\\n",
       "race                                                                        \n",
       "Amer-Indian-Eskimo  37.173633  120831.147910       9.311897    625.266881   \n",
       "Asian-Pac-Islander  37.746872  159940.609240      10.960539   1478.358037   \n",
       "Black               37.767926  228013.124200       9.486236    609.940461   \n",
       "Other               33.457565  197124.191882       8.841328    934.660517   \n",
       "White               38.769881  187298.064280      10.135246   1121.660375   \n",
       "\n",
       "                    capital.loss  hours.per.week  \n",
       "race                                              \n",
       "Amer-Indian-Eskimo     34.176849       40.048232  \n",
       "Asian-Pac-Islander     97.222329       40.127045  \n",
       "Black                  60.385083       38.422855  \n",
       "Other                  61.070111       39.468635  \n",
       "White                  90.806155       40.689100  "
      ]
     },
     "execution_count": 22,
     "metadata": {},
     "output_type": "execute_result"
    }
   ],
   "source": [
    "data_limpia.groupby(\"race\").mean()"
   ]
  },
  {
   "cell_type": "code",
   "execution_count": 23,
   "metadata": {},
   "outputs": [
    {
     "data": {
      "text/html": [
       "<div>\n",
       "<style scoped>\n",
       "    .dataframe tbody tr th:only-of-type {\n",
       "        vertical-align: middle;\n",
       "    }\n",
       "\n",
       "    .dataframe tbody tr th {\n",
       "        vertical-align: top;\n",
       "    }\n",
       "\n",
       "    .dataframe thead th {\n",
       "        text-align: right;\n",
       "    }\n",
       "</style>\n",
       "<table border=\"1\" class=\"dataframe\">\n",
       "  <thead>\n",
       "    <tr style=\"text-align: right;\">\n",
       "      <th></th>\n",
       "      <th>age</th>\n",
       "      <th>fnlwgt</th>\n",
       "      <th>education.num</th>\n",
       "      <th>capital.gain</th>\n",
       "      <th>capital.loss</th>\n",
       "      <th>hours.per.week</th>\n",
       "    </tr>\n",
       "    <tr>\n",
       "      <th>sex</th>\n",
       "      <th></th>\n",
       "      <th></th>\n",
       "      <th></th>\n",
       "      <th></th>\n",
       "      <th></th>\n",
       "      <th></th>\n",
       "    </tr>\n",
       "  </thead>\n",
       "  <tbody>\n",
       "    <tr>\n",
       "      <th>Female</th>\n",
       "      <td>36.858230</td>\n",
       "      <td>185746.311206</td>\n",
       "      <td>10.035744</td>\n",
       "      <td>568.410547</td>\n",
       "      <td>61.187633</td>\n",
       "      <td>36.410361</td>\n",
       "    </tr>\n",
       "    <tr>\n",
       "      <th>Male</th>\n",
       "      <td>39.433547</td>\n",
       "      <td>191771.449013</td>\n",
       "      <td>10.102891</td>\n",
       "      <td>1329.370078</td>\n",
       "      <td>100.213309</td>\n",
       "      <td>42.428086</td>\n",
       "    </tr>\n",
       "  </tbody>\n",
       "</table>\n",
       "</div>"
      ],
      "text/plain": [
       "              age         fnlwgt  education.num  capital.gain  capital.loss  \\\n",
       "sex                                                                           \n",
       "Female  36.858230  185746.311206      10.035744    568.410547     61.187633   \n",
       "Male    39.433547  191771.449013      10.102891   1329.370078    100.213309   \n",
       "\n",
       "        hours.per.week  \n",
       "sex                     \n",
       "Female       36.410361  \n",
       "Male         42.428086  "
      ]
     },
     "execution_count": 23,
     "metadata": {},
     "output_type": "execute_result"
    }
   ],
   "source": [
    "data_limpia.groupby(\"sex\").mean()"
   ]
  },
  {
   "cell_type": "code",
   "execution_count": 24,
   "metadata": {},
   "outputs": [
    {
     "data": {
      "text/html": [
       "<div>\n",
       "<style scoped>\n",
       "    .dataframe tbody tr th:only-of-type {\n",
       "        vertical-align: middle;\n",
       "    }\n",
       "\n",
       "    .dataframe tbody tr th {\n",
       "        vertical-align: top;\n",
       "    }\n",
       "\n",
       "    .dataframe thead th {\n",
       "        text-align: right;\n",
       "    }\n",
       "</style>\n",
       "<table border=\"1\" class=\"dataframe\">\n",
       "  <thead>\n",
       "    <tr style=\"text-align: right;\">\n",
       "      <th></th>\n",
       "      <th>age</th>\n",
       "      <th>fnlwgt</th>\n",
       "      <th>education.num</th>\n",
       "      <th>capital.gain</th>\n",
       "      <th>capital.loss</th>\n",
       "      <th>hours.per.week</th>\n",
       "    </tr>\n",
       "    <tr>\n",
       "      <th>native.country</th>\n",
       "      <th></th>\n",
       "      <th></th>\n",
       "      <th></th>\n",
       "      <th></th>\n",
       "      <th></th>\n",
       "      <th></th>\n",
       "    </tr>\n",
       "  </thead>\n",
       "  <tbody>\n",
       "    <tr>\n",
       "      <th>Cambodia</th>\n",
       "      <td>37.789474</td>\n",
       "      <td>193080.368421</td>\n",
       "      <td>8.789474</td>\n",
       "      <td>1027.842105</td>\n",
       "      <td>183.052632</td>\n",
       "      <td>40.894737</td>\n",
       "    </tr>\n",
       "    <tr>\n",
       "      <th>Canada</th>\n",
       "      <td>42.545455</td>\n",
       "      <td>179852.933884</td>\n",
       "      <td>10.652893</td>\n",
       "      <td>1504.132231</td>\n",
       "      <td>129.933884</td>\n",
       "      <td>40.404959</td>\n",
       "    </tr>\n",
       "    <tr>\n",
       "      <th>China</th>\n",
       "      <td>42.533333</td>\n",
       "      <td>179047.986667</td>\n",
       "      <td>11.120000</td>\n",
       "      <td>366.480000</td>\n",
       "      <td>179.520000</td>\n",
       "      <td>37.786667</td>\n",
       "    </tr>\n",
       "    <tr>\n",
       "      <th>Columbia</th>\n",
       "      <td>39.711864</td>\n",
       "      <td>225149.406780</td>\n",
       "      <td>9.372881</td>\n",
       "      <td>180.610169</td>\n",
       "      <td>27.152542</td>\n",
       "      <td>39.067797</td>\n",
       "    </tr>\n",
       "    <tr>\n",
       "      <th>Cuba</th>\n",
       "      <td>45.768421</td>\n",
       "      <td>246291.347368</td>\n",
       "      <td>9.600000</td>\n",
       "      <td>367.231579</td>\n",
       "      <td>70.042105</td>\n",
       "      <td>39.157895</td>\n",
       "    </tr>\n",
       "    <tr>\n",
       "      <th>Dominican-Republic</th>\n",
       "      <td>37.728571</td>\n",
       "      <td>192089.557143</td>\n",
       "      <td>7.114286</td>\n",
       "      <td>1476.057143</td>\n",
       "      <td>25.171429</td>\n",
       "      <td>42.471429</td>\n",
       "    </tr>\n",
       "    <tr>\n",
       "      <th>Ecuador</th>\n",
       "      <td>36.642857</td>\n",
       "      <td>185858.821429</td>\n",
       "      <td>9.464286</td>\n",
       "      <td>527.607143</td>\n",
       "      <td>0.000000</td>\n",
       "      <td>39.571429</td>\n",
       "    </tr>\n",
       "    <tr>\n",
       "      <th>El-Salvador</th>\n",
       "      <td>34.132075</td>\n",
       "      <td>254392.971698</td>\n",
       "      <td>6.839623</td>\n",
       "      <td>574.320755</td>\n",
       "      <td>31.113208</td>\n",
       "      <td>36.792453</td>\n",
       "    </tr>\n",
       "    <tr>\n",
       "      <th>England</th>\n",
       "      <td>41.155556</td>\n",
       "      <td>182375.166667</td>\n",
       "      <td>11.011111</td>\n",
       "      <td>864.722222</td>\n",
       "      <td>82.755556</td>\n",
       "      <td>41.833333</td>\n",
       "    </tr>\n",
       "    <tr>\n",
       "      <th>France</th>\n",
       "      <td>38.965517</td>\n",
       "      <td>192050.896552</td>\n",
       "      <td>12.241379</td>\n",
       "      <td>547.034483</td>\n",
       "      <td>0.000000</td>\n",
       "      <td>45.068966</td>\n",
       "    </tr>\n",
       "    <tr>\n",
       "      <th>Germany</th>\n",
       "      <td>39.255474</td>\n",
       "      <td>189325.313869</td>\n",
       "      <td>10.985401</td>\n",
       "      <td>887.094891</td>\n",
       "      <td>77.978102</td>\n",
       "      <td>41.014599</td>\n",
       "    </tr>\n",
       "    <tr>\n",
       "      <th>Greece</th>\n",
       "      <td>46.206897</td>\n",
       "      <td>143466.206897</td>\n",
       "      <td>9.724138</td>\n",
       "      <td>1283.896552</td>\n",
       "      <td>295.448276</td>\n",
       "      <td>44.241379</td>\n",
       "    </tr>\n",
       "    <tr>\n",
       "      <th>Guatemala</th>\n",
       "      <td>32.421875</td>\n",
       "      <td>265163.343750</td>\n",
       "      <td>6.031250</td>\n",
       "      <td>230.828125</td>\n",
       "      <td>24.906250</td>\n",
       "      <td>39.234375</td>\n",
       "    </tr>\n",
       "    <tr>\n",
       "      <th>Haiti</th>\n",
       "      <td>38.272727</td>\n",
       "      <td>209019.431818</td>\n",
       "      <td>8.931818</td>\n",
       "      <td>0.000000</td>\n",
       "      <td>73.295455</td>\n",
       "      <td>36.909091</td>\n",
       "    </tr>\n",
       "    <tr>\n",
       "      <th>Holand-Netherlands</th>\n",
       "      <td>32.000000</td>\n",
       "      <td>27882.000000</td>\n",
       "      <td>10.000000</td>\n",
       "      <td>0.000000</td>\n",
       "      <td>2205.000000</td>\n",
       "      <td>40.000000</td>\n",
       "    </tr>\n",
       "    <tr>\n",
       "      <th>Honduras</th>\n",
       "      <td>33.846154</td>\n",
       "      <td>255591.307692</td>\n",
       "      <td>8.692308</td>\n",
       "      <td>0.000000</td>\n",
       "      <td>146.307692</td>\n",
       "      <td>36.307692</td>\n",
       "    </tr>\n",
       "    <tr>\n",
       "      <th>Hong</th>\n",
       "      <td>33.650000</td>\n",
       "      <td>222352.750000</td>\n",
       "      <td>10.600000</td>\n",
       "      <td>0.000000</td>\n",
       "      <td>98.850000</td>\n",
       "      <td>40.900000</td>\n",
       "    </tr>\n",
       "    <tr>\n",
       "      <th>Hungary</th>\n",
       "      <td>49.384615</td>\n",
       "      <td>180488.461538</td>\n",
       "      <td>10.769231</td>\n",
       "      <td>716.615385</td>\n",
       "      <td>128.307692</td>\n",
       "      <td>35.615385</td>\n",
       "    </tr>\n",
       "    <tr>\n",
       "      <th>India</th>\n",
       "      <td>38.090000</td>\n",
       "      <td>168539.090000</td>\n",
       "      <td>12.430000</td>\n",
       "      <td>3604.920000</td>\n",
       "      <td>131.120000</td>\n",
       "      <td>41.530000</td>\n",
       "    </tr>\n",
       "    <tr>\n",
       "      <th>Iran</th>\n",
       "      <td>39.418605</td>\n",
       "      <td>182211.395349</td>\n",
       "      <td>12.395349</td>\n",
       "      <td>2044.651163</td>\n",
       "      <td>126.813953</td>\n",
       "      <td>43.976744</td>\n",
       "    </tr>\n",
       "    <tr>\n",
       "      <th>Ireland</th>\n",
       "      <td>36.458333</td>\n",
       "      <td>137997.583333</td>\n",
       "      <td>10.083333</td>\n",
       "      <td>324.458333</td>\n",
       "      <td>78.625000</td>\n",
       "      <td>42.416667</td>\n",
       "    </tr>\n",
       "    <tr>\n",
       "      <th>Italy</th>\n",
       "      <td>46.424658</td>\n",
       "      <td>181685.397260</td>\n",
       "      <td>8.849315</td>\n",
       "      <td>611.506849</td>\n",
       "      <td>27.082192</td>\n",
       "      <td>41.602740</td>\n",
       "    </tr>\n",
       "    <tr>\n",
       "      <th>Jamaica</th>\n",
       "      <td>35.592593</td>\n",
       "      <td>212155.234568</td>\n",
       "      <td>9.851852</td>\n",
       "      <td>475.135802</td>\n",
       "      <td>0.000000</td>\n",
       "      <td>38.592593</td>\n",
       "    </tr>\n",
       "    <tr>\n",
       "      <th>Japan</th>\n",
       "      <td>38.241935</td>\n",
       "      <td>185703.629032</td>\n",
       "      <td>11.435484</td>\n",
       "      <td>2546.225806</td>\n",
       "      <td>57.532258</td>\n",
       "      <td>43.693548</td>\n",
       "    </tr>\n",
       "    <tr>\n",
       "      <th>Laos</th>\n",
       "      <td>34.722222</td>\n",
       "      <td>211108.000000</td>\n",
       "      <td>8.555556</td>\n",
       "      <td>160.277778</td>\n",
       "      <td>0.000000</td>\n",
       "      <td>40.333333</td>\n",
       "    </tr>\n",
       "    <tr>\n",
       "      <th>Mexico</th>\n",
       "      <td>33.290824</td>\n",
       "      <td>289724.746501</td>\n",
       "      <td>6.135303</td>\n",
       "      <td>347.027994</td>\n",
       "      <td>24.744946</td>\n",
       "      <td>40.340591</td>\n",
       "    </tr>\n",
       "    <tr>\n",
       "      <th>Nicaragua</th>\n",
       "      <td>33.617647</td>\n",
       "      <td>294574.117647</td>\n",
       "      <td>8.705882</td>\n",
       "      <td>199.823529</td>\n",
       "      <td>100.794118</td>\n",
       "      <td>36.176471</td>\n",
       "    </tr>\n",
       "    <tr>\n",
       "      <th>Outlying-US(Guam-USVI-etc)</th>\n",
       "      <td>38.714286</td>\n",
       "      <td>204487.785714</td>\n",
       "      <td>10.285714</td>\n",
       "      <td>0.000000</td>\n",
       "      <td>0.000000</td>\n",
       "      <td>41.857143</td>\n",
       "    </tr>\n",
       "    <tr>\n",
       "      <th>Peru</th>\n",
       "      <td>35.258065</td>\n",
       "      <td>274559.354839</td>\n",
       "      <td>9.354839</td>\n",
       "      <td>59.064516</td>\n",
       "      <td>59.612903</td>\n",
       "      <td>35.387097</td>\n",
       "    </tr>\n",
       "    <tr>\n",
       "      <th>Philippines</th>\n",
       "      <td>39.444444</td>\n",
       "      <td>166115.116162</td>\n",
       "      <td>10.868687</td>\n",
       "      <td>1018.343434</td>\n",
       "      <td>98.954545</td>\n",
       "      <td>39.595960</td>\n",
       "    </tr>\n",
       "    <tr>\n",
       "      <th>Poland</th>\n",
       "      <td>43.116667</td>\n",
       "      <td>183904.016667</td>\n",
       "      <td>10.100000</td>\n",
       "      <td>684.283333</td>\n",
       "      <td>34.183333</td>\n",
       "      <td>38.333333</td>\n",
       "    </tr>\n",
       "    <tr>\n",
       "      <th>Portugal</th>\n",
       "      <td>40.297297</td>\n",
       "      <td>148621.675676</td>\n",
       "      <td>6.702703</td>\n",
       "      <td>228.378378</td>\n",
       "      <td>0.000000</td>\n",
       "      <td>41.891892</td>\n",
       "    </tr>\n",
       "    <tr>\n",
       "      <th>Puerto-Rico</th>\n",
       "      <td>40.508772</td>\n",
       "      <td>202535.728070</td>\n",
       "      <td>8.289474</td>\n",
       "      <td>317.192982</td>\n",
       "      <td>55.228070</td>\n",
       "      <td>38.570175</td>\n",
       "    </tr>\n",
       "    <tr>\n",
       "      <th>Scotland</th>\n",
       "      <td>40.416667</td>\n",
       "      <td>168946.083333</td>\n",
       "      <td>10.250000</td>\n",
       "      <td>431.500000</td>\n",
       "      <td>0.000000</td>\n",
       "      <td>41.250000</td>\n",
       "    </tr>\n",
       "    <tr>\n",
       "      <th>South</th>\n",
       "      <td>38.750000</td>\n",
       "      <td>163481.787500</td>\n",
       "      <td>10.912500</td>\n",
       "      <td>1869.737500</td>\n",
       "      <td>169.425000</td>\n",
       "      <td>42.412500</td>\n",
       "    </tr>\n",
       "    <tr>\n",
       "      <th>Taiwan</th>\n",
       "      <td>33.823529</td>\n",
       "      <td>186441.392157</td>\n",
       "      <td>13.294118</td>\n",
       "      <td>2147.039216</td>\n",
       "      <td>154.823529</td>\n",
       "      <td>38.882353</td>\n",
       "    </tr>\n",
       "    <tr>\n",
       "      <th>Thailand</th>\n",
       "      <td>34.944444</td>\n",
       "      <td>184166.666667</td>\n",
       "      <td>10.944444</td>\n",
       "      <td>0.000000</td>\n",
       "      <td>0.000000</td>\n",
       "      <td>45.444444</td>\n",
       "    </tr>\n",
       "    <tr>\n",
       "      <th>Trinadad&amp;Tobago</th>\n",
       "      <td>41.315789</td>\n",
       "      <td>212812.315789</td>\n",
       "      <td>8.263158</td>\n",
       "      <td>0.000000</td>\n",
       "      <td>222.421053</td>\n",
       "      <td>37.368421</td>\n",
       "    </tr>\n",
       "    <tr>\n",
       "      <th>United-States</th>\n",
       "      <td>38.657043</td>\n",
       "      <td>187191.132659</td>\n",
       "      <td>10.177864</td>\n",
       "      <td>1103.284946</td>\n",
       "      <td>89.093638</td>\n",
       "      <td>40.468625</td>\n",
       "    </tr>\n",
       "    <tr>\n",
       "      <th>Vietnam</th>\n",
       "      <td>34.059701</td>\n",
       "      <td>163283.925373</td>\n",
       "      <td>9.656716</td>\n",
       "      <td>660.597015</td>\n",
       "      <td>87.298507</td>\n",
       "      <td>37.343284</td>\n",
       "    </tr>\n",
       "    <tr>\n",
       "      <th>Yugoslavia</th>\n",
       "      <td>38.812500</td>\n",
       "      <td>215963.937500</td>\n",
       "      <td>9.937500</td>\n",
       "      <td>347.250000</td>\n",
       "      <td>0.000000</td>\n",
       "      <td>44.562500</td>\n",
       "    </tr>\n",
       "  </tbody>\n",
       "</table>\n",
       "</div>"
      ],
      "text/plain": [
       "                                  age         fnlwgt  education.num  \\\n",
       "native.country                                                        \n",
       "Cambodia                    37.789474  193080.368421       8.789474   \n",
       "Canada                      42.545455  179852.933884      10.652893   \n",
       "China                       42.533333  179047.986667      11.120000   \n",
       "Columbia                    39.711864  225149.406780       9.372881   \n",
       "Cuba                        45.768421  246291.347368       9.600000   \n",
       "Dominican-Republic          37.728571  192089.557143       7.114286   \n",
       "Ecuador                     36.642857  185858.821429       9.464286   \n",
       "El-Salvador                 34.132075  254392.971698       6.839623   \n",
       "England                     41.155556  182375.166667      11.011111   \n",
       "France                      38.965517  192050.896552      12.241379   \n",
       "Germany                     39.255474  189325.313869      10.985401   \n",
       "Greece                      46.206897  143466.206897       9.724138   \n",
       "Guatemala                   32.421875  265163.343750       6.031250   \n",
       "Haiti                       38.272727  209019.431818       8.931818   \n",
       "Holand-Netherlands          32.000000   27882.000000      10.000000   \n",
       "Honduras                    33.846154  255591.307692       8.692308   \n",
       "Hong                        33.650000  222352.750000      10.600000   \n",
       "Hungary                     49.384615  180488.461538      10.769231   \n",
       "India                       38.090000  168539.090000      12.430000   \n",
       "Iran                        39.418605  182211.395349      12.395349   \n",
       "Ireland                     36.458333  137997.583333      10.083333   \n",
       "Italy                       46.424658  181685.397260       8.849315   \n",
       "Jamaica                     35.592593  212155.234568       9.851852   \n",
       "Japan                       38.241935  185703.629032      11.435484   \n",
       "Laos                        34.722222  211108.000000       8.555556   \n",
       "Mexico                      33.290824  289724.746501       6.135303   \n",
       "Nicaragua                   33.617647  294574.117647       8.705882   \n",
       "Outlying-US(Guam-USVI-etc)  38.714286  204487.785714      10.285714   \n",
       "Peru                        35.258065  274559.354839       9.354839   \n",
       "Philippines                 39.444444  166115.116162      10.868687   \n",
       "Poland                      43.116667  183904.016667      10.100000   \n",
       "Portugal                    40.297297  148621.675676       6.702703   \n",
       "Puerto-Rico                 40.508772  202535.728070       8.289474   \n",
       "Scotland                    40.416667  168946.083333      10.250000   \n",
       "South                       38.750000  163481.787500      10.912500   \n",
       "Taiwan                      33.823529  186441.392157      13.294118   \n",
       "Thailand                    34.944444  184166.666667      10.944444   \n",
       "Trinadad&Tobago             41.315789  212812.315789       8.263158   \n",
       "United-States               38.657043  187191.132659      10.177864   \n",
       "Vietnam                     34.059701  163283.925373       9.656716   \n",
       "Yugoslavia                  38.812500  215963.937500       9.937500   \n",
       "\n",
       "                            capital.gain  capital.loss  hours.per.week  \n",
       "native.country                                                          \n",
       "Cambodia                     1027.842105    183.052632       40.894737  \n",
       "Canada                       1504.132231    129.933884       40.404959  \n",
       "China                         366.480000    179.520000       37.786667  \n",
       "Columbia                      180.610169     27.152542       39.067797  \n",
       "Cuba                          367.231579     70.042105       39.157895  \n",
       "Dominican-Republic           1476.057143     25.171429       42.471429  \n",
       "Ecuador                       527.607143      0.000000       39.571429  \n",
       "El-Salvador                   574.320755     31.113208       36.792453  \n",
       "England                       864.722222     82.755556       41.833333  \n",
       "France                        547.034483      0.000000       45.068966  \n",
       "Germany                       887.094891     77.978102       41.014599  \n",
       "Greece                       1283.896552    295.448276       44.241379  \n",
       "Guatemala                     230.828125     24.906250       39.234375  \n",
       "Haiti                           0.000000     73.295455       36.909091  \n",
       "Holand-Netherlands              0.000000   2205.000000       40.000000  \n",
       "Honduras                        0.000000    146.307692       36.307692  \n",
       "Hong                            0.000000     98.850000       40.900000  \n",
       "Hungary                       716.615385    128.307692       35.615385  \n",
       "India                        3604.920000    131.120000       41.530000  \n",
       "Iran                         2044.651163    126.813953       43.976744  \n",
       "Ireland                       324.458333     78.625000       42.416667  \n",
       "Italy                         611.506849     27.082192       41.602740  \n",
       "Jamaica                       475.135802      0.000000       38.592593  \n",
       "Japan                        2546.225806     57.532258       43.693548  \n",
       "Laos                          160.277778      0.000000       40.333333  \n",
       "Mexico                        347.027994     24.744946       40.340591  \n",
       "Nicaragua                     199.823529    100.794118       36.176471  \n",
       "Outlying-US(Guam-USVI-etc)      0.000000      0.000000       41.857143  \n",
       "Peru                           59.064516     59.612903       35.387097  \n",
       "Philippines                  1018.343434     98.954545       39.595960  \n",
       "Poland                        684.283333     34.183333       38.333333  \n",
       "Portugal                      228.378378      0.000000       41.891892  \n",
       "Puerto-Rico                   317.192982     55.228070       38.570175  \n",
       "Scotland                      431.500000      0.000000       41.250000  \n",
       "South                        1869.737500    169.425000       42.412500  \n",
       "Taiwan                       2147.039216    154.823529       38.882353  \n",
       "Thailand                        0.000000      0.000000       45.444444  \n",
       "Trinadad&Tobago                 0.000000    222.421053       37.368421  \n",
       "United-States                1103.284946     89.093638       40.468625  \n",
       "Vietnam                       660.597015     87.298507       37.343284  \n",
       "Yugoslavia                    347.250000      0.000000       44.562500  "
      ]
     },
     "execution_count": 24,
     "metadata": {},
     "output_type": "execute_result"
    }
   ],
   "source": [
    "data_limpia.groupby(\"native.country\").mean()"
   ]
  },
  {
   "cell_type": "code",
   "execution_count": 25,
   "metadata": {},
   "outputs": [
    {
     "data": {
      "text/html": [
       "<div>\n",
       "<style scoped>\n",
       "    .dataframe tbody tr th:only-of-type {\n",
       "        vertical-align: middle;\n",
       "    }\n",
       "\n",
       "    .dataframe tbody tr th {\n",
       "        vertical-align: top;\n",
       "    }\n",
       "\n",
       "    .dataframe thead th {\n",
       "        text-align: right;\n",
       "    }\n",
       "</style>\n",
       "<table border=\"1\" class=\"dataframe\">\n",
       "  <thead>\n",
       "    <tr style=\"text-align: right;\">\n",
       "      <th></th>\n",
       "      <th>age</th>\n",
       "      <th>fnlwgt</th>\n",
       "      <th>education.num</th>\n",
       "      <th>capital.gain</th>\n",
       "      <th>capital.loss</th>\n",
       "      <th>hours.per.week</th>\n",
       "    </tr>\n",
       "  </thead>\n",
       "  <tbody>\n",
       "    <tr>\n",
       "      <th>age</th>\n",
       "      <td>1.000000</td>\n",
       "      <td>-0.076646</td>\n",
       "      <td>0.036527</td>\n",
       "      <td>0.077674</td>\n",
       "      <td>0.057775</td>\n",
       "      <td>0.068756</td>\n",
       "    </tr>\n",
       "    <tr>\n",
       "      <th>fnlwgt</th>\n",
       "      <td>-0.076646</td>\n",
       "      <td>1.000000</td>\n",
       "      <td>-0.043195</td>\n",
       "      <td>0.000432</td>\n",
       "      <td>-0.010252</td>\n",
       "      <td>-0.018768</td>\n",
       "    </tr>\n",
       "    <tr>\n",
       "      <th>education.num</th>\n",
       "      <td>0.036527</td>\n",
       "      <td>-0.043195</td>\n",
       "      <td>1.000000</td>\n",
       "      <td>0.122630</td>\n",
       "      <td>0.079923</td>\n",
       "      <td>0.148123</td>\n",
       "    </tr>\n",
       "    <tr>\n",
       "      <th>capital.gain</th>\n",
       "      <td>0.077674</td>\n",
       "      <td>0.000432</td>\n",
       "      <td>0.122630</td>\n",
       "      <td>1.000000</td>\n",
       "      <td>-0.031615</td>\n",
       "      <td>0.078409</td>\n",
       "    </tr>\n",
       "    <tr>\n",
       "      <th>capital.loss</th>\n",
       "      <td>0.057775</td>\n",
       "      <td>-0.010252</td>\n",
       "      <td>0.079923</td>\n",
       "      <td>-0.031615</td>\n",
       "      <td>1.000000</td>\n",
       "      <td>0.054256</td>\n",
       "    </tr>\n",
       "    <tr>\n",
       "      <th>hours.per.week</th>\n",
       "      <td>0.068756</td>\n",
       "      <td>-0.018768</td>\n",
       "      <td>0.148123</td>\n",
       "      <td>0.078409</td>\n",
       "      <td>0.054256</td>\n",
       "      <td>1.000000</td>\n",
       "    </tr>\n",
       "  </tbody>\n",
       "</table>\n",
       "</div>"
      ],
      "text/plain": [
       "                     age    fnlwgt  education.num  capital.gain  capital.loss  \\\n",
       "age             1.000000 -0.076646       0.036527      0.077674      0.057775   \n",
       "fnlwgt         -0.076646  1.000000      -0.043195      0.000432     -0.010252   \n",
       "education.num   0.036527 -0.043195       1.000000      0.122630      0.079923   \n",
       "capital.gain    0.077674  0.000432       0.122630      1.000000     -0.031615   \n",
       "capital.loss    0.057775 -0.010252       0.079923     -0.031615      1.000000   \n",
       "hours.per.week  0.068756 -0.018768       0.148123      0.078409      0.054256   \n",
       "\n",
       "                hours.per.week  \n",
       "age                   0.068756  \n",
       "fnlwgt               -0.018768  \n",
       "education.num         0.148123  \n",
       "capital.gain          0.078409  \n",
       "capital.loss          0.054256  \n",
       "hours.per.week        1.000000  "
      ]
     },
     "execution_count": 25,
     "metadata": {},
     "output_type": "execute_result"
    }
   ],
   "source": [
    "#calculamos la autocorrelacion\n",
    "data_limpia.corr()\n",
    "#Sin considerar a income, solo los datos numericos\n",
    "#Se observa que age, fnlwgt, education.num, capital.gain, capital.loss y hours.per.week tienen baja correlacion."
   ]
  },
  {
   "cell_type": "markdown",
   "metadata": {},
   "source": [
    "# Visualizaciones"
   ]
  },
  {
   "cell_type": "code",
   "execution_count": 26,
   "metadata": {},
   "outputs": [
    {
     "data": {
      "text/plain": [
       "Text(0,0.5,'Income')"
      ]
     },
     "execution_count": 26,
     "metadata": {},
     "output_type": "execute_result"
    },
    {
     "data": {
      "image/png": "[encoded data removed]",
      "text/plain": [
       "<matplotlib.figure.Figure at 0x282896dd6a0>"
      ]
     },
     "metadata": {},
     "output_type": "display_data"
    }
   ],
   "source": [
    "#Educacion vs income para ver cual afecta mas, al ser muy alta puede ser un buen predictor\n",
    "pd.crosstab(data_limpia.education, data_limpia.income).plot(kind=\"bar\")\n",
    "plt.title(\"Education - Income\")\n",
    "plt.xlabel(\"Education\")\n",
    "plt.ylabel(\"Income\")\n",
    "                                                            "
   ]
  },
  {
   "cell_type": "code",
   "execution_count": 27,
   "metadata": {},
   "outputs": [
    {
     "data": {
      "text/plain": [
       "Text(0,0.5,'Income')"
      ]
     },
     "execution_count": 27,
     "metadata": {},
     "output_type": "execute_result"
    },
    {
     "data": {
      "image/png": "[encoded data removed]",
      "text/plain": [
       "<matplotlib.figure.Figure at 0x28289df19b0>"
      ]
     },
     "metadata": {},
     "output_type": "display_data"
    }
   ],
   "source": [
    "#Marital.statuts vs income para ver cual afecta mas\n",
    "pd.crosstab(data_limpia[\"marital.status\"] , data_limpia.income).plot(kind=\"bar\")\n",
    "plt.title(\"Marital.Status - Income\")\n",
    "plt.xlabel(\"Marital.Status\")\n",
    "plt.ylabel(\"Income\")"
   ]
  },
  {
   "cell_type": "code",
   "execution_count": 28,
   "metadata": {},
   "outputs": [
    {
     "data": {
      "text/plain": [
       "Text(0,0.5,'Income')"
      ]
     },
     "execution_count": 28,
     "metadata": {},
     "output_type": "execute_result"
    },
    {
     "data": {
      "image/png": "[encoded data removed]",
      "text/plain": [
       "<matplotlib.figure.Figure at 0x28289ea7160>"
      ]
     },
     "metadata": {},
     "output_type": "display_data"
    }
   ],
   "source": [
    "#Occupation vs income para ver cual afecta mas, al ser muy alta puede ser un buen predictor\n",
    "pd.crosstab(data_limpia[\"occupation\"] , data_limpia.income).plot(kind=\"bar\")\n",
    "plt.title(\"occupation - Income\")\n",
    "plt.xlabel(\"occupation\")\n",
    "plt.ylabel(\"Income\")"
   ]
  },
  {
   "cell_type": "code",
   "execution_count": 29,
   "metadata": {},
   "outputs": [
    {
     "data": {
      "text/plain": [
       "Text(0,0.5,'Income')"
      ]
     },
     "execution_count": 29,
     "metadata": {},
     "output_type": "execute_result"
    },
    {
     "data": {
      "image/png": "[encoded data removed]",
      "text/plain": [
       "<matplotlib.figure.Figure at 0x28289f49710>"
      ]
     },
     "metadata": {},
     "output_type": "display_data"
    }
   ],
   "source": [
    "#relationship vs income para ver cual afecta mas, al ser muy alta puede ser un buen predictor\n",
    "pd.crosstab(data_limpia[\"relationship\"] , data_limpia.income).plot(kind=\"bar\")\n",
    "plt.title(\"relationship - Income\")\n",
    "plt.xlabel(\"relationship\")\n",
    "plt.ylabel(\"Income\")"
   ]
  },
  {
   "cell_type": "code",
   "execution_count": 30,
   "metadata": {},
   "outputs": [
    {
     "data": {
      "text/plain": [
       "Text(0,0.5,'Income')"
      ]
     },
     "execution_count": 30,
     "metadata": {},
     "output_type": "execute_result"
    },
    {
     "data": {
      "image/png": "[encoded data removed]",
      "text/plain": [
       "<matplotlib.figure.Figure at 0x28289f507b8>"
      ]
     },
     "metadata": {},
     "output_type": "display_data"
    }
   ],
   "source": [
    "#race vs income para ver cual afecta mas\n",
    "pd.crosstab(data_limpia[\"race\"] , data_limpia.income).plot(kind=\"bar\")\n",
    "plt.title(\"race - Income\")\n",
    "plt.xlabel(\"racec\")\n",
    "plt.ylabel(\"Income\")"
   ]
  },
  {
   "cell_type": "code",
   "execution_count": 31,
   "metadata": {},
   "outputs": [
    {
     "data": {
      "text/plain": [
       "Text(0,0.5,'Income')"
      ]
     },
     "execution_count": 31,
     "metadata": {},
     "output_type": "execute_result"
    },
    {
     "data": {
      "image/png": "[encoded data removed]",
      "text/plain": [
       "<matplotlib.figure.Figure at 0x28289677b70>"
      ]
     },
     "metadata": {},
     "output_type": "display_data"
    }
   ],
   "source": [
    "#sex vs income para ver cual afecta mas\n",
    "pd.crosstab(data_limpia[\"sex\"] , data_limpia.income).plot(kind=\"bar\")\n",
    "plt.title(\"sex - Income\")\n",
    "plt.xlabel(\"sex\")\n",
    "plt.ylabel(\"Income\")"
   ]
  },
  {
   "cell_type": "code",
   "execution_count": 32,
   "metadata": {},
   "outputs": [
    {
     "data": {
      "text/plain": [
       "Text(0,0.5,'Income')"
      ]
     },
     "execution_count": 32,
     "metadata": {},
     "output_type": "execute_result"
    },
    {
     "data": {
      "image/png": "[encoded data removed]",
      "text/plain": [
       "<matplotlib.figure.Figure at 0x2828a03ac88>"
      ]
     },
     "metadata": {},
     "output_type": "display_data"
    }
   ],
   "source": [
    "#Nativecountry vs income para ver cual afecta mas\n",
    "pd.crosstab(data_limpia[\"native.country\"] , data_limpia.income).plot(kind=\"bar\")\n",
    "plt.title(\"native.country - Income\")\n",
    "plt.xlabel(\"native.country\")\n",
    "plt.ylabel(\"Income\")"
   ]
  },
  {
   "cell_type": "markdown",
   "metadata": {},
   "source": [
    "## Nuevo dataset data_impia2 , sin las columnas duplicadas\n",
    "income lo convierto en 0 para menores de 50 y 1 para mayores de 50"
   ]
  },
  {
   "cell_type": "code",
   "execution_count": 34,
   "metadata": {},
   "outputs": [
    {
     "data": {
      "text/html": [
       "<div>\n",
       "<style scoped>\n",
       "    .dataframe tbody tr th:only-of-type {\n",
       "        vertical-align: middle;\n",
       "    }\n",
       "\n",
       "    .dataframe tbody tr th {\n",
       "        vertical-align: top;\n",
       "    }\n",
       "\n",
       "    .dataframe thead th {\n",
       "        text-align: right;\n",
       "    }\n",
       "</style>\n",
       "<table border=\"1\" class=\"dataframe\">\n",
       "  <thead>\n",
       "    <tr style=\"text-align: right;\">\n",
       "      <th></th>\n",
       "      <th>age</th>\n",
       "      <th>workclass</th>\n",
       "      <th>fnlwgt</th>\n",
       "      <th>education</th>\n",
       "      <th>marital.status</th>\n",
       "      <th>occupation</th>\n",
       "      <th>race</th>\n",
       "      <th>sex</th>\n",
       "      <th>hours.per.week</th>\n",
       "      <th>native.country</th>\n",
       "      <th>income</th>\n",
       "    </tr>\n",
       "  </thead>\n",
       "  <tbody>\n",
       "    <tr>\n",
       "      <th>0</th>\n",
       "      <td>90</td>\n",
       "      <td>Private</td>\n",
       "      <td>77053</td>\n",
       "      <td>HS-grad</td>\n",
       "      <td>Widowed</td>\n",
       "      <td>Prof-specialty</td>\n",
       "      <td>White</td>\n",
       "      <td>Female</td>\n",
       "      <td>40</td>\n",
       "      <td>United-States</td>\n",
       "      <td>&lt;=50K</td>\n",
       "    </tr>\n",
       "    <tr>\n",
       "      <th>1</th>\n",
       "      <td>82</td>\n",
       "      <td>Private</td>\n",
       "      <td>132870</td>\n",
       "      <td>HS-grad</td>\n",
       "      <td>Widowed</td>\n",
       "      <td>Exec-managerial</td>\n",
       "      <td>White</td>\n",
       "      <td>Female</td>\n",
       "      <td>18</td>\n",
       "      <td>United-States</td>\n",
       "      <td>&lt;=50K</td>\n",
       "    </tr>\n",
       "    <tr>\n",
       "      <th>2</th>\n",
       "      <td>66</td>\n",
       "      <td>Private</td>\n",
       "      <td>186061</td>\n",
       "      <td>Some-college</td>\n",
       "      <td>Widowed</td>\n",
       "      <td>Prof-specialty</td>\n",
       "      <td>Black</td>\n",
       "      <td>Female</td>\n",
       "      <td>40</td>\n",
       "      <td>United-States</td>\n",
       "      <td>&lt;=50K</td>\n",
       "    </tr>\n",
       "    <tr>\n",
       "      <th>3</th>\n",
       "      <td>54</td>\n",
       "      <td>Private</td>\n",
       "      <td>140359</td>\n",
       "      <td>7th-8th</td>\n",
       "      <td>Divorced</td>\n",
       "      <td>Machine-op-inspct</td>\n",
       "      <td>White</td>\n",
       "      <td>Female</td>\n",
       "      <td>40</td>\n",
       "      <td>United-States</td>\n",
       "      <td>&lt;=50K</td>\n",
       "    </tr>\n",
       "    <tr>\n",
       "      <th>4</th>\n",
       "      <td>41</td>\n",
       "      <td>Private</td>\n",
       "      <td>264663</td>\n",
       "      <td>Some-college</td>\n",
       "      <td>Separated</td>\n",
       "      <td>Prof-specialty</td>\n",
       "      <td>White</td>\n",
       "      <td>Female</td>\n",
       "      <td>40</td>\n",
       "      <td>United-States</td>\n",
       "      <td>&lt;=50K</td>\n",
       "    </tr>\n",
       "  </tbody>\n",
       "</table>\n",
       "</div>"
      ],
      "text/plain": [
       "   age workclass  fnlwgt     education marital.status         occupation  \\\n",
       "0   90   Private   77053       HS-grad        Widowed     Prof-specialty   \n",
       "1   82   Private  132870       HS-grad        Widowed    Exec-managerial   \n",
       "2   66   Private  186061  Some-college        Widowed     Prof-specialty   \n",
       "3   54   Private  140359       7th-8th       Divorced  Machine-op-inspct   \n",
       "4   41   Private  264663  Some-college      Separated     Prof-specialty   \n",
       "\n",
       "    race     sex  hours.per.week native.country income  \n",
       "0  White  Female              40  United-States  <=50K  \n",
       "1  White  Female              18  United-States  <=50K  \n",
       "2  Black  Female              40  United-States  <=50K  \n",
       "3  White  Female              40  United-States  <=50K  \n",
       "4  White  Female              40  United-States  <=50K  "
      ]
     },
     "execution_count": 34,
     "metadata": {},
     "output_type": "execute_result"
    }
   ],
   "source": [
    "#Creo un nueveo dataset, no utilizo education-num, relationship, cappital.gain,capital.loss\n",
    "data_limpia2=data_limpia[[\"age\", \"workclass\", \"fnlwgt\", \"education\", \"marital.status\", \"occupation\", \"race\", \"sex\", \"hours.per.week\",\"native.country\", \"income\" ]]\n",
    "data_limpia2.head()"
   ]
  },
  {
   "cell_type": "markdown",
   "metadata": {},
   "source": []
  },
  {
   "cell_type": "code",
   "execution_count": null,
   "metadata": {},
   "outputs": [],
   "source": [
    "\n"
   ]
  },
  {
   "cell_type": "markdown",
   "metadata": {},
   "source": [
    "# Aplico dummy, a todos los atributos menos a income"
   ]
  },
  {
   "cell_type": "code",
   "execution_count": 35,
   "metadata": {},
   "outputs": [
    {
     "data": {
      "text/html": [
       "<div>\n",
       "<style scoped>\n",
       "    .dataframe tbody tr th:only-of-type {\n",
       "        vertical-align: middle;\n",
       "    }\n",
       "\n",
       "    .dataframe tbody tr th {\n",
       "        vertical-align: top;\n",
       "    }\n",
       "\n",
       "    .dataframe thead th {\n",
       "        text-align: right;\n",
       "    }\n",
       "</style>\n",
       "<table border=\"1\" class=\"dataframe\">\n",
       "  <thead>\n",
       "    <tr style=\"text-align: right;\">\n",
       "      <th></th>\n",
       "      <th>age</th>\n",
       "      <th>fnlwgt</th>\n",
       "      <th>hours.per.week</th>\n",
       "      <th>workclass_Federal-gov</th>\n",
       "      <th>workclass_Local-gov</th>\n",
       "      <th>workclass_Never-worked</th>\n",
       "      <th>workclass_Private</th>\n",
       "      <th>workclass_Self-emp-inc</th>\n",
       "      <th>workclass_Self-emp-not-inc</th>\n",
       "      <th>workclass_State-gov</th>\n",
       "      <th>...</th>\n",
       "      <th>native.country_Portugal</th>\n",
       "      <th>native.country_Puerto-Rico</th>\n",
       "      <th>native.country_Scotland</th>\n",
       "      <th>native.country_South</th>\n",
       "      <th>native.country_Taiwan</th>\n",
       "      <th>native.country_Thailand</th>\n",
       "      <th>native.country_Trinadad&amp;Tobago</th>\n",
       "      <th>native.country_United-States</th>\n",
       "      <th>native.country_Vietnam</th>\n",
       "      <th>native.country_Yugoslavia</th>\n",
       "    </tr>\n",
       "  </thead>\n",
       "  <tbody>\n",
       "    <tr>\n",
       "      <th>0</th>\n",
       "      <td>90</td>\n",
       "      <td>77053</td>\n",
       "      <td>40</td>\n",
       "      <td>0</td>\n",
       "      <td>0</td>\n",
       "      <td>0</td>\n",
       "      <td>1</td>\n",
       "      <td>0</td>\n",
       "      <td>0</td>\n",
       "      <td>0</td>\n",
       "      <td>...</td>\n",
       "      <td>0</td>\n",
       "      <td>0</td>\n",
       "      <td>0</td>\n",
       "      <td>0</td>\n",
       "      <td>0</td>\n",
       "      <td>0</td>\n",
       "      <td>0</td>\n",
       "      <td>1</td>\n",
       "      <td>0</td>\n",
       "      <td>0</td>\n",
       "    </tr>\n",
       "    <tr>\n",
       "      <th>1</th>\n",
       "      <td>82</td>\n",
       "      <td>132870</td>\n",
       "      <td>18</td>\n",
       "      <td>0</td>\n",
       "      <td>0</td>\n",
       "      <td>0</td>\n",
       "      <td>1</td>\n",
       "      <td>0</td>\n",
       "      <td>0</td>\n",
       "      <td>0</td>\n",
       "      <td>...</td>\n",
       "      <td>0</td>\n",
       "      <td>0</td>\n",
       "      <td>0</td>\n",
       "      <td>0</td>\n",
       "      <td>0</td>\n",
       "      <td>0</td>\n",
       "      <td>0</td>\n",
       "      <td>1</td>\n",
       "      <td>0</td>\n",
       "      <td>0</td>\n",
       "    </tr>\n",
       "    <tr>\n",
       "      <th>2</th>\n",
       "      <td>66</td>\n",
       "      <td>186061</td>\n",
       "      <td>40</td>\n",
       "      <td>0</td>\n",
       "      <td>0</td>\n",
       "      <td>0</td>\n",
       "      <td>1</td>\n",
       "      <td>0</td>\n",
       "      <td>0</td>\n",
       "      <td>0</td>\n",
       "      <td>...</td>\n",
       "      <td>0</td>\n",
       "      <td>0</td>\n",
       "      <td>0</td>\n",
       "      <td>0</td>\n",
       "      <td>0</td>\n",
       "      <td>0</td>\n",
       "      <td>0</td>\n",
       "      <td>1</td>\n",
       "      <td>0</td>\n",
       "      <td>0</td>\n",
       "    </tr>\n",
       "    <tr>\n",
       "      <th>3</th>\n",
       "      <td>54</td>\n",
       "      <td>140359</td>\n",
       "      <td>40</td>\n",
       "      <td>0</td>\n",
       "      <td>0</td>\n",
       "      <td>0</td>\n",
       "      <td>1</td>\n",
       "      <td>0</td>\n",
       "      <td>0</td>\n",
       "      <td>0</td>\n",
       "      <td>...</td>\n",
       "      <td>0</td>\n",
       "      <td>0</td>\n",
       "      <td>0</td>\n",
       "      <td>0</td>\n",
       "      <td>0</td>\n",
       "      <td>0</td>\n",
       "      <td>0</td>\n",
       "      <td>1</td>\n",
       "      <td>0</td>\n",
       "      <td>0</td>\n",
       "    </tr>\n",
       "    <tr>\n",
       "      <th>4</th>\n",
       "      <td>41</td>\n",
       "      <td>264663</td>\n",
       "      <td>40</td>\n",
       "      <td>0</td>\n",
       "      <td>0</td>\n",
       "      <td>0</td>\n",
       "      <td>1</td>\n",
       "      <td>0</td>\n",
       "      <td>0</td>\n",
       "      <td>0</td>\n",
       "      <td>...</td>\n",
       "      <td>0</td>\n",
       "      <td>0</td>\n",
       "      <td>0</td>\n",
       "      <td>0</td>\n",
       "      <td>0</td>\n",
       "      <td>0</td>\n",
       "      <td>0</td>\n",
       "      <td>1</td>\n",
       "      <td>0</td>\n",
       "      <td>0</td>\n",
       "    </tr>\n",
       "  </tbody>\n",
       "</table>\n",
       "<p>5 rows × 96 columns</p>\n",
       "</div>"
      ],
      "text/plain": [
       "   age  fnlwgt  hours.per.week  workclass_Federal-gov  workclass_Local-gov  \\\n",
       "0   90   77053              40                      0                    0   \n",
       "1   82  132870              18                      0                    0   \n",
       "2   66  186061              40                      0                    0   \n",
       "3   54  140359              40                      0                    0   \n",
       "4   41  264663              40                      0                    0   \n",
       "\n",
       "   workclass_Never-worked  workclass_Private  workclass_Self-emp-inc  \\\n",
       "0                       0                  1                       0   \n",
       "1                       0                  1                       0   \n",
       "2                       0                  1                       0   \n",
       "3                       0                  1                       0   \n",
       "4                       0                  1                       0   \n",
       "\n",
       "   workclass_Self-emp-not-inc  workclass_State-gov            ...              \\\n",
       "0                           0                    0            ...               \n",
       "1                           0                    0            ...               \n",
       "2                           0                    0            ...               \n",
       "3                           0                    0            ...               \n",
       "4                           0                    0            ...               \n",
       "\n",
       "   native.country_Portugal  native.country_Puerto-Rico  \\\n",
       "0                        0                           0   \n",
       "1                        0                           0   \n",
       "2                        0                           0   \n",
       "3                        0                           0   \n",
       "4                        0                           0   \n",
       "\n",
       "   native.country_Scotland  native.country_South  native.country_Taiwan  \\\n",
       "0                        0                     0                      0   \n",
       "1                        0                     0                      0   \n",
       "2                        0                     0                      0   \n",
       "3                        0                     0                      0   \n",
       "4                        0                     0                      0   \n",
       "\n",
       "   native.country_Thailand  native.country_Trinadad&Tobago  \\\n",
       "0                        0                               0   \n",
       "1                        0                               0   \n",
       "2                        0                               0   \n",
       "3                        0                               0   \n",
       "4                        0                               0   \n",
       "\n",
       "   native.country_United-States  native.country_Vietnam  \\\n",
       "0                             1                       0   \n",
       "1                             1                       0   \n",
       "2                             1                       0   \n",
       "3                             1                       0   \n",
       "4                             1                       0   \n",
       "\n",
       "   native.country_Yugoslavia  \n",
       "0                          0  \n",
       "1                          0  \n",
       "2                          0  \n",
       "3                          0  \n",
       "4                          0  \n",
       "\n",
       "[5 rows x 96 columns]"
      ]
     },
     "execution_count": 35,
     "metadata": {},
     "output_type": "execute_result"
    }
   ],
   "source": [
    "data_x=data_limpia2[[\"age\", \"workclass\", \"fnlwgt\", \"education\", \"marital.status\", \"occupation\", \"race\", \"sex\", \"hours.per.week\",\"native.country\"]]\n",
    "data_x_dum=pd.get_dummies(data_x)\n",
    "data_x_dum.head()"
   ]
  },
  {
   "cell_type": "markdown",
   "metadata": {},
   "source": [
    "### Normalizo el nuevo dataset datalimpia2\n",
    "-NOrmalizo a data_x_dum\n",
    "- NOrmalizo el dummies"
   ]
  },
  {
   "cell_type": "code",
   "execution_count": 39,
   "metadata": {},
   "outputs": [
    {
     "data": {
      "text/plain": [
       "array([[ 3.76961234, -1.06799736, -0.03542945, ...,  0.30720846,\n",
       "        -0.04540836, -0.02217266],\n",
       "       [ 3.18311167, -0.53916866, -1.81720429, ...,  0.30720846,\n",
       "        -0.04540836, -0.02217266],\n",
       "       [ 2.01011032, -0.03521956, -0.03542945, ...,  0.30720846,\n",
       "        -0.04540836, -0.02217266],\n",
       "       ..., \n",
       "       [ 0.10398314, -0.33543266, -0.03542945, ...,  0.30720846,\n",
       "        -0.04540836, -0.02217266],\n",
       "       [ 1.42360965, -0.35877741, -0.03542945, ...,  0.30720846,\n",
       "        -0.04540836, -0.02217266],\n",
       "       [-1.21564337,  0.11095988, -1.65522476, ...,  0.30720846,\n",
       "        -0.04540836, -0.02217266]])"
      ]
     },
     "execution_count": 39,
     "metadata": {},
     "output_type": "execute_result"
    }
   ],
   "source": [
    "#data_norm=scale(data_limpia2[[\"age\",\"fnlwgt\",\"hours.per.week\"]])\n",
    "data_norm=scale(data_x_dum)\n",
    "data_norm"
   ]
  },
  {
   "cell_type": "markdown",
   "metadata": {},
   "source": [
    "# Divido en Train y test"
   ]
  },
  {
   "cell_type": "code",
   "execution_count": 40,
   "metadata": {},
   "outputs": [
    {
     "name": "stdout",
     "output_type": "stream",
     "text": [
      "(26048, 96)\n",
      "(6513, 96)\n",
      "(26048,)\n",
      "(6513,)\n"
     ]
    }
   ],
   "source": [
    "# para los valores de x utilizo data_x_dum  que es dummis aplicado a todos menos a income\n",
    "# Loa valores de y es el atributo income convertido en 1 y 0\n",
    "X=data_norm\n",
    "y = 2 * (data_limpia2['income'] == '<=50K') - 1 \n",
    "X_train, X_test, y_train, y_test = train_test_split(X, y, test_size=0.2, random_state=3, stratify=y)\n",
    "print(X_train.shape)\n",
    "print(X_test.shape)\n",
    "print(y_train.shape)\n",
    "\n",
    "print(y_test.shape)"
   ]
  },
  {
   "cell_type": "code",
   "execution_count": null,
   "metadata": {},
   "outputs": [],
   "source": []
  },
  {
   "cell_type": "code",
   "execution_count": 41,
   "metadata": {},
   "outputs": [
    {
     "data": {
      "text/plain": [
       "0    1\n",
       "1    1\n",
       "2    1\n",
       "3    1\n",
       "4    1\n",
       "Name: income, dtype: int32"
      ]
     },
     "execution_count": 41,
     "metadata": {},
     "output_type": "execute_result"
    }
   ],
   "source": [
    "y.head()"
   ]
  },
  {
   "cell_type": "markdown",
   "metadata": {},
   "source": [
    "# Aplico modelo de Regresion Logistica\n",
    "\n",
    "- Solo uso x_train y y_train\n",
    "-Aplico dummies a X_train"
   ]
  },
  {
   "cell_type": "markdown",
   "metadata": {},
   "source": [
    "### Aplico regresion logistica"
   ]
  },
  {
   "cell_type": "code",
   "execution_count": 42,
   "metadata": {},
   "outputs": [
    {
     "data": {
      "text/plain": [
       "LogisticRegression(C=1.0, class_weight=None, dual=False, fit_intercept=True,\n",
       "          intercept_scaling=1, max_iter=100, multi_class='ovr', n_jobs=1,\n",
       "          penalty='l2', random_state=None, solver='liblinear', tol=0.0001,\n",
       "          verbose=0, warm_start=False)"
      ]
     },
     "execution_count": 42,
     "metadata": {},
     "output_type": "execute_result"
    }
   ],
   "source": [
    "logreg=LogisticRegression()\n",
    "logreg.fit(X_train,y_train)"
   ]
  },
  {
   "cell_type": "raw",
   "metadata": {},
   "source": [
    "Calculamos el accuracy "
   ]
  },
  {
   "cell_type": "code",
   "execution_count": 43,
   "metadata": {},
   "outputs": [
    {
     "data": {
      "text/plain": [
       "0.82972516505450633"
      ]
     },
     "execution_count": 43,
     "metadata": {},
     "output_type": "execute_result"
    }
   ],
   "source": [
    "y_pred=logreg.predict(X_test)\n",
    "logreg.score(X_test,y_test)\n"
   ]
  },
  {
   "cell_type": "markdown",
   "metadata": {},
   "source": [
    "# Cross validation para regresion logistica\n",
    "### Para evitar overfitting\n"
   ]
  },
  {
   "cell_type": "markdown",
   "metadata": {},
   "source": [
    "Utilizando cross_val_score nos proporciona los resultados de la precisión que tuvo el modelo logreg en cada pliegue\n"
   ]
  },
  {
   "cell_type": "code",
   "execution_count": 44,
   "metadata": {},
   "outputs": [
    {
     "name": "stdout",
     "output_type": "stream",
     "text": [
      "precisiones: [ 0.83307751  0.82693784  0.83346124  0.83838772  0.83877159  0.82757296\n",
      "  0.83218126  0.85407066  0.81835637  0.82949309]\n",
      "Precision promedio:  0.833 +/-  0.009\n"
     ]
    }
   ],
   "source": [
    "precision = cross_val_score(logreg,X=X_train, y=y_train,cv=10, n_jobs=-1)\n",
    "\n",
    "print('precisiones: {}'.format(precision))\n",
    "print('Precision promedio: {0: .3f} +/- {1: .3f}'.format(np.mean(precision),\n",
    "                                          np.std(precision)))"
   ]
  },
  {
   "cell_type": "markdown",
   "metadata": {},
   "source": [
    "# Matriz de confusion Reg Logistica"
   ]
  },
  {
   "cell_type": "code",
   "execution_count": 45,
   "metadata": {},
   "outputs": [],
   "source": [
    "matriz_confusion=metrics.confusion_matrix(y_test,y_pred)"
   ]
  },
  {
   "cell_type": "code",
   "execution_count": 46,
   "metadata": {},
   "outputs": [
    {
     "data": {
      "text/plain": [
       "array([[ 837,  731],\n",
       "       [ 378, 4567]], dtype=int64)"
      ]
     },
     "execution_count": 46,
     "metadata": {},
     "output_type": "execute_result"
    }
   ],
   "source": [
    "matriz_confusion"
   ]
  },
  {
   "cell_type": "markdown",
   "metadata": {},
   "source": [
    "## Calculo de la precision, recall, f-1 y support"
   ]
  },
  {
   "cell_type": "code",
   "execution_count": 47,
   "metadata": {},
   "outputs": [
    {
     "name": "stdout",
     "output_type": "stream",
     "text": [
      "             precision    recall  f1-score   support\n",
      "\n",
      "         -1       0.69      0.53      0.60      1568\n",
      "          1       0.86      0.92      0.89      4945\n",
      "\n",
      "avg / total       0.82      0.83      0.82      6513\n",
      "\n"
     ]
    }
   ],
   "source": [
    "print(classification_report(y_test,y_pred))"
   ]
  },
  {
   "cell_type": "markdown",
   "metadata": {},
   "source": [
    "# curva roc reg losgistica\n",
    "Umabral a 0.5 u utilizando predict_proba"
   ]
  },
  {
   "cell_type": "code",
   "execution_count": 48,
   "metadata": {},
   "outputs": [
    {
     "data": {
      "text/plain": [
       "<matplotlib.legend.Legend at 0x2828c53f080>"
      ]
     },
     "execution_count": 48,
     "metadata": {},
     "output_type": "execute_result"
    },
    {
     "data": {
      "image/png": "[encoded data removed]",
      "text/plain": [
       "<matplotlib.figure.Figure at 0x2828c53f128>"
      ]
     },
     "metadata": {},
     "output_type": "display_data"
    }
   ],
   "source": [
    "probabilidades_test = logreg.predict_proba(X_test)\n",
    "predicciones_test = np.where(probabilidades_test[:,1] > 0.5, +1, -1) \n",
    "fpr, tpr, umbrales = metrics.roc_curve(y_test, probabilidades_test[:,1])\n",
    "auc_roc = metrics.roc_auc_score(y_test, probabilidades_test[:,1])\n",
    "\n",
    "plt.rcParams.update({'font.size': 9})\n",
    "plt.plot(fpr, tpr, label= (\"Curva ROC\") )\n",
    "plt.xlabel(\"FPR\")\n",
    "plt.ylabel(\"TPR (exhaustividad)\")\n",
    "plt.title((\"Curva ROC (AUC = %.4f)\" % auc_roc))\n",
    "# ubicamos el punto más cercano a 0.5\n",
    "umbral_05 = np.argmin(np.abs(umbrales - 0.5))\n",
    "plt.plot(fpr[umbral_05], tpr[umbral_05], 'o', markersize=10,\n",
    "         label=\"Umbral 0.5\", fillstyle=\"none\", c='r', mew=2)\n",
    "plt.legend(loc='best', numpoints = 1)\n",
    "\n"
   ]
  },
  {
   "cell_type": "code",
   "execution_count": null,
   "metadata": {},
   "outputs": [],
   "source": []
  },
  {
   "cell_type": "markdown",
   "metadata": {},
   "source": [
    "# Aplicamos model SVM"
   ]
  },
  {
   "cell_type": "code",
   "execution_count": 49,
   "metadata": {},
   "outputs": [
    {
     "data": {
      "text/plain": [
       "SVC(C=1.0, cache_size=200, class_weight=None, coef0=0.0,\n",
       "  decision_function_shape='ovr', degree=3, gamma='auto', kernel='rbf',\n",
       "  max_iter=-1, probability=False, random_state=None, shrinking=True,\n",
       "  tol=0.001, verbose=False)"
      ]
     },
     "execution_count": 49,
     "metadata": {},
     "output_type": "execute_result"
    }
   ],
   "source": [
    "modelo_svm = svm.SVC()\n",
    "modelo_svm.fit(X_train,y_train)"
   ]
  },
  {
   "cell_type": "markdown",
   "metadata": {},
   "source": [
    "Calculo el accuracy"
   ]
  },
  {
   "cell_type": "code",
   "execution_count": 50,
   "metadata": {},
   "outputs": [
    {
     "data": {
      "text/plain": [
       "0.82803623522186398"
      ]
     },
     "execution_count": 50,
     "metadata": {},
     "output_type": "execute_result"
    }
   ],
   "source": [
    "y_pred_svm=modelo_svm.predict(X_test)\n",
    "modelo_svm.score(X_test,y_test)"
   ]
  },
  {
   "cell_type": "markdown",
   "metadata": {},
   "source": [
    "### Matriz de confusion para SVM"
   ]
  },
  {
   "cell_type": "code",
   "execution_count": 51,
   "metadata": {},
   "outputs": [
    {
     "data": {
      "text/plain": [
       "array([[ 807,  761],\n",
       "       [ 359, 4586]], dtype=int64)"
      ]
     },
     "execution_count": 51,
     "metadata": {},
     "output_type": "execute_result"
    }
   ],
   "source": [
    "matriz_confusion=metrics.confusion_matrix(y_test,y_pred_svm)\n",
    "matriz_confusion"
   ]
  },
  {
   "cell_type": "code",
   "execution_count": null,
   "metadata": {},
   "outputs": [],
   "source": []
  },
  {
   "cell_type": "markdown",
   "metadata": {},
   "source": [
    "### Calculo de la precision, recall, f-1 y support para SVM"
   ]
  },
  {
   "cell_type": "code",
   "execution_count": 52,
   "metadata": {},
   "outputs": [
    {
     "name": "stdout",
     "output_type": "stream",
     "text": [
      "             precision    recall  f1-score   support\n",
      "\n",
      "         -1       0.69      0.51      0.59      1568\n",
      "          1       0.86      0.93      0.89      4945\n",
      "\n",
      "avg / total       0.82      0.83      0.82      6513\n",
      "\n"
     ]
    }
   ],
   "source": [
    "print(classification_report(y_test,y_pred_svm))"
   ]
  },
  {
   "cell_type": "markdown",
   "metadata": {},
   "source": [
    "# Aplico KNN"
   ]
  },
  {
   "cell_type": "code",
   "execution_count": 55,
   "metadata": {},
   "outputs": [
    {
     "data": {
      "text/plain": [
       "KNeighborsClassifier(algorithm='auto', leaf_size=30, metric='minkowski',\n",
       "           metric_params=None, n_jobs=1, n_neighbors=3, p=2,\n",
       "           weights='uniform')"
      ]
     },
     "execution_count": 55,
     "metadata": {},
     "output_type": "execute_result"
    }
   ],
   "source": [
    "#Modelo knn con 3 vecino\n",
    "modelo_knn = KNeighborsClassifier(n_neighbors=3)\n",
    "#Aplico el modelo\n",
    "modelo_knn.fit(X_train, y_train)\n"
   ]
  },
  {
   "cell_type": "markdown",
   "metadata": {},
   "source": [
    "Calculo el accuracy"
   ]
  },
  {
   "cell_type": "code",
   "execution_count": 56,
   "metadata": {},
   "outputs": [
    {
     "data": {
      "text/plain": [
       "0.80009212344541691"
      ]
     },
     "execution_count": 56,
     "metadata": {},
     "output_type": "execute_result"
    }
   ],
   "source": [
    "y_pred_knn=modelo_knn.predict(X_test)\n",
    "modelo_knn.score(X_test,y_test)"
   ]
  },
  {
   "cell_type": "markdown",
   "metadata": {},
   "source": [
    "### Matriz de confusion para knn"
   ]
  },
  {
   "cell_type": "code",
   "execution_count": 57,
   "metadata": {},
   "outputs": [
    {
     "data": {
      "text/plain": [
       "array([[ 880,  688],\n",
       "       [ 614, 4331]], dtype=int64)"
      ]
     },
     "execution_count": 57,
     "metadata": {},
     "output_type": "execute_result"
    }
   ],
   "source": [
    "matriz_confusion=metrics.confusion_matrix(y_test,y_pred_knn)\n",
    "matriz_confusion"
   ]
  },
  {
   "cell_type": "code",
   "execution_count": 62,
   "metadata": {},
   "outputs": [
    {
     "data": {
      "text/plain": [
       "<matplotlib.legend.Legend at 0x2828c1d1198>"
      ]
     },
     "execution_count": 62,
     "metadata": {},
     "output_type": "execute_result"
    },
    {
     "data": {
      "image/png": "[encoded data removed]",
      "text/plain": [
       "<matplotlib.figure.Figure at 0x2828c1d13c8>"
      ]
     },
     "metadata": {},
     "output_type": "display_data"
    }
   ],
   "source": [
    "probabilidades_test = modelo_knn.predict_proba(X_test)\n",
    "predicciones_test = np.where(probabilidades_test[:,1] > 0.5, +1, -1) \n",
    "fpr, tpr, umbrales = metrics.roc_curve(y_test, probabilidades_test[:,1])\n",
    "auc_roc = metrics.roc_auc_score(y_test, probabilidades_test[:,1])\n",
    "\n",
    "plt.rcParams.update({'font.size': 9})\n",
    "plt.plot(fpr, tpr, label= (\"Curva ROC\") )\n",
    "plt.xlabel(\"FPR\")\n",
    "plt.ylabel(\"TPR (exhaustividad)\")\n",
    "plt.title((\"Curva ROC (AUC = %.4f)\" % auc_roc))\n",
    "# ubicamos el punto más cercano a 0.5\n",
    "umbral_05 = np.argmin(np.abs(umbrales - 0.5))\n",
    "plt.plot(fpr[umbral_05], tpr[umbral_05], 'o', markersize=10,\n",
    "         label=\"Umbral 0.5\", fillstyle=\"none\", c='r', mew=2)\n",
    "plt.legend(loc='best', numpoints = 1)"
   ]
  },
  {
   "cell_type": "markdown",
   "metadata": {},
   "source": [
    "# Aplica Arboles de clasificacion"
   ]
  },
  {
   "cell_type": "code",
   "execution_count": 68,
   "metadata": {},
   "outputs": [
    {
     "data": {
      "text/plain": [
       "DecisionTreeClassifier(class_weight=None, criterion='gini', max_depth=4,\n",
       "            max_features=None, max_leaf_nodes=None,\n",
       "            min_impurity_decrease=0.0, min_impurity_split=None,\n",
       "            min_samples_leaf=1, min_samples_split=2,\n",
       "            min_weight_fraction_leaf=0.0, presort=False, random_state=None,\n",
       "            splitter='best')"
      ]
     },
     "execution_count": 68,
     "metadata": {},
     "output_type": "execute_result"
    }
   ],
   "source": [
    "#Modelo arboles de clasificacion\n",
    "#Si dejo que use toda la profunidad alcanza un accuraci de 1\n",
    "#Si le añado profunidad con max_depth=4 , hace 0.79, similar al paper\n",
    "modelo_tree=tree.DecisionTreeClassifier(max_depth=4)\n",
    "#APlico el modelo\n",
    "modelo_tree.fit(X_test,y_test)"
   ]
  },
  {
   "cell_type": "markdown",
   "metadata": {},
   "source": [
    "Calculo el accuracy"
   ]
  },
  {
   "cell_type": "code",
   "execution_count": 69,
   "metadata": {},
   "outputs": [
    {
     "data": {
      "text/plain": [
       "0.8129894058037771"
      ]
     },
     "execution_count": 69,
     "metadata": {},
     "output_type": "execute_result"
    }
   ],
   "source": [
    "y_pred_tree=modelo_tree.predict(X_test)\n",
    "modelo_tree.score(X_test,y_test)"
   ]
  },
  {
   "cell_type": "code",
   "execution_count": 70,
   "metadata": {},
   "outputs": [
    {
     "data": {
      "text/plain": [
       "array([[ 605,  963],\n",
       "       [ 255, 4690]], dtype=int64)"
      ]
     },
     "execution_count": 70,
     "metadata": {},
     "output_type": "execute_result"
    }
   ],
   "source": [
    "#matriz de confusion en arboles de clasificacion\n",
    "matriz_confusion=metrics.confusion_matrix(y_test,y_pred_tree)\n",
    "matriz_confusion"
   ]
  },
  {
   "cell_type": "markdown",
   "metadata": {},
   "source": [
    "### ROC para arboles"
   ]
  },
  {
   "cell_type": "code",
   "execution_count": 71,
   "metadata": {},
   "outputs": [
    {
     "data": {
      "text/plain": [
       "<matplotlib.legend.Legend at 0x2828c60e4e0>"
      ]
     },
     "execution_count": 71,
     "metadata": {},
     "output_type": "execute_result"
    },
    {
     "data": {
      "image/png": "[encoded data removed]",
      "text/plain": [
       "<matplotlib.figure.Figure at 0x2828c60e470>"
      ]
     },
     "metadata": {},
     "output_type": "display_data"
    }
   ],
   "source": [
    "probabilidades_test = modelo_tree.predict_proba(X_test)\n",
    "predicciones_test = np.where(probabilidades_test[:,1] > 0.5, +1, -1) \n",
    "fpr, tpr, umbrales = metrics.roc_curve(y_test, probabilidades_test[:,1])\n",
    "auc_roc = metrics.roc_auc_score(y_test, probabilidades_test[:,1])\n",
    "\n",
    "plt.rcParams.update({'font.size': 9})\n",
    "plt.plot(fpr, tpr, label= (\"Curva ROC\") )\n",
    "plt.xlabel(\"FPR\")\n",
    "plt.ylabel(\"TPR (exhaustividad)\")\n",
    "plt.title((\"Curva ROC (AUC = %.4f)\" % auc_roc))\n",
    "# ubicamos el punto más cercano a 0.5\n",
    "umbral_05 = np.argmin(np.abs(umbrales - 0.5))\n",
    "plt.plot(fpr[umbral_05], tpr[umbral_05], 'o', markersize=10,\n",
    "         label=\"Umbral 0.5\", fillstyle=\"none\", c='r', mew=2)\n",
    "plt.legend(loc='best', numpoints = 1)"
   ]
  },
  {
   "cell_type": "markdown",
   "metadata": {},
   "source": [
    "### Cross validation para arboles de clasificacion\n",
    "Para evitar overfitting\n",
    "\n",
    "-NOTA: cuando dejo la profundidad maxima, cross validation baja a 0.75, cuando vario la profundidad, los valores\n",
    "de crossvalidation son similares a los del arbol normal"
   ]
  },
  {
   "cell_type": "code",
   "execution_count": 63,
   "metadata": {},
   "outputs": [
    {
     "name": "stdout",
     "output_type": "stream",
     "text": [
      "precisiones: [ 0.81465848  0.79854183  0.81158864  0.80729367  0.81305182  0.8172043\n",
      "  0.81336406  0.82142857  0.79800307  0.81144393]\n",
      "Precision promedio:  0.811 +/-  0.007\n"
     ]
    }
   ],
   "source": [
    "precision = cross_val_score(modelo_tree,X=X_train, y=y_train,cv=10, n_jobs=-1)\n",
    "\n",
    "print('precisiones: {}'.format(precision))\n",
    "print('Precision promedio: {0: .3f} +/- {1: .3f}'.format(np.mean(precision),\n",
    "                                          np.std(precision)))"
   ]
  },
  {
   "cell_type": "markdown",
   "metadata": {},
   "source": [
    "# Aplico Extra tree classifier"
   ]
  },
  {
   "cell_type": "code",
   "execution_count": 72,
   "metadata": {},
   "outputs": [
    {
     "data": {
      "text/plain": [
       "ExtraTreeClassifier(class_weight=None, criterion='gini', max_depth=6,\n",
       "          max_features='auto', max_leaf_nodes=None,\n",
       "          min_impurity_decrease=0.0, min_impurity_split=None,\n",
       "          min_samples_leaf=1, min_samples_split=2,\n",
       "          min_weight_fraction_leaf=0.0, random_state=None,\n",
       "          splitter='random')"
      ]
     },
     "execution_count": 72,
     "metadata": {},
     "output_type": "execute_result"
    }
   ],
   "source": [
    "#Modelo arboles de clasificacion\n",
    "modelo_xtratree=tree.ExtraTreeClassifier(max_depth=6)\n",
    "#APlico el modelo\n",
    "modelo_xtratree.fit(X_test,y_test)"
   ]
  },
  {
   "cell_type": "markdown",
   "metadata": {},
   "source": [
    "Caluclo accuracy"
   ]
  },
  {
   "cell_type": "code",
   "execution_count": 73,
   "metadata": {},
   "outputs": [
    {
     "data": {
      "text/plain": [
       "0.78688776293566709"
      ]
     },
     "execution_count": 73,
     "metadata": {},
     "output_type": "execute_result"
    }
   ],
   "source": [
    "y_pred_xtree=modelo_xtratree.predict(X_test)\n",
    "modelo_xtratree.score(X_test,y_test)"
   ]
  },
  {
   "cell_type": "markdown",
   "metadata": {},
   "source": [
    "### MAtriz confusion xtreecalsifier"
   ]
  },
  {
   "cell_type": "code",
   "execution_count": 74,
   "metadata": {},
   "outputs": [
    {
     "data": {
      "text/plain": [
       "array([[ 648,  920],\n",
       "       [ 468, 4477]], dtype=int64)"
      ]
     },
     "execution_count": 74,
     "metadata": {},
     "output_type": "execute_result"
    }
   ],
   "source": [
    "matriz_confusion=metrics.confusion_matrix(y_test,y_pred_xtree)\n",
    "matriz_confusion"
   ]
  },
  {
   "cell_type": "markdown",
   "metadata": {},
   "source": [
    "### roc xtratreeclasiffier"
   ]
  },
  {
   "cell_type": "code",
   "execution_count": 75,
   "metadata": {},
   "outputs": [
    {
     "data": {
      "text/plain": [
       "<matplotlib.legend.Legend at 0x2828c6094e0>"
      ]
     },
     "execution_count": 75,
     "metadata": {},
     "output_type": "execute_result"
    },
    {
     "data": {
      "image/png": "[encoded data removed]",
      "text/plain": [
       "<matplotlib.figure.Figure at 0x2828c1a4d68>"
      ]
     },
     "metadata": {},
     "output_type": "display_data"
    }
   ],
   "source": [
    "probabilidades_test = modelo_xtratree.predict_proba(X_test)\n",
    "predicciones_test = np.where(probabilidades_test[:,1] > 0.5, +1, -1) \n",
    "fpr, tpr, umbrales = metrics.roc_curve(y_test, probabilidades_test[:,1])\n",
    "auc_roc = metrics.roc_auc_score(y_test, probabilidades_test[:,1])\n",
    "\n",
    "plt.rcParams.update({'font.size': 9})\n",
    "plt.plot(fpr, tpr, label= (\"Curva ROC\") )\n",
    "plt.xlabel(\"FPR\")\n",
    "plt.ylabel(\"TPR (exhaustividad)\")\n",
    "plt.title((\"Curva ROC (AUC = %.4f)\" % auc_roc))\n",
    "# ubicamos el punto más cercano a 0.5\n",
    "umbral_05 = np.argmin(np.abs(umbrales - 0.5))\n",
    "plt.plot(fpr[umbral_05], tpr[umbral_05], 'o', markersize=10,\n",
    "         label=\"Umbral 0.5\", fillstyle=\"none\", c='r', mew=2)\n",
    "plt.legend(loc='best', numpoints = 1)"
   ]
  },
  {
   "cell_type": "markdown",
   "metadata": {},
   "source": [
    "### Cross validation para extra tree classifier"
   ]
  },
  {
   "cell_type": "code",
   "execution_count": 76,
   "metadata": {},
   "outputs": [
    {
     "name": "stdout",
     "output_type": "stream",
     "text": [
      "precisiones: [ 0.79393707  0.78933231  0.78971604  0.76353167  0.76660269  0.78302611\n",
      "  0.79953917  0.80414747  0.77764977  0.78110599]\n",
      "Precision promedio:  0.785 +/-  0.013\n"
     ]
    }
   ],
   "source": [
    "precision = cross_val_score(modelo_xtratree,X=X_train, y=y_train,cv=10, n_jobs=-1)\n",
    "\n",
    "print('precisiones: {}'.format(precision))\n",
    "print('Precision promedio: {0: .3f} +/- {1: .3f}'.format(np.mean(precision),\n",
    "                                          np.std(precision)))"
   ]
  },
  {
   "cell_type": "markdown",
   "metadata": {},
   "source": [
    "# ENSAMBLE\n",
    "Mis modelos son:  logreg, modelo_svm, modelo_knn, modelo_tree y modelo_xtratree\n"
   ]
  },
  {
   "cell_type": "code",
   "execution_count": 77,
   "metadata": {},
   "outputs": [
    {
     "data": {
      "text/html": [
       "<div>\n",
       "<style scoped>\n",
       "    .dataframe tbody tr th:only-of-type {\n",
       "        vertical-align: middle;\n",
       "    }\n",
       "\n",
       "    .dataframe tbody tr th {\n",
       "        vertical-align: top;\n",
       "    }\n",
       "\n",
       "    .dataframe thead th {\n",
       "        text-align: right;\n",
       "    }\n",
       "</style>\n",
       "<table border=\"1\" class=\"dataframe\">\n",
       "  <thead>\n",
       "    <tr style=\"text-align: right;\">\n",
       "      <th></th>\n",
       "      <th>0</th>\n",
       "      <th>0</th>\n",
       "      <th>0</th>\n",
       "      <th>0</th>\n",
       "    </tr>\n",
       "  </thead>\n",
       "  <tbody>\n",
       "    <tr>\n",
       "      <th>0</th>\n",
       "      <td>1</td>\n",
       "      <td>1</td>\n",
       "      <td>1</td>\n",
       "      <td>1</td>\n",
       "    </tr>\n",
       "    <tr>\n",
       "      <th>1</th>\n",
       "      <td>-1</td>\n",
       "      <td>-1</td>\n",
       "      <td>-1</td>\n",
       "      <td>1</td>\n",
       "    </tr>\n",
       "    <tr>\n",
       "      <th>2</th>\n",
       "      <td>1</td>\n",
       "      <td>1</td>\n",
       "      <td>1</td>\n",
       "      <td>1</td>\n",
       "    </tr>\n",
       "    <tr>\n",
       "      <th>3</th>\n",
       "      <td>1</td>\n",
       "      <td>1</td>\n",
       "      <td>1</td>\n",
       "      <td>1</td>\n",
       "    </tr>\n",
       "    <tr>\n",
       "      <th>4</th>\n",
       "      <td>1</td>\n",
       "      <td>1</td>\n",
       "      <td>1</td>\n",
       "      <td>1</td>\n",
       "    </tr>\n",
       "  </tbody>\n",
       "</table>\n",
       "</div>"
      ],
      "text/plain": [
       "   0  0  0  0\n",
       "0  1  1  1  1\n",
       "1 -1 -1 -1  1\n",
       "2  1  1  1  1\n",
       "3  1  1  1  1\n",
       "4  1  1  1  1"
      ]
     },
     "execution_count": 77,
     "metadata": {},
     "output_type": "execute_result"
    }
   ],
   "source": [
    "pred_base_train = pd.concat([pd.DataFrame(logreg.predict(X_train)),\n",
    "                             pd.DataFrame(modelo_svm.predict(X_train)),\n",
    "                             pd.DataFrame(modelo_knn.predict(X_train)),\n",
    "                             pd.DataFrame(modelo_tree.predict(X_train))], \n",
    "                         axis=1)\n",
    "pred_base_train.head()"
   ]
  },
  {
   "cell_type": "code",
   "execution_count": 79,
   "metadata": {},
   "outputs": [
    {
     "data": {
      "text/plain": [
       "LogisticRegression(C=0.01, class_weight=None, dual=False, fit_intercept=True,\n",
       "          intercept_scaling=1, max_iter=100, multi_class='ovr', n_jobs=1,\n",
       "          penalty='l2', random_state=0, solver='liblinear', tol=0.0001,\n",
       "          verbose=0, warm_start=False)"
      ]
     },
     "execution_count": 79,
     "metadata": {},
     "output_type": "execute_result"
    }
   ],
   "source": [
    "#c=1/alfa\n",
    "mejor_score = 0\n",
    "mejor_C = None\n",
    "\n",
    "for C in np.logspace(-2,4,13):  # ~ [0.01, 0.03, 0.1, ..., 10000] \n",
    "    modelo_ensamble = LogisticRegression(penalty='l2', C=C, random_state=0)\n",
    "    scores_val = cross_val_score(modelo_ensamble, pred_base_train, y_train, cv=10)\n",
    "    score_val_medio = np.mean(scores_val)  # Obtener la exactitud media de la validación cruzada en cada fold\n",
    "    if score_val_medio > mejor_score: \n",
    "        mejor_score = score_val_medio\n",
    "        mejor_C = C\n",
    "\n",
    "modelo_ensamble = LogisticRegression(penalty='l2', C=mejor_C, random_state=0)\n",
    "modelo_ensamble.fit(pred_base_train, y_train)"
   ]
  },
  {
   "cell_type": "code",
   "execution_count": 80,
   "metadata": {},
   "outputs": [],
   "source": [
    "#calculo el accuracy\n",
    "\n",
    "pred_base_test = pd.concat([pd.DataFrame(logreg.predict(X_test)),\n",
    "                             pd.DataFrame(modelo_svm.predict(X_test)),\n",
    "                             pd.DataFrame(modelo_knn.predict(X_test)),\n",
    "                             pd.DataFrame(modelo_tree.predict(X_test))], \n",
    "                         axis=1)"
   ]
  },
  {
   "cell_type": "code",
   "execution_count": 81,
   "metadata": {},
   "outputs": [
    {
     "data": {
      "text/plain": [
       "0.80009212344541691"
      ]
     },
     "execution_count": 81,
     "metadata": {},
     "output_type": "execute_result"
    }
   ],
   "source": [
    "modelo_ensamble.score(pred_base_test, y_test)"
   ]
  },
  {
   "cell_type": "code",
   "execution_count": null,
   "metadata": {},
   "outputs": [],
   "source": []
  }
 ],
 "metadata": {
  "kernelspec": {
   "display_name": "Python 3",
   "language": "python",
   "name": "python3"
  },
  "language_info": {
   "codemirror_mode": {
    "name": "ipython",
    "version": 3
   },
   "file_extension": ".py",
   "mimetype": "text/x-python",
   "name": "python",
   "nbconvert_exporter": "python",
   "pygments_lexer": "ipython3",
   "version": "3.6.4"
  }
 },
 "nbformat": 4,
 "nbformat_minor": 2
}
