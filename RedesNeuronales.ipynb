{
 "cells": [
  {
   "cell_type": "code",
   "execution_count": 1,
   "metadata": {},
   "outputs": [],
   "source": [
    "import pandas as pd\n",
    "import numpy as np\n",
    "import matplotlib.pyplot as plt\n",
    "%matplotlib inline\n",
    "df = pd.read_csv(\"adult.csv\")\n"
   ]
  },
  {
   "cell_type": "code",
   "execution_count": 2,
   "metadata": {},
   "outputs": [
    {
     "data": {
      "text/plain": [
       "(32561, 15)"
      ]
     },
     "execution_count": 2,
     "metadata": {},
     "output_type": "execute_result"
    }
   ],
   "source": [
    "#df.describe\n",
    "df.shape  #tenemos 32561 filas y 15 columnas"
   ]
  },
  {
   "cell_type": "code",
   "execution_count": 3,
   "metadata": {},
   "outputs": [
    {
     "data": {
      "text/html": [
       "<div>\n",
       "<style scoped>\n",
       "    .dataframe tbody tr th:only-of-type {\n",
       "        vertical-align: middle;\n",
       "    }\n",
       "\n",
       "    .dataframe tbody tr th {\n",
       "        vertical-align: top;\n",
       "    }\n",
       "\n",
       "    .dataframe thead th {\n",
       "        text-align: right;\n",
       "    }\n",
       "</style>\n",
       "<table border=\"1\" class=\"dataframe\">\n",
       "  <thead>\n",
       "    <tr style=\"text-align: right;\">\n",
       "      <th></th>\n",
       "      <th>age</th>\n",
       "      <th>fnlwgt</th>\n",
       "      <th>education.num</th>\n",
       "      <th>capital.gain</th>\n",
       "      <th>capital.loss</th>\n",
       "      <th>hours.per.week</th>\n",
       "    </tr>\n",
       "  </thead>\n",
       "  <tbody>\n",
       "    <tr>\n",
       "      <th>count</th>\n",
       "      <td>32561.000000</td>\n",
       "      <td>3.256100e+04</td>\n",
       "      <td>32561.000000</td>\n",
       "      <td>32561.000000</td>\n",
       "      <td>32561.000000</td>\n",
       "      <td>32561.000000</td>\n",
       "    </tr>\n",
       "    <tr>\n",
       "      <th>mean</th>\n",
       "      <td>38.581647</td>\n",
       "      <td>1.897784e+05</td>\n",
       "      <td>10.080679</td>\n",
       "      <td>1077.648844</td>\n",
       "      <td>87.303830</td>\n",
       "      <td>40.437456</td>\n",
       "    </tr>\n",
       "    <tr>\n",
       "      <th>std</th>\n",
       "      <td>13.640433</td>\n",
       "      <td>1.055500e+05</td>\n",
       "      <td>2.572720</td>\n",
       "      <td>7385.292085</td>\n",
       "      <td>402.960219</td>\n",
       "      <td>12.347429</td>\n",
       "    </tr>\n",
       "    <tr>\n",
       "      <th>min</th>\n",
       "      <td>17.000000</td>\n",
       "      <td>1.228500e+04</td>\n",
       "      <td>1.000000</td>\n",
       "      <td>0.000000</td>\n",
       "      <td>0.000000</td>\n",
       "      <td>1.000000</td>\n",
       "    </tr>\n",
       "    <tr>\n",
       "      <th>25%</th>\n",
       "      <td>28.000000</td>\n",
       "      <td>1.178270e+05</td>\n",
       "      <td>9.000000</td>\n",
       "      <td>0.000000</td>\n",
       "      <td>0.000000</td>\n",
       "      <td>40.000000</td>\n",
       "    </tr>\n",
       "    <tr>\n",
       "      <th>50%</th>\n",
       "      <td>37.000000</td>\n",
       "      <td>1.783560e+05</td>\n",
       "      <td>10.000000</td>\n",
       "      <td>0.000000</td>\n",
       "      <td>0.000000</td>\n",
       "      <td>40.000000</td>\n",
       "    </tr>\n",
       "    <tr>\n",
       "      <th>75%</th>\n",
       "      <td>48.000000</td>\n",
       "      <td>2.370510e+05</td>\n",
       "      <td>12.000000</td>\n",
       "      <td>0.000000</td>\n",
       "      <td>0.000000</td>\n",
       "      <td>45.000000</td>\n",
       "    </tr>\n",
       "    <tr>\n",
       "      <th>max</th>\n",
       "      <td>90.000000</td>\n",
       "      <td>1.484705e+06</td>\n",
       "      <td>16.000000</td>\n",
       "      <td>99999.000000</td>\n",
       "      <td>4356.000000</td>\n",
       "      <td>99.000000</td>\n",
       "    </tr>\n",
       "  </tbody>\n",
       "</table>\n",
       "</div>"
      ],
      "text/plain": [
       "                age        fnlwgt  education.num  capital.gain  capital.loss  \\\n",
       "count  32561.000000  3.256100e+04   32561.000000  32561.000000  32561.000000   \n",
       "mean      38.581647  1.897784e+05      10.080679   1077.648844     87.303830   \n",
       "std       13.640433  1.055500e+05       2.572720   7385.292085    402.960219   \n",
       "min       17.000000  1.228500e+04       1.000000      0.000000      0.000000   \n",
       "25%       28.000000  1.178270e+05       9.000000      0.000000      0.000000   \n",
       "50%       37.000000  1.783560e+05      10.000000      0.000000      0.000000   \n",
       "75%       48.000000  2.370510e+05      12.000000      0.000000      0.000000   \n",
       "max       90.000000  1.484705e+06      16.000000  99999.000000   4356.000000   \n",
       "\n",
       "       hours.per.week  \n",
       "count    32561.000000  \n",
       "mean        40.437456  \n",
       "std         12.347429  \n",
       "min          1.000000  \n",
       "25%         40.000000  \n",
       "50%         40.000000  \n",
       "75%         45.000000  \n",
       "max         99.000000  "
      ]
     },
     "execution_count": 3,
     "metadata": {},
     "output_type": "execute_result"
    }
   ],
   "source": [
    "df.describe()"
   ]
  },
  {
   "cell_type": "code",
   "execution_count": 4,
   "metadata": {},
   "outputs": [
    {
     "data": {
      "text/html": [
       "<div>\n",
       "<style scoped>\n",
       "    .dataframe tbody tr th:only-of-type {\n",
       "        vertical-align: middle;\n",
       "    }\n",
       "\n",
       "    .dataframe tbody tr th {\n",
       "        vertical-align: top;\n",
       "    }\n",
       "\n",
       "    .dataframe thead th {\n",
       "        text-align: right;\n",
       "    }\n",
       "</style>\n",
       "<table border=\"1\" class=\"dataframe\">\n",
       "  <thead>\n",
       "    <tr style=\"text-align: right;\">\n",
       "      <th></th>\n",
       "      <th>age</th>\n",
       "      <th>workclass</th>\n",
       "      <th>fnlwgt</th>\n",
       "      <th>education</th>\n",
       "      <th>education.num</th>\n",
       "      <th>marital.status</th>\n",
       "      <th>occupation</th>\n",
       "      <th>relationship</th>\n",
       "      <th>race</th>\n",
       "      <th>sex</th>\n",
       "      <th>capital.gain</th>\n",
       "      <th>capital.loss</th>\n",
       "      <th>hours.per.week</th>\n",
       "      <th>native.country</th>\n",
       "      <th>income</th>\n",
       "    </tr>\n",
       "  </thead>\n",
       "  <tbody>\n",
       "    <tr>\n",
       "      <th>0</th>\n",
       "      <td>90</td>\n",
       "      <td>?</td>\n",
       "      <td>77053</td>\n",
       "      <td>HS-grad</td>\n",
       "      <td>9</td>\n",
       "      <td>Widowed</td>\n",
       "      <td>?</td>\n",
       "      <td>Not-in-family</td>\n",
       "      <td>White</td>\n",
       "      <td>Female</td>\n",
       "      <td>0</td>\n",
       "      <td>4356</td>\n",
       "      <td>40</td>\n",
       "      <td>United-States</td>\n",
       "      <td>&lt;=50K</td>\n",
       "    </tr>\n",
       "    <tr>\n",
       "      <th>1</th>\n",
       "      <td>82</td>\n",
       "      <td>Private</td>\n",
       "      <td>132870</td>\n",
       "      <td>HS-grad</td>\n",
       "      <td>9</td>\n",
       "      <td>Widowed</td>\n",
       "      <td>Exec-managerial</td>\n",
       "      <td>Not-in-family</td>\n",
       "      <td>White</td>\n",
       "      <td>Female</td>\n",
       "      <td>0</td>\n",
       "      <td>4356</td>\n",
       "      <td>18</td>\n",
       "      <td>United-States</td>\n",
       "      <td>&lt;=50K</td>\n",
       "    </tr>\n",
       "    <tr>\n",
       "      <th>2</th>\n",
       "      <td>66</td>\n",
       "      <td>?</td>\n",
       "      <td>186061</td>\n",
       "      <td>Some-college</td>\n",
       "      <td>10</td>\n",
       "      <td>Widowed</td>\n",
       "      <td>?</td>\n",
       "      <td>Unmarried</td>\n",
       "      <td>Black</td>\n",
       "      <td>Female</td>\n",
       "      <td>0</td>\n",
       "      <td>4356</td>\n",
       "      <td>40</td>\n",
       "      <td>United-States</td>\n",
       "      <td>&lt;=50K</td>\n",
       "    </tr>\n",
       "    <tr>\n",
       "      <th>3</th>\n",
       "      <td>54</td>\n",
       "      <td>Private</td>\n",
       "      <td>140359</td>\n",
       "      <td>7th-8th</td>\n",
       "      <td>4</td>\n",
       "      <td>Divorced</td>\n",
       "      <td>Machine-op-inspct</td>\n",
       "      <td>Unmarried</td>\n",
       "      <td>White</td>\n",
       "      <td>Female</td>\n",
       "      <td>0</td>\n",
       "      <td>3900</td>\n",
       "      <td>40</td>\n",
       "      <td>United-States</td>\n",
       "      <td>&lt;=50K</td>\n",
       "    </tr>\n",
       "    <tr>\n",
       "      <th>4</th>\n",
       "      <td>41</td>\n",
       "      <td>Private</td>\n",
       "      <td>264663</td>\n",
       "      <td>Some-college</td>\n",
       "      <td>10</td>\n",
       "      <td>Separated</td>\n",
       "      <td>Prof-specialty</td>\n",
       "      <td>Own-child</td>\n",
       "      <td>White</td>\n",
       "      <td>Female</td>\n",
       "      <td>0</td>\n",
       "      <td>3900</td>\n",
       "      <td>40</td>\n",
       "      <td>United-States</td>\n",
       "      <td>&lt;=50K</td>\n",
       "    </tr>\n",
       "  </tbody>\n",
       "</table>\n",
       "</div>"
      ],
      "text/plain": [
       "   age workclass  fnlwgt     education  education.num marital.status  \\\n",
       "0   90         ?   77053       HS-grad              9        Widowed   \n",
       "1   82   Private  132870       HS-grad              9        Widowed   \n",
       "2   66         ?  186061  Some-college             10        Widowed   \n",
       "3   54   Private  140359       7th-8th              4       Divorced   \n",
       "4   41   Private  264663  Some-college             10      Separated   \n",
       "\n",
       "          occupation   relationship   race     sex  capital.gain  \\\n",
       "0                  ?  Not-in-family  White  Female             0   \n",
       "1    Exec-managerial  Not-in-family  White  Female             0   \n",
       "2                  ?      Unmarried  Black  Female             0   \n",
       "3  Machine-op-inspct      Unmarried  White  Female             0   \n",
       "4     Prof-specialty      Own-child  White  Female             0   \n",
       "\n",
       "   capital.loss  hours.per.week native.country income  \n",
       "0          4356              40  United-States  <=50K  \n",
       "1          4356              18  United-States  <=50K  \n",
       "2          4356              40  United-States  <=50K  \n",
       "3          3900              40  United-States  <=50K  \n",
       "4          3900              40  United-States  <=50K  "
      ]
     },
     "execution_count": 4,
     "metadata": {},
     "output_type": "execute_result"
    }
   ],
   "source": [
    "df.head()"
   ]
  },
  {
   "cell_type": "code",
   "execution_count": 5,
   "metadata": {},
   "outputs": [
    {
     "data": {
      "text/html": [
       "<div>\n",
       "<style scoped>\n",
       "    .dataframe tbody tr th:only-of-type {\n",
       "        vertical-align: middle;\n",
       "    }\n",
       "\n",
       "    .dataframe tbody tr th {\n",
       "        vertical-align: top;\n",
       "    }\n",
       "\n",
       "    .dataframe thead th {\n",
       "        text-align: right;\n",
       "    }\n",
       "</style>\n",
       "<table border=\"1\" class=\"dataframe\">\n",
       "  <thead>\n",
       "    <tr style=\"text-align: right;\">\n",
       "      <th></th>\n",
       "      <th>age</th>\n",
       "      <th>fnlwgt</th>\n",
       "    </tr>\n",
       "  </thead>\n",
       "  <tbody>\n",
       "    <tr>\n",
       "      <th>sum</th>\n",
       "      <td>1.256257e+06</td>\n",
       "      <td>6.179373e+09</td>\n",
       "    </tr>\n",
       "    <tr>\n",
       "      <th>mean</th>\n",
       "      <td>3.858165e+01</td>\n",
       "      <td>1.897784e+05</td>\n",
       "    </tr>\n",
       "    <tr>\n",
       "      <th>min</th>\n",
       "      <td>1.700000e+01</td>\n",
       "      <td>1.228500e+04</td>\n",
       "    </tr>\n",
       "    <tr>\n",
       "      <th>max</th>\n",
       "      <td>9.000000e+01</td>\n",
       "      <td>1.484705e+06</td>\n",
       "    </tr>\n",
       "  </tbody>\n",
       "</table>\n",
       "</div>"
      ],
      "text/plain": [
       "               age        fnlwgt\n",
       "sum   1.256257e+06  6.179373e+09\n",
       "mean  3.858165e+01  1.897784e+05\n",
       "min   1.700000e+01  1.228500e+04\n",
       "max   9.000000e+01  1.484705e+06"
      ]
     },
     "execution_count": 5,
     "metadata": {},
     "output_type": "execute_result"
    }
   ],
   "source": [
    "df.agg({'age': ['sum', 'mean','min','max'], 'fnlwgt': ['sum', 'mean','min','max']})"
   ]
  },
  {
   "cell_type": "code",
   "execution_count": 6,
   "metadata": {},
   "outputs": [
    {
     "name": "stdout",
     "output_type": "stream",
     "text": [
      "<=50K    75.919044\n",
      ">50K     24.080956\n",
      "Name: income, dtype: float64\n"
     ]
    }
   ],
   "source": [
    "#porcentaje de la infromación\n",
    "print((df['income'].value_counts()/df.count().income)* 100)\n"
   ]
  },
  {
   "cell_type": "code",
   "execution_count": 8,
   "metadata": {},
   "outputs": [],
   "source": [
    "# para graficos\n",
    "import seaborn as sns\n"
   ]
  },
  {
   "cell_type": "markdown",
   "metadata": {},
   "source": [
    "Para el primer análisis verificamos la el procentaje de ingresos (income) "
   ]
  },
  {
   "cell_type": "code",
   "execution_count": 6,
   "metadata": {},
   "outputs": [
    {
     "data": {
      "text/plain": [
       "<matplotlib.axes._subplots.AxesSubplot at 0x7b5aa30>"
      ]
     },
     "execution_count": 6,
     "metadata": {},
     "output_type": "execute_result"
    },
    {
     "data": {
      "image/png": "[encoded data removed]",
      "text/plain": [
       "<matplotlib.figure.Figure at 0x3d20730>"
      ]
     },
     "metadata": {},
     "output_type": "display_data"
    }
   ],
   "source": [
    "df.boxplot(return_type='axes')"
   ]
  },
  {
   "cell_type": "code",
   "execution_count": 8,
   "metadata": {},
   "outputs": [],
   "source": [
    "#X = df[['education', 'sex']]\n",
    "#y = df['income']"
   ]
  },
  {
   "cell_type": "code",
   "execution_count": 4,
   "metadata": {},
   "outputs": [
    {
     "name": "stdout",
     "output_type": "stream",
     "text": [
      "Ingresos\n",
      "<=50K    24720\n",
      ">50K      7841\n",
      "Name: income, dtype: int64\n"
     ]
    },
    {
     "data": {
      "text/plain": [
       "<matplotlib.axes._subplots.AxesSubplot at 0x7eafff0>"
      ]
     },
     "execution_count": 4,
     "metadata": {},
     "output_type": "execute_result"
    },
    {
     "data": {
      "image/png": "[encoded data removed]",
      "text/plain": [
       "<matplotlib.figure.Figure at 0x7eafc50>"
      ]
     },
     "metadata": {},
     "output_type": "display_data"
    }
   ],
   "source": [
    "print('Ingresos' )\n",
    "print( df['income'].value_counts())\n",
    "df['income'].value_counts(ascending=True).plot(kind='barh')"
   ]
  },
  {
   "cell_type": "code",
   "execution_count": null,
   "metadata": {},
   "outputs": [],
   "source": []
  },
  {
   "cell_type": "code",
   "execution_count": 87,
   "metadata": {},
   "outputs": [
    {
     "name": "stdout",
     "output_type": "stream",
     "text": [
      "income        <=50K  >50K\n",
      "education                \n",
      "10th            871    62\n",
      "11th           1115    60\n",
      "12th            400    33\n",
      "1st-4th         162     6\n",
      "5th-6th         317    16\n",
      "7th-8th         606    40\n",
      "9th             487    27\n",
      "Assoc-acdm      802   265\n",
      "Assoc-voc      1021   361\n",
      "Bachelors      3134  2221\n",
      "Doctorate       107   306\n",
      "HS-grad        8826  1675\n",
      "Masters         764   959\n",
      "Preschool        51     0\n",
      "Prof-school     153   423\n",
      "Some-college   5904  1387\n"
     ]
    },
    {
     "data": {
      "image/png": "[encoded data removed]",
      "text/plain": [
       "<matplotlib.figure.Figure at 0xa416e30>"
      ]
     },
     "metadata": {},
     "output_type": "display_data"
    }
   ],
   "source": [
    "# Grafico educacion e ingreso\n",
    "print(pd.crosstab(df.education, df.income))\n",
    "ct=pd.crosstab(df['education'], df['income'])\n",
    "ct.plot.bar(stacked=True, figsize=(10,6), rot = 80 )\n",
    "plt.legend(title='income')\n",
    "plt.show()\n"
   ]
  },
  {
   "cell_type": "code",
   "execution_count": 88,
   "metadata": {
    "scrolled": true
   },
   "outputs": [
    {
     "name": "stdout",
     "output_type": "stream",
     "text": [
      "income             <=50K  >50K\n",
      "occupation                    \n",
      "?                   1652   191\n",
      "Adm-clerical        3263   507\n",
      "Armed-Forces           8     1\n",
      "Craft-repair        3170   929\n",
      "Exec-managerial     2098  1968\n",
      "Farming-fishing      879   115\n",
      "Handlers-cleaners   1284    86\n",
      "Machine-op-inspct   1752   250\n",
      "Other-service       3158   137\n",
      "Priv-house-serv      148     1\n",
      "Prof-specialty      2281  1859\n",
      "Protective-serv      438   211\n",
      "Sales               2667   983\n",
      "Tech-support         645   283\n",
      "Transport-moving    1277   320\n"
     ]
    },
    {
     "data": {
      "image/png": "[encoded data removed]",
      "text/plain": [
       "<matplotlib.figure.Figure at 0xac3d4d0>"
      ]
     },
     "metadata": {},
     "output_type": "display_data"
    }
   ],
   "source": [
    "# Grafico ocupación e ingreso\n",
    "print(pd.crosstab(df.occupation, df.income))\n",
    "ct=pd.crosstab(df['occupation'], df['income'])\n",
    "ct.plot.bar(stacked=True, figsize=(10,6), rot = 80 )\n",
    "plt.legend(title='income')\n",
    "plt.show()\n"
   ]
  },
  {
   "cell_type": "code",
   "execution_count": 89,
   "metadata": {},
   "outputs": [
    {
     "name": "stdout",
     "output_type": "stream",
     "text": [
      "income            <=50K  >50K\n",
      "workclass                    \n",
      "?                  1645   191\n",
      "Federal-gov         589   371\n",
      "Local-gov          1476   617\n",
      "Never-worked          7     0\n",
      "Private           17733  4963\n",
      "Self-emp-inc        494   622\n",
      "Self-emp-not-inc   1817   724\n",
      "State-gov           945   353\n",
      "Without-pay          14     0\n"
     ]
    },
    {
     "data": {
      "image/png": "[encoded data removed]",
      "text/plain": [
       "<matplotlib.figure.Figure at 0xac0d490>"
      ]
     },
     "metadata": {},
     "output_type": "display_data"
    }
   ],
   "source": [
    "# Grafico sector de trabajo e ingreso\n",
    "print(pd.crosstab(df.workclass, df.income))\n",
    "ct=pd.crosstab(df['workclass'], df['income'])\n",
    "ct.plot.bar(stacked=True, figsize=(10,6), rot = 80 )\n",
    "plt.legend(title='income')\n",
    "plt.show()\n",
    "\n"
   ]
  },
  {
   "cell_type": "code",
   "execution_count": 32,
   "metadata": {},
   "outputs": [
    {
     "name": "stdout",
     "output_type": "stream",
     "text": [
      "income          <=50K  >50K\n",
      "relationship               \n",
      "Husband          7275  5918\n",
      "Not-in-family    7449   856\n",
      "Other-relative    944    37\n",
      "Own-child        5001    67\n",
      "Unmarried        3228   218\n",
      "Wife              823   745\n"
     ]
    },
    {
     "data": {
      "image/png": "[encoded data removed]",
      "text/plain": [
       "<matplotlib.figure.Figure at 0xd203c30>"
      ]
     },
     "metadata": {},
     "output_type": "display_data"
    }
   ],
   "source": [
    "# Grafico Pais de procedencia e ingreso\n",
    "print(pd.crosstab(df['relationship'], df.income))\n",
    "ct=pd.crosstab(df['relationship'], df['income'])\n",
    "ct.plot.bar(stacked=True, figsize=(10,6), rot = 80 )\n",
    "plt.legend(title='income')\n",
    "plt.show()\n"
   ]
  },
  {
   "cell_type": "code",
   "execution_count": 92,
   "metadata": {},
   "outputs": [
    {
     "name": "stdout",
     "output_type": "stream",
     "text": [
      "income                 <=50K  >50K\n",
      "marital.status                    \n",
      "Divorced                3980   463\n",
      "Married-AF-spouse         13    10\n",
      "Married-civ-spouse      8284  6692\n",
      "Married-spouse-absent    384    34\n",
      "Never-married          10192   491\n",
      "Separated                959    66\n",
      "Widowed                  908    85\n"
     ]
    },
    {
     "data": {
      "image/png": "[encoded data removed]",
      "text/plain": [
       "<matplotlib.figure.Figure at 0xc148490>"
      ]
     },
     "metadata": {},
     "output_type": "display_data"
    }
   ],
   "source": [
    "# Grafico Estado Civil  e ingreso\n",
    "\n",
    "print(pd.crosstab(df['marital.status'], df.income))\n",
    "ct=pd.crosstab(df['marital.status'], df['income'])\n",
    "ct.plot.bar(stacked=True, figsize=(10,6), rot = 80 )\n",
    "plt.legend(title='income')\n",
    "plt.show()"
   ]
  },
  {
   "cell_type": "code",
   "execution_count": 93,
   "metadata": {},
   "outputs": [
    {
     "name": "stdout",
     "output_type": "stream",
     "text": [
      "income          <=50K  >50K\n",
      "relationship               \n",
      "Husband          7275  5918\n",
      "Not-in-family    7449   856\n",
      "Other-relative    944    37\n",
      "Own-child        5001    67\n",
      "Unmarried        3228   218\n",
      "Wife              823   745\n"
     ]
    },
    {
     "data": {
      "image/png": "[encoded data removed]",
      "text/plain": [
       "<matplotlib.figure.Figure at 0xc1d1350>"
      ]
     },
     "metadata": {},
     "output_type": "display_data"
    }
   ],
   "source": [
    "# Grafico Relacion Familiar   e ingreso\n",
    "\n",
    "print(pd.crosstab(df.relationship, df.income))\n",
    "ct=pd.crosstab(df['relationship'], df['income'])\n",
    "ct.plot.bar(stacked=True, figsize=(10,6), rot = 80 )\n",
    "plt.legend(title='income')\n",
    "plt.show()"
   ]
  },
  {
   "cell_type": "code",
   "execution_count": 94,
   "metadata": {},
   "outputs": [
    {
     "name": "stdout",
     "output_type": "stream",
     "text": [
      "income              <=50K  >50K\n",
      "race                           \n",
      "Amer-Indian-Eskimo    275    36\n",
      "Asian-Pac-Islander    763   276\n",
      "Black                2737   387\n",
      "Other                 246    25\n",
      "White               20699  7117\n"
     ]
    },
    {
     "data": {
      "image/png": "[encoded data removed]",
      "text/plain": [
       "<matplotlib.figure.Figure at 0xc1669d0>"
      ]
     },
     "metadata": {},
     "output_type": "display_data"
    }
   ],
   "source": [
    "# Grafico Raza e ingreso\n",
    "print( pd.crosstab(df['race'], df['income']) )\n",
    "ct=pd.crosstab(df['race'], df['income'])\n",
    "ct.plot.bar(stacked=True, figsize=(10,6), rot = 80 )\n",
    "plt.legend(title='income')\n",
    "plt.show()"
   ]
  },
  {
   "cell_type": "code",
   "execution_count": 95,
   "metadata": {},
   "outputs": [
    {
     "name": "stdout",
     "output_type": "stream",
     "text": [
      "income  <=50K  >50K\n",
      "sex                \n",
      "Female   9592  1179\n",
      "Male    15128  6662\n"
     ]
    },
    {
     "data": {
      "image/png": "[encoded data removed]",
      "text/plain": [
       "<matplotlib.figure.Figure at 0xc1ad730>"
      ]
     },
     "metadata": {},
     "output_type": "display_data"
    }
   ],
   "source": [
    "# Grafico sexo e ingreso\n",
    "print( pd.crosstab(df['sex'], df['income']))\n",
    "ct=pd.crosstab(df['sex'], df['income'])\n",
    "ct.plot.bar(stacked=True, figsize=(10,6), rot = 80 )\n",
    "plt.legend(title='income')\n",
    "plt.show()"
   ]
  },
  {
   "cell_type": "code",
   "execution_count": 103,
   "metadata": {},
   "outputs": [
    {
     "data": {
      "text/html": [
       "<div>\n",
       "<style scoped>\n",
       "    .dataframe tbody tr th:only-of-type {\n",
       "        vertical-align: middle;\n",
       "    }\n",
       "\n",
       "    .dataframe tbody tr th {\n",
       "        vertical-align: top;\n",
       "    }\n",
       "\n",
       "    .dataframe thead tr th {\n",
       "        text-align: left;\n",
       "    }\n",
       "\n",
       "    .dataframe thead tr:last-of-type th {\n",
       "        text-align: right;\n",
       "    }\n",
       "</style>\n",
       "<table border=\"1\" class=\"dataframe\">\n",
       "  <thead>\n",
       "    <tr>\n",
       "      <th>income</th>\n",
       "      <th colspan=\"9\" halign=\"left\">&lt;=50K</th>\n",
       "      <th colspan=\"7\" halign=\"left\">&gt;50K</th>\n",
       "    </tr>\n",
       "    <tr>\n",
       "      <th>workclass</th>\n",
       "      <th>?</th>\n",
       "      <th>Federal-gov</th>\n",
       "      <th>Local-gov</th>\n",
       "      <th>Never-worked</th>\n",
       "      <th>Private</th>\n",
       "      <th>Self-emp-inc</th>\n",
       "      <th>Self-emp-not-inc</th>\n",
       "      <th>State-gov</th>\n",
       "      <th>Without-pay</th>\n",
       "      <th>?</th>\n",
       "      <th>Federal-gov</th>\n",
       "      <th>Local-gov</th>\n",
       "      <th>Private</th>\n",
       "      <th>Self-emp-inc</th>\n",
       "      <th>Self-emp-not-inc</th>\n",
       "      <th>State-gov</th>\n",
       "    </tr>\n",
       "    <tr>\n",
       "      <th>occupation</th>\n",
       "      <th></th>\n",
       "      <th></th>\n",
       "      <th></th>\n",
       "      <th></th>\n",
       "      <th></th>\n",
       "      <th></th>\n",
       "      <th></th>\n",
       "      <th></th>\n",
       "      <th></th>\n",
       "      <th></th>\n",
       "      <th></th>\n",
       "      <th></th>\n",
       "      <th></th>\n",
       "      <th></th>\n",
       "      <th></th>\n",
       "      <th></th>\n",
       "    </tr>\n",
       "  </thead>\n",
       "  <tbody>\n",
       "    <tr>\n",
       "      <th>?</th>\n",
       "      <td>1645</td>\n",
       "      <td>0</td>\n",
       "      <td>0</td>\n",
       "      <td>7</td>\n",
       "      <td>0</td>\n",
       "      <td>0</td>\n",
       "      <td>0</td>\n",
       "      <td>0</td>\n",
       "      <td>0</td>\n",
       "      <td>191</td>\n",
       "      <td>0</td>\n",
       "      <td>0</td>\n",
       "      <td>0</td>\n",
       "      <td>0</td>\n",
       "      <td>0</td>\n",
       "      <td>0</td>\n",
       "    </tr>\n",
       "    <tr>\n",
       "      <th>Adm-clerical</th>\n",
       "      <td>0</td>\n",
       "      <td>216</td>\n",
       "      <td>250</td>\n",
       "      <td>0</td>\n",
       "      <td>2512</td>\n",
       "      <td>22</td>\n",
       "      <td>34</td>\n",
       "      <td>226</td>\n",
       "      <td>3</td>\n",
       "      <td>0</td>\n",
       "      <td>101</td>\n",
       "      <td>33</td>\n",
       "      <td>321</td>\n",
       "      <td>9</td>\n",
       "      <td>16</td>\n",
       "      <td>27</td>\n",
       "    </tr>\n",
       "    <tr>\n",
       "      <th>Armed-Forces</th>\n",
       "      <td>0</td>\n",
       "      <td>8</td>\n",
       "      <td>0</td>\n",
       "      <td>0</td>\n",
       "      <td>0</td>\n",
       "      <td>0</td>\n",
       "      <td>0</td>\n",
       "      <td>0</td>\n",
       "      <td>0</td>\n",
       "      <td>0</td>\n",
       "      <td>1</td>\n",
       "      <td>0</td>\n",
       "      <td>0</td>\n",
       "      <td>0</td>\n",
       "      <td>0</td>\n",
       "      <td>0</td>\n",
       "    </tr>\n",
       "    <tr>\n",
       "      <th>Craft-repair</th>\n",
       "      <td>0</td>\n",
       "      <td>43</td>\n",
       "      <td>106</td>\n",
       "      <td>0</td>\n",
       "      <td>2474</td>\n",
       "      <td>68</td>\n",
       "      <td>436</td>\n",
       "      <td>42</td>\n",
       "      <td>1</td>\n",
       "      <td>0</td>\n",
       "      <td>21</td>\n",
       "      <td>40</td>\n",
       "      <td>721</td>\n",
       "      <td>38</td>\n",
       "      <td>95</td>\n",
       "      <td>14</td>\n",
       "    </tr>\n",
       "    <tr>\n",
       "      <th>Exec-managerial</th>\n",
       "      <td>0</td>\n",
       "      <td>88</td>\n",
       "      <td>112</td>\n",
       "      <td>0</td>\n",
       "      <td>1396</td>\n",
       "      <td>146</td>\n",
       "      <td>248</td>\n",
       "      <td>108</td>\n",
       "      <td>0</td>\n",
       "      <td>0</td>\n",
       "      <td>92</td>\n",
       "      <td>102</td>\n",
       "      <td>1295</td>\n",
       "      <td>254</td>\n",
       "      <td>144</td>\n",
       "      <td>81</td>\n",
       "    </tr>\n",
       "    <tr>\n",
       "      <th>Farming-fishing</th>\n",
       "      <td>0</td>\n",
       "      <td>6</td>\n",
       "      <td>27</td>\n",
       "      <td>0</td>\n",
       "      <td>425</td>\n",
       "      <td>36</td>\n",
       "      <td>366</td>\n",
       "      <td>13</td>\n",
       "      <td>6</td>\n",
       "      <td>0</td>\n",
       "      <td>2</td>\n",
       "      <td>2</td>\n",
       "      <td>30</td>\n",
       "      <td>15</td>\n",
       "      <td>64</td>\n",
       "      <td>2</td>\n",
       "    </tr>\n",
       "    <tr>\n",
       "      <th>Handlers-cleaners</th>\n",
       "      <td>0</td>\n",
       "      <td>21</td>\n",
       "      <td>40</td>\n",
       "      <td>0</td>\n",
       "      <td>1200</td>\n",
       "      <td>2</td>\n",
       "      <td>12</td>\n",
       "      <td>8</td>\n",
       "      <td>1</td>\n",
       "      <td>0</td>\n",
       "      <td>2</td>\n",
       "      <td>7</td>\n",
       "      <td>73</td>\n",
       "      <td>0</td>\n",
       "      <td>3</td>\n",
       "      <td>1</td>\n",
       "    </tr>\n",
       "    <tr>\n",
       "      <th>Machine-op-inspct</th>\n",
       "      <td>0</td>\n",
       "      <td>12</td>\n",
       "      <td>10</td>\n",
       "      <td>0</td>\n",
       "      <td>1688</td>\n",
       "      <td>8</td>\n",
       "      <td>25</td>\n",
       "      <td>8</td>\n",
       "      <td>1</td>\n",
       "      <td>0</td>\n",
       "      <td>2</td>\n",
       "      <td>2</td>\n",
       "      <td>225</td>\n",
       "      <td>5</td>\n",
       "      <td>11</td>\n",
       "      <td>5</td>\n",
       "    </tr>\n",
       "    <tr>\n",
       "      <th>Other-service</th>\n",
       "      <td>0</td>\n",
       "      <td>32</td>\n",
       "      <td>181</td>\n",
       "      <td>0</td>\n",
       "      <td>2640</td>\n",
       "      <td>21</td>\n",
       "      <td>163</td>\n",
       "      <td>120</td>\n",
       "      <td>1</td>\n",
       "      <td>0</td>\n",
       "      <td>3</td>\n",
       "      <td>12</td>\n",
       "      <td>100</td>\n",
       "      <td>6</td>\n",
       "      <td>12</td>\n",
       "      <td>4</td>\n",
       "    </tr>\n",
       "    <tr>\n",
       "      <th>Priv-house-serv</th>\n",
       "      <td>0</td>\n",
       "      <td>0</td>\n",
       "      <td>0</td>\n",
       "      <td>0</td>\n",
       "      <td>148</td>\n",
       "      <td>0</td>\n",
       "      <td>0</td>\n",
       "      <td>0</td>\n",
       "      <td>0</td>\n",
       "      <td>0</td>\n",
       "      <td>0</td>\n",
       "      <td>0</td>\n",
       "      <td>1</td>\n",
       "      <td>0</td>\n",
       "      <td>0</td>\n",
       "      <td>0</td>\n",
       "    </tr>\n",
       "    <tr>\n",
       "      <th>Prof-specialty</th>\n",
       "      <td>0</td>\n",
       "      <td>80</td>\n",
       "      <td>451</td>\n",
       "      <td>0</td>\n",
       "      <td>1305</td>\n",
       "      <td>39</td>\n",
       "      <td>163</td>\n",
       "      <td>243</td>\n",
       "      <td>0</td>\n",
       "      <td>0</td>\n",
       "      <td>95</td>\n",
       "      <td>254</td>\n",
       "      <td>1008</td>\n",
       "      <td>121</td>\n",
       "      <td>210</td>\n",
       "      <td>171</td>\n",
       "    </tr>\n",
       "    <tr>\n",
       "      <th>Protective-serv</th>\n",
       "      <td>0</td>\n",
       "      <td>14</td>\n",
       "      <td>169</td>\n",
       "      <td>0</td>\n",
       "      <td>160</td>\n",
       "      <td>3</td>\n",
       "      <td>5</td>\n",
       "      <td>87</td>\n",
       "      <td>0</td>\n",
       "      <td>0</td>\n",
       "      <td>14</td>\n",
       "      <td>135</td>\n",
       "      <td>30</td>\n",
       "      <td>2</td>\n",
       "      <td>1</td>\n",
       "      <td>29</td>\n",
       "    </tr>\n",
       "    <tr>\n",
       "      <th>Sales</th>\n",
       "      <td>0</td>\n",
       "      <td>9</td>\n",
       "      <td>4</td>\n",
       "      <td>0</td>\n",
       "      <td>2258</td>\n",
       "      <td>131</td>\n",
       "      <td>257</td>\n",
       "      <td>8</td>\n",
       "      <td>0</td>\n",
       "      <td>0</td>\n",
       "      <td>5</td>\n",
       "      <td>3</td>\n",
       "      <td>684</td>\n",
       "      <td>160</td>\n",
       "      <td>128</td>\n",
       "      <td>3</td>\n",
       "    </tr>\n",
       "    <tr>\n",
       "      <th>Tech-support</th>\n",
       "      <td>0</td>\n",
       "      <td>43</td>\n",
       "      <td>23</td>\n",
       "      <td>0</td>\n",
       "      <td>515</td>\n",
       "      <td>1</td>\n",
       "      <td>15</td>\n",
       "      <td>48</td>\n",
       "      <td>0</td>\n",
       "      <td>0</td>\n",
       "      <td>25</td>\n",
       "      <td>15</td>\n",
       "      <td>221</td>\n",
       "      <td>2</td>\n",
       "      <td>11</td>\n",
       "      <td>9</td>\n",
       "    </tr>\n",
       "    <tr>\n",
       "      <th>Transport-moving</th>\n",
       "      <td>0</td>\n",
       "      <td>17</td>\n",
       "      <td>103</td>\n",
       "      <td>0</td>\n",
       "      <td>1012</td>\n",
       "      <td>17</td>\n",
       "      <td>93</td>\n",
       "      <td>34</td>\n",
       "      <td>1</td>\n",
       "      <td>0</td>\n",
       "      <td>8</td>\n",
       "      <td>12</td>\n",
       "      <td>254</td>\n",
       "      <td>10</td>\n",
       "      <td>29</td>\n",
       "      <td>7</td>\n",
       "    </tr>\n",
       "  </tbody>\n",
       "</table>\n",
       "</div>"
      ],
      "text/plain": [
       "income            <=50K                                             \\\n",
       "workclass             ? Federal-gov Local-gov Never-worked Private   \n",
       "occupation                                                           \n",
       "?                  1645           0         0            7       0   \n",
       "Adm-clerical          0         216       250            0    2512   \n",
       "Armed-Forces          0           8         0            0       0   \n",
       "Craft-repair          0          43       106            0    2474   \n",
       "Exec-managerial       0          88       112            0    1396   \n",
       "Farming-fishing       0           6        27            0     425   \n",
       "Handlers-cleaners     0          21        40            0    1200   \n",
       "Machine-op-inspct     0          12        10            0    1688   \n",
       "Other-service         0          32       181            0    2640   \n",
       "Priv-house-serv       0           0         0            0     148   \n",
       "Prof-specialty        0          80       451            0    1305   \n",
       "Protective-serv       0          14       169            0     160   \n",
       "Sales                 0           9         4            0    2258   \n",
       "Tech-support          0          43        23            0     515   \n",
       "Transport-moving      0          17       103            0    1012   \n",
       "\n",
       "income                                                                >50K  \\\n",
       "workclass         Self-emp-inc Self-emp-not-inc State-gov Without-pay    ?   \n",
       "occupation                                                                   \n",
       "?                            0                0         0           0  191   \n",
       "Adm-clerical                22               34       226           3    0   \n",
       "Armed-Forces                 0                0         0           0    0   \n",
       "Craft-repair                68              436        42           1    0   \n",
       "Exec-managerial            146              248       108           0    0   \n",
       "Farming-fishing             36              366        13           6    0   \n",
       "Handlers-cleaners            2               12         8           1    0   \n",
       "Machine-op-inspct            8               25         8           1    0   \n",
       "Other-service               21              163       120           1    0   \n",
       "Priv-house-serv              0                0         0           0    0   \n",
       "Prof-specialty              39              163       243           0    0   \n",
       "Protective-serv              3                5        87           0    0   \n",
       "Sales                      131              257         8           0    0   \n",
       "Tech-support                 1               15        48           0    0   \n",
       "Transport-moving            17               93        34           1    0   \n",
       "\n",
       "income                                                                         \\\n",
       "workclass         Federal-gov Local-gov Private Self-emp-inc Self-emp-not-inc   \n",
       "occupation                                                                      \n",
       "?                           0         0       0            0                0   \n",
       "Adm-clerical              101        33     321            9               16   \n",
       "Armed-Forces                1         0       0            0                0   \n",
       "Craft-repair               21        40     721           38               95   \n",
       "Exec-managerial            92       102    1295          254              144   \n",
       "Farming-fishing             2         2      30           15               64   \n",
       "Handlers-cleaners           2         7      73            0                3   \n",
       "Machine-op-inspct           2         2     225            5               11   \n",
       "Other-service               3        12     100            6               12   \n",
       "Priv-house-serv             0         0       1            0                0   \n",
       "Prof-specialty             95       254    1008          121              210   \n",
       "Protective-serv            14       135      30            2                1   \n",
       "Sales                       5         3     684          160              128   \n",
       "Tech-support               25        15     221            2               11   \n",
       "Transport-moving            8        12     254           10               29   \n",
       "\n",
       "income                       \n",
       "workclass         State-gov  \n",
       "occupation                   \n",
       "?                         0  \n",
       "Adm-clerical             27  \n",
       "Armed-Forces              0  \n",
       "Craft-repair             14  \n",
       "Exec-managerial          81  \n",
       "Farming-fishing           2  \n",
       "Handlers-cleaners         1  \n",
       "Machine-op-inspct         5  \n",
       "Other-service             4  \n",
       "Priv-house-serv           0  \n",
       "Prof-specialty          171  \n",
       "Protective-serv          29  \n",
       "Sales                     3  \n",
       "Tech-support              9  \n",
       "Transport-moving          7  "
      ]
     },
     "execution_count": 103,
     "metadata": {},
     "output_type": "execute_result"
    }
   ],
   "source": [
    "pd.crosstab(df.occupation, [df.income,df.workclass])"
   ]
  },
  {
   "cell_type": "code",
   "execution_count": 130,
   "metadata": {},
   "outputs": [
    {
     "data": {
      "text/plain": [
       "(array([395., 550., 712.,   0., 753., 720., 765.,   0., 877., 798., 841.,\n",
       "          0., 785., 835.,   0., 867., 813., 861.,   0., 888., 828., 875.,\n",
       "          0., 886., 876.,   0., 898., 858., 827.,   0., 816., 794., 808.,\n",
       "          0., 780., 770., 724.,   0., 734., 737.,   0., 708., 543., 577.,\n",
       "          0., 602., 595., 478.,   0., 464., 415.,   0., 419., 366., 358.,\n",
       "          0., 366., 355., 312.,   0., 300., 258.,   0., 230., 208., 178.,\n",
       "          0., 150., 151., 120.,   0., 108.,  89.,  72.,   0.,  67.,  64.,\n",
       "          0.,  51.,  45.,  46.,   0.,  29.,  23.,  22.,   0.,  22.,  20.,\n",
       "          0.,  12.,   6.,  10.,   0.,   3.,   1.,   1.,   0.,   3.,   0.,\n",
       "         43.]),\n",
       " array([17.  , 17.73, 18.46, 19.19, 19.92, 20.65, 21.38, 22.11, 22.84,\n",
       "        23.57, 24.3 , 25.03, 25.76, 26.49, 27.22, 27.95, 28.68, 29.41,\n",
       "        30.14, 30.87, 31.6 , 32.33, 33.06, 33.79, 34.52, 35.25, 35.98,\n",
       "        36.71, 37.44, 38.17, 38.9 , 39.63, 40.36, 41.09, 41.82, 42.55,\n",
       "        43.28, 44.01, 44.74, 45.47, 46.2 , 46.93, 47.66, 48.39, 49.12,\n",
       "        49.85, 50.58, 51.31, 52.04, 52.77, 53.5 , 54.23, 54.96, 55.69,\n",
       "        56.42, 57.15, 57.88, 58.61, 59.34, 60.07, 60.8 , 61.53, 62.26,\n",
       "        62.99, 63.72, 64.45, 65.18, 65.91, 66.64, 67.37, 68.1 , 68.83,\n",
       "        69.56, 70.29, 71.02, 71.75, 72.48, 73.21, 73.94, 74.67, 75.4 ,\n",
       "        76.13, 76.86, 77.59, 78.32, 79.05, 79.78, 80.51, 81.24, 81.97,\n",
       "        82.7 , 83.43, 84.16, 84.89, 85.62, 86.35, 87.08, 87.81, 88.54,\n",
       "        89.27, 90.  ]),\n",
       " <a list of 100 Patch objects>)"
      ]
     },
     "execution_count": 130,
     "metadata": {},
     "output_type": "execute_result"
    },
    {
     "data": {
      "image/png": "[encoded data removed]",
      "text/plain": [
       "<matplotlib.figure.Figure at 0xc2627b0>"
      ]
     },
     "metadata": {},
     "output_type": "display_data"
    }
   ],
   "source": [
    "plt.hist(df['age'].dropna(), bins=100)"
   ]
  },
  {
   "cell_type": "code",
   "execution_count": 9,
   "metadata": {},
   "outputs": [
    {
     "name": "stdout",
     "output_type": "stream",
     "text": [
      "income        <=50K  >50K\n",
      "capital.gain             \n",
      "0             23685  6164\n",
      "114               6     0\n",
      "401               2     0\n",
      "594              34     0\n",
      "914               8     0\n",
      "991               5     0\n",
      "1055             25     0\n",
      "1086              4     0\n",
      "1111              1     0\n",
      "1151              8     0\n",
      "1173              3     0\n",
      "1409              7     0\n",
      "1424              3     0\n",
      "1455              1     0\n",
      "1471              7     0\n",
      "1506             15     0\n",
      "1639              1     0\n",
      "1797              7     0\n",
      "1831              7     0\n",
      "1848              6     0\n",
      "2009              3     0\n",
      "2036              4     0\n",
      "2050              5     0\n",
      "2062              2     0\n",
      "2105              9     0\n",
      "2174             48     0\n",
      "2176             23     0\n",
      "2202             16     0\n",
      "2228              5     0\n",
      "2290              5     0\n",
      "...             ...   ...\n",
      "6767              5     0\n",
      "6849             27     0\n",
      "7298              0   246\n",
      "7430              0     9\n",
      "7443              5     0\n",
      "7688              0   284\n",
      "7896              0     3\n",
      "7978              1     0\n",
      "8614              0    55\n",
      "9386              0    22\n",
      "9562              0     4\n",
      "10520             0    43\n",
      "10566             6     0\n",
      "10605             0    12\n",
      "11678             0     2\n",
      "13550             0    27\n",
      "14084             0    41\n",
      "14344             0    26\n",
      "15020             0     5\n",
      "15024             0   347\n",
      "15831             0     6\n",
      "18481             0     2\n",
      "20051             0    37\n",
      "22040             1     0\n",
      "25124             0     4\n",
      "25236             0    11\n",
      "27828             0    34\n",
      "34095             5     0\n",
      "41310             2     0\n",
      "99999             0   159\n",
      "\n",
      "[119 rows x 2 columns]\n"
     ]
    },
    {
     "data": {
      "text/plain": [
       "<function matplotlib.pyplot.show>"
      ]
     },
     "execution_count": 9,
     "metadata": {},
     "output_type": "execute_result"
    },
    {
     "data": {
      "image/png": "[encoded data removed]",
      "text/plain": [
       "<matplotlib.figure.Figure at 0xa266b30>"
      ]
     },
     "metadata": {},
     "output_type": "display_data"
    }
   ],
   "source": [
    "# Grafico Raza e ingreso\n",
    "print( pd.crosstab(df['capital.gain'], df['income']) )\n",
    "ct=pd.crosstab(df['capital.gain'], df['income'])\n",
    "#ct.plot.line(stacked=True, figsize=(10,6), rot = 80 )\n",
    "ct.plot.bar(stacked=True, figsize=(40,6), rot = 80 )\n",
    "\n",
    "plt.legend(title='income')\n",
    "plt.show"
   ]
  },
  {
   "cell_type": "markdown",
   "metadata": {},
   "source": [
    "##  Desde esta section comensamos the analitic of Decision Tree\n",
    "\n",
    "## Los Datos del censo no estan modificados"
   ]
  },
  {
   "cell_type": "code",
   "execution_count": 28,
   "metadata": {},
   "outputs": [
    {
     "data": {
      "text/html": [
       "<div>\n",
       "<style scoped>\n",
       "    .dataframe tbody tr th:only-of-type {\n",
       "        vertical-align: middle;\n",
       "    }\n",
       "\n",
       "    .dataframe tbody tr th {\n",
       "        vertical-align: top;\n",
       "    }\n",
       "\n",
       "    .dataframe thead th {\n",
       "        text-align: right;\n",
       "    }\n",
       "</style>\n",
       "<table border=\"1\" class=\"dataframe\">\n",
       "  <thead>\n",
       "    <tr style=\"text-align: right;\">\n",
       "      <th></th>\n",
       "      <th>age</th>\n",
       "      <th>workclass</th>\n",
       "      <th>fnlwgt</th>\n",
       "      <th>education</th>\n",
       "      <th>education.num</th>\n",
       "      <th>marital.status</th>\n",
       "      <th>occupation</th>\n",
       "      <th>relationship</th>\n",
       "      <th>race</th>\n",
       "      <th>sex</th>\n",
       "      <th>capital.gain</th>\n",
       "      <th>capital.loss</th>\n",
       "      <th>hours.per.week</th>\n",
       "      <th>native.country</th>\n",
       "      <th>income</th>\n",
       "    </tr>\n",
       "  </thead>\n",
       "  <tbody>\n",
       "    <tr>\n",
       "      <th>0</th>\n",
       "      <td>90</td>\n",
       "      <td>?</td>\n",
       "      <td>77053</td>\n",
       "      <td>HS-grad</td>\n",
       "      <td>9</td>\n",
       "      <td>Widowed</td>\n",
       "      <td>?</td>\n",
       "      <td>Not-in-family</td>\n",
       "      <td>White</td>\n",
       "      <td>Female</td>\n",
       "      <td>0</td>\n",
       "      <td>4356</td>\n",
       "      <td>40</td>\n",
       "      <td>United-States</td>\n",
       "      <td>&lt;=50K</td>\n",
       "    </tr>\n",
       "    <tr>\n",
       "      <th>1</th>\n",
       "      <td>82</td>\n",
       "      <td>Private</td>\n",
       "      <td>132870</td>\n",
       "      <td>HS-grad</td>\n",
       "      <td>9</td>\n",
       "      <td>Widowed</td>\n",
       "      <td>Exec-managerial</td>\n",
       "      <td>Not-in-family</td>\n",
       "      <td>White</td>\n",
       "      <td>Female</td>\n",
       "      <td>0</td>\n",
       "      <td>4356</td>\n",
       "      <td>18</td>\n",
       "      <td>United-States</td>\n",
       "      <td>&lt;=50K</td>\n",
       "    </tr>\n",
       "    <tr>\n",
       "      <th>2</th>\n",
       "      <td>66</td>\n",
       "      <td>?</td>\n",
       "      <td>186061</td>\n",
       "      <td>Some-college</td>\n",
       "      <td>10</td>\n",
       "      <td>Widowed</td>\n",
       "      <td>?</td>\n",
       "      <td>Unmarried</td>\n",
       "      <td>Black</td>\n",
       "      <td>Female</td>\n",
       "      <td>0</td>\n",
       "      <td>4356</td>\n",
       "      <td>40</td>\n",
       "      <td>United-States</td>\n",
       "      <td>&lt;=50K</td>\n",
       "    </tr>\n",
       "    <tr>\n",
       "      <th>3</th>\n",
       "      <td>54</td>\n",
       "      <td>Private</td>\n",
       "      <td>140359</td>\n",
       "      <td>7th-8th</td>\n",
       "      <td>4</td>\n",
       "      <td>Divorced</td>\n",
       "      <td>Machine-op-inspct</td>\n",
       "      <td>Unmarried</td>\n",
       "      <td>White</td>\n",
       "      <td>Female</td>\n",
       "      <td>0</td>\n",
       "      <td>3900</td>\n",
       "      <td>40</td>\n",
       "      <td>United-States</td>\n",
       "      <td>&lt;=50K</td>\n",
       "    </tr>\n",
       "    <tr>\n",
       "      <th>4</th>\n",
       "      <td>41</td>\n",
       "      <td>Private</td>\n",
       "      <td>264663</td>\n",
       "      <td>Some-college</td>\n",
       "      <td>10</td>\n",
       "      <td>Separated</td>\n",
       "      <td>Prof-specialty</td>\n",
       "      <td>Own-child</td>\n",
       "      <td>White</td>\n",
       "      <td>Female</td>\n",
       "      <td>0</td>\n",
       "      <td>3900</td>\n",
       "      <td>40</td>\n",
       "      <td>United-States</td>\n",
       "      <td>&lt;=50K</td>\n",
       "    </tr>\n",
       "  </tbody>\n",
       "</table>\n",
       "</div>"
      ],
      "text/plain": [
       "   age workclass  fnlwgt     education  education.num marital.status  \\\n",
       "0   90         ?   77053       HS-grad              9        Widowed   \n",
       "1   82   Private  132870       HS-grad              9        Widowed   \n",
       "2   66         ?  186061  Some-college             10        Widowed   \n",
       "3   54   Private  140359       7th-8th              4       Divorced   \n",
       "4   41   Private  264663  Some-college             10      Separated   \n",
       "\n",
       "          occupation   relationship   race     sex  capital.gain  \\\n",
       "0                  ?  Not-in-family  White  Female             0   \n",
       "1    Exec-managerial  Not-in-family  White  Female             0   \n",
       "2                  ?      Unmarried  Black  Female             0   \n",
       "3  Machine-op-inspct      Unmarried  White  Female             0   \n",
       "4     Prof-specialty      Own-child  White  Female             0   \n",
       "\n",
       "   capital.loss  hours.per.week native.country income  \n",
       "0          4356              40  United-States  <=50K  \n",
       "1          4356              18  United-States  <=50K  \n",
       "2          4356              40  United-States  <=50K  \n",
       "3          3900              40  United-States  <=50K  \n",
       "4          3900              40  United-States  <=50K  "
      ]
     },
     "execution_count": 28,
     "metadata": {},
     "output_type": "execute_result"
    }
   ],
   "source": [
    "df.head()"
   ]
  },
  {
   "cell_type": "code",
   "execution_count": 29,
   "metadata": {},
   "outputs": [
    {
     "name": "stdout",
     "output_type": "stream",
     "text": [
      "Total = 32561 Registros\n",
      "sex:  ['Female' 'Male']\n",
      "race:  ['White' 'Black' 'Asian-Pac-Islander' 'Other' 'Amer-Indian-Eskimo']\n",
      "relationship:  ['Not-in-family' 'Unmarried' 'Own-child' 'Other-relative' 'Husband' 'Wife']\n",
      "marital.status:  ['Widowed' 'Divorced' 'Separated' 'Never-married' 'Married-civ-spouse'\n",
      " 'Married-spouse-absent' 'Married-AF-spouse']\n",
      "occupation:  ['?' 'Exec-managerial' 'Machine-op-inspct' 'Prof-specialty'\n",
      " 'Other-service' 'Adm-clerical' 'Craft-repair' 'Transport-moving'\n",
      " 'Handlers-cleaners' 'Sales' 'Farming-fishing' 'Tech-support'\n",
      " 'Protective-serv' 'Armed-Forces' 'Priv-house-serv']\n",
      "education:  ['HS-grad' 'Some-college' '7th-8th' '10th' 'Doctorate' 'Prof-school'\n",
      " 'Bachelors' 'Masters' '11th' 'Assoc-acdm' 'Assoc-voc' '1st-4th' '5th-6th'\n",
      " '12th' '9th' 'Preschool']\n",
      "workclass:  ['?' 'Private' 'State-gov' 'Federal-gov' 'Self-emp-not-inc' 'Self-emp-inc'\n",
      " 'Local-gov' 'Without-pay' 'Never-worked']\n",
      "native.country:  ['United-States' '?' 'Mexico' 'Greece' 'Vietnam' 'China' 'Taiwan' 'India'\n",
      " 'Philippines' 'Trinadad&Tobago' 'Canada' 'South' 'Holand-Netherlands'\n",
      " 'Puerto-Rico' 'Poland' 'Iran' 'England' 'Germany' 'Italy' 'Japan' 'Hong'\n",
      " 'Honduras' 'Cuba' 'Ireland' 'Cambodia' 'Peru' 'Nicaragua'\n",
      " 'Dominican-Republic' 'Haiti' 'El-Salvador' 'Hungary' 'Columbia'\n",
      " 'Guatemala' 'Jamaica' 'Ecuador' 'France' 'Yugoslavia' 'Scotland'\n",
      " 'Portugal' 'Laos' 'Thailand' 'Outlying-US(Guam-USVI-etc)']\n"
     ]
    }
   ],
   "source": [
    "#La variables con categoria\n",
    "print(f'Total = {len(df)} Registros')\n",
    "cat_vars = ['sex','race','relationship', 'marital.status','occupation', 'education','workclass','native.country']\n",
    "for var in cat_vars:\n",
    "    print(f'{var}: ', df[var].unique())"
   ]
  },
  {
   "cell_type": "markdown",
   "metadata": {},
   "source": [
    "## Procesando"
   ]
  },
  {
   "cell_type": "code",
   "execution_count": 91,
   "metadata": {},
   "outputs": [
    {
     "data": {
      "text/plain": [
       "0.8069162495009367"
      ]
     },
     "execution_count": 91,
     "metadata": {},
     "output_type": "execute_result"
    }
   ],
   "source": [
    "from sklearn.tree import DecisionTreeClassifier # algoritmo ID3  DecisionTreeRegressor and  DecisionTreeClassifier\n",
    "dtc=DecisionTreeClassifier(max_depth=3)\n",
    "# separamos las que estan en EJE X yEJE Y\n",
    "# drop= elimina de la columna en MEMORIA \n",
    "# axis= 1  siginica Columna y si es 0 fila\n",
    "X = df.drop(['income','workclass','education','marital.status','occupation','relationship','race','sex','native.country' ], axis=1)\n",
    "# X es una matriz\n",
    "y = df['income'] # ---> target (el objetivo)\n",
    "\n",
    "dtc=dtc.fit(X,y) \n",
    "\n",
    "# R^2: aplicamos R2 ganacia maxima\n",
    "dtc.score(X, y)"
   ]
  },
  {
   "cell_type": "markdown",
   "metadata": {},
   "source": [
    "Graficamos el arbol usando las siguentes librerias\n",
    "\n",
    "Instalar graphviz   (conda install graphviz)"
   ]
  },
  {
   "cell_type": "code",
   "execution_count": 96,
   "metadata": {},
   "outputs": [
    {
     "ename": "ModuleNotFoundError",
     "evalue": "No module named 'graphviz'",
     "output_type": "error",
     "traceback": [
      "\u001b[1;31m---------------------------------------------------------------------------\u001b[0m",
      "\u001b[1;31mModuleNotFoundError\u001b[0m                       Traceback (most recent call last)",
      "\u001b[1;32m<ipython-input-96-f0fac2cf7532>\u001b[0m in \u001b[0;36m<module>\u001b[1;34m()\u001b[0m\n\u001b[0;32m      1\u001b[0m \u001b[1;32mfrom\u001b[0m \u001b[0msklearn\u001b[0m \u001b[1;32mimport\u001b[0m \u001b[0mtree\u001b[0m\u001b[1;33m\u001b[0m\u001b[0m\n\u001b[1;32m----> 2\u001b[1;33m \u001b[1;32mimport\u001b[0m \u001b[0mgraphviz\u001b[0m\u001b[1;33m\u001b[0m\u001b[0m\n\u001b[0m",
      "\u001b[1;31mModuleNotFoundError\u001b[0m: No module named 'graphviz'"
     ]
    }
   ],
   "source": [
    "from sklearn import tree\n",
    "import graphviz "
   ]
  }
 ],
 "metadata": {
  "kernelspec": {
   "display_name": "Python 3",
   "language": "python",
   "name": "python3"
  },
  "language_info": {
   "codemirror_mode": {
    "name": "ipython",
    "version": 3
   },
   "file_extension": ".py",
   "mimetype": "text/x-python",
   "name": "python",
   "nbconvert_exporter": "python",
   "pygments_lexer": "ipython3",
   "version": "3.6.4"
  }
 },
 "nbformat": 4,
 "nbformat_minor": 2
}
